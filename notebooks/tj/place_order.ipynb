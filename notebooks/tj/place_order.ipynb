{
 "cells": [
  {
   "cell_type": "code",
   "execution_count": 1,
   "outputs": [],
   "source": [
    "%load_ext autoreload\n",
    "%autoreload 2"
   ],
   "metadata": {
    "collapsed": false,
    "ExecuteTime": {
     "end_time": "2023-10-15T05:32:16.450394Z",
     "start_time": "2023-10-15T05:32:16.422724Z"
    }
   },
   "id": "c8aaef9b450eb1c0"
  },
  {
   "cell_type": "code",
   "execution_count": 2,
   "outputs": [],
   "source": [
    "# Loading the api keys from your local .env file\n",
    "import os\n",
    "from dotenv import load_dotenv, find_dotenv\n",
    "\n",
    "load_dotenv(find_dotenv())\n",
    "\n",
    "binance_api_key = os.getenv('binanceAPIKey')\n",
    "binance_secret_key = os.getenv('binanceSecretKey')\n",
    "\n",
    "assert(binance_api_key and binance_secret_key)\n",
    "\n",
    "from binance import Client, ThreadedWebsocketManager, ThreadedDepthCacheManager\n",
    "\n",
    "client = Client(binance_api_key, binance_secret_key, testnet=True)"
   ],
   "metadata": {
    "collapsed": false,
    "ExecuteTime": {
     "end_time": "2023-10-15T05:32:17.724515Z",
     "start_time": "2023-10-15T05:32:16.452241Z"
    }
   },
   "id": "initial_id"
  },
  {
   "cell_type": "code",
   "execution_count": 3,
   "outputs": [
    {
     "data": {
      "text/plain": "{'makerCommission': 0,\n 'takerCommission': 0,\n 'buyerCommission': 0,\n 'sellerCommission': 0,\n 'commissionRates': {'maker': '0.00000000',\n  'taker': '0.00000000',\n  'buyer': '0.00000000',\n  'seller': '0.00000000'},\n 'canTrade': True,\n 'canWithdraw': False,\n 'canDeposit': False,\n 'brokered': False,\n 'requireSelfTradePrevention': False,\n 'preventSor': False,\n 'updateTime': 1697347736542,\n 'accountType': 'SPOT',\n 'balances': [{'asset': 'ETH', 'free': '1.00000000', 'locked': '0.00000000'},\n  {'asset': 'BTC', 'free': '1.00000000', 'locked': '0.00000000'},\n  {'asset': 'LTC', 'free': '7.00000000', 'locked': '0.00000000'},\n  {'asset': 'BNB', 'free': '2.00000000', 'locked': '0.00000000'},\n  {'asset': 'USDT', 'free': '10000.00000000', 'locked': '0.00000000'},\n  {'asset': 'TRX', 'free': '5628.00000000', 'locked': '0.00000000'},\n  {'asset': 'XRP', 'free': '934.00000000', 'locked': '0.00000000'},\n  {'asset': 'BUSD', 'free': '10000.00000000', 'locked': '0.00000000'},\n  {'asset': 'NEO', 'free': '70.00000000', 'locked': '0.00000000'},\n  {'asset': 'QTUM', 'free': '228.00000000', 'locked': '0.00000000'},\n  {'asset': 'EOS', 'free': '863.00000000', 'locked': '0.00000000'},\n  {'asset': 'SNT', 'free': '18400.00000000', 'locked': '0.00000000'},\n  {'asset': 'BNT', 'free': '1262.00000000', 'locked': '0.00000000'},\n  {'asset': 'GAS', 'free': '217.00000000', 'locked': '0.00000000'},\n  {'asset': 'WTC', 'free': '3238.00000000', 'locked': '0.00000000'},\n  {'asset': 'LRC', 'free': '2829.00000000', 'locked': '0.00000000'},\n  {'asset': 'ZRX', 'free': '2755.00000000', 'locked': '0.00000000'},\n  {'asset': 'KNC', 'free': '780.00000000', 'locked': '0.00000000'},\n  {'asset': 'FUN', 'free': '18400.00000000', 'locked': '0.00000000'},\n  {'asset': 'IOTA', 'free': '3328.00000000', 'locked': '0.00000000'},\n  {'asset': 'LINK', 'free': '66.00000000', 'locked': '0.00000000'},\n  {'asset': 'XVG', 'free': '18400.00000000', 'locked': '0.00000000'},\n  {'asset': 'MTL', 'free': '400.00000000', 'locked': '0.00000000'},\n  {'asset': 'ETC', 'free': '32.00000000', 'locked': '0.00000000'},\n  {'asset': 'ZEC', 'free': '18.00000000', 'locked': '0.00000000'},\n  {'asset': 'AST', 'free': '5707.00000000', 'locked': '0.00000000'},\n  {'asset': 'DASH', 'free': '18.00000000', 'locked': '0.00000000'},\n  {'asset': 'OAX', 'free': '3087.00000000', 'locked': '0.00000000'},\n  {'asset': 'REQ', 'free': '7923.00000000', 'locked': '0.00000000'},\n  {'asset': 'VIB', 'free': '11222.00000000', 'locked': '0.00000000'},\n  {'asset': 'POWR', 'free': '3305.00000000', 'locked': '0.00000000'},\n  {'asset': 'ENJ', 'free': '2241.00000000', 'locked': '0.00000000'},\n  {'asset': 'STORJ', 'free': '1164.00000000', 'locked': '0.00000000'},\n  {'asset': 'KMD', 'free': '2260.00000000', 'locked': '0.00000000'},\n  {'asset': 'NULS', 'free': '2834.00000000', 'locked': '0.00000000'},\n  {'asset': 'XMR', 'free': '3.00000000', 'locked': '0.00000000'},\n  {'asset': 'AMB', 'free': '18400.00000000', 'locked': '0.00000000'},\n  {'asset': 'BAT', 'free': '2877.00000000', 'locked': '0.00000000'},\n  {'asset': 'LSK', 'free': '670.00000000', 'locked': '0.00000000'},\n  {'asset': 'MANA', 'free': '1683.00000000', 'locked': '0.00000000'},\n  {'asset': 'ADX', 'free': '3610.00000000', 'locked': '0.00000000'},\n  {'asset': 'ADA', 'free': '1948.00000000', 'locked': '0.00000000'},\n  {'asset': 'XLM', 'free': '4436.00000000', 'locked': '0.00000000'},\n  {'asset': 'WAVES', 'free': '331.00000000', 'locked': '0.00000000'},\n  {'asset': 'ICX', 'free': '2944.00000000', 'locked': '0.00000000'},\n  {'asset': 'ELF', 'free': '1443.00000000', 'locked': '0.00000000'},\n  {'asset': 'RLC', 'free': '492.00000000', 'locked': '0.00000000'},\n  {'asset': 'PIVX', 'free': '2668.00000000', 'locked': '0.00000000'},\n  {'asset': 'IOST', 'free': '18400.00000000', 'locked': '0.00000000'},\n  {'asset': 'STEEM', 'free': '2881.00000000', 'locked': '0.00000000'},\n  {'asset': 'BLZ', 'free': '3792.00000000', 'locked': '0.00000000'},\n  {'asset': 'ZIL', 'free': '18400.00000000', 'locked': '0.00000000'},\n  {'asset': 'ONT', 'free': '3020.00000000', 'locked': '0.00000000'},\n  {'asset': 'WAN', 'free': '2735.00000000', 'locked': '0.00000000'},\n  {'asset': 'SYS', 'free': '5837.00000000', 'locked': '0.00000000'},\n  {'asset': 'LOOM', 'free': '4277.00000000', 'locked': '0.00000000'},\n  {'asset': 'TUSD', 'free': '10000.00000000', 'locked': '0.00000000'},\n  {'asset': 'ZEN', 'free': '63.00000000', 'locked': '0.00000000'},\n  {'asset': 'THETA', 'free': '807.00000000', 'locked': '0.00000000'},\n  {'asset': 'IOTX', 'free': '18400.00000000', 'locked': '0.00000000'},\n  {'asset': 'QKC', 'free': '18400.00000000', 'locked': '0.00000000'},\n  {'asset': 'DATA', 'free': '18400.00000000', 'locked': '0.00000000'},\n  {'asset': 'SC', 'free': '18400.00000000', 'locked': '0.00000000'},\n  {'asset': 'DENT', 'free': '18400.00000000', 'locked': '0.00000000'},\n  {'asset': 'ARDR', 'free': '7440.00000000', 'locked': '0.00000000'},\n  {'asset': 'HOT', 'free': '18400.00000000', 'locked': '0.00000000'},\n  {'asset': 'VET', 'free': '18400.00000000', 'locked': '0.00000000'},\n  {'asset': 'DOCK', 'free': '18400.00000000', 'locked': '0.00000000'},\n  {'asset': 'RVN', 'free': '18400.00000000', 'locked': '0.00000000'},\n  {'asset': 'DCR', 'free': '38.00000000', 'locked': '0.00000000'},\n  {'asset': 'REN', 'free': '11262.00000000', 'locked': '0.00000000'},\n  {'asset': 'USDC', 'free': '10000.00000000', 'locked': '0.00000000'},\n  {'asset': 'ONG', 'free': '2254.00000000', 'locked': '0.00000000'},\n  {'asset': 'FET', 'free': '2276.00000000', 'locked': '0.00000000'},\n  {'asset': 'CELR', 'free': '18400.00000000', 'locked': '0.00000000'},\n  {'asset': 'OMG', 'free': '1087.00000000', 'locked': '0.00000000'},\n  {'asset': 'MATIC', 'free': '856.00000000', 'locked': '0.00000000'},\n  {'asset': 'ATOM', 'free': '71.00000000', 'locked': '0.00000000'},\n  {'asset': 'PHB', 'free': '817.00000000', 'locked': '0.00000000'},\n  {'asset': 'TFUEL', 'free': '15274.00000000', 'locked': '0.00000000'},\n  {'asset': 'ONE', 'free': '18400.00000000', 'locked': '0.00000000'},\n  {'asset': 'FTM', 'free': '2499.00000000', 'locked': '0.00000000'},\n  {'asset': 'ALGO', 'free': '5030.00000000', 'locked': '0.00000000'},\n  {'asset': 'DOGE', 'free': '8190.00000000', 'locked': '0.00000000'},\n  {'asset': 'DUSK', 'free': '4501.00000000', 'locked': '0.00000000'},\n  {'asset': 'ANKR', 'free': '18400.00000000', 'locked': '0.00000000'},\n  {'asset': 'WIN', 'free': '18400.00000000', 'locked': '0.00000000'},\n  {'asset': 'COS', 'free': '18400.00000000', 'locked': '0.00000000'},\n  {'asset': 'TOMO', 'free': '360.00000000', 'locked': '0.00000000'},\n  {'asset': 'PERL', 'free': '18400.00000000', 'locked': '0.00000000'},\n  {'asset': 'KEY', 'free': '18400.00000000', 'locked': '0.00000000'},\n  {'asset': 'CVC', 'free': '6496.00000000', 'locked': '0.00000000'},\n  {'asset': 'CHZ', 'free': '8274.00000000', 'locked': '0.00000000'},\n  {'asset': 'BAND', 'free': '445.00000000', 'locked': '0.00000000'},\n  {'asset': 'XTZ', 'free': '741.00000000', 'locked': '0.00000000'},\n  {'asset': 'HBAR', 'free': '10308.00000000', 'locked': '0.00000000'},\n  {'asset': 'NKN', 'free': '5843.00000000', 'locked': '0.00000000'},\n  {'asset': 'STX', 'free': '1026.00000000', 'locked': '0.00000000'},\n  {'asset': 'KAVA', 'free': '813.00000000', 'locked': '0.00000000'},\n  {'asset': 'NGN', 'free': '1.00000000', 'locked': '0.00000000'},\n  {'asset': 'ARPA', 'free': '11608.00000000', 'locked': '0.00000000'},\n  {'asset': 'CTXC', 'free': '4088.00000000', 'locked': '0.00000000'},\n  {'asset': 'BCH', 'free': '2.00000000', 'locked': '0.00000000'},\n  {'asset': 'RUB', 'free': '4.00000000', 'locked': '0.00000000'},\n  {'asset': 'TROY', 'free': '18400.00000000', 'locked': '0.00000000'},\n  {'asset': 'VITE', 'free': '18400.00000000', 'locked': '0.00000000'},\n  {'asset': 'FTT', 'free': '412.00000000', 'locked': '0.00000000'},\n  {'asset': 'TRY', 'free': '17.00000000', 'locked': '0.00000000'},\n  {'asset': 'EUR', 'free': '476.00000000', 'locked': '0.00000000'},\n  {'asset': 'OGN', 'free': '3995.00000000', 'locked': '0.00000000'},\n  {'asset': 'DREP', 'free': '2074.00000000', 'locked': '0.00000000'},\n  {'asset': 'WRX', 'free': '5302.00000000', 'locked': '0.00000000'},\n  {'asset': 'BTS', 'free': '18400.00000000', 'locked': '0.00000000'},\n  {'asset': 'LTO', 'free': '8771.00000000', 'locked': '0.00000000'},\n  {'asset': 'MBL', 'free': '18400.00000000', 'locked': '0.00000000'},\n  {'asset': 'COTI', 'free': '12531.00000000', 'locked': '0.00000000'},\n  {'asset': 'STPT', 'free': '9441.00000000', 'locked': '0.00000000'},\n  {'asset': 'ZAR', 'free': '25.00000000', 'locked': '0.00000000'},\n  {'asset': 'SOL', 'free': '21.00000000', 'locked': '0.00000000'},\n  {'asset': 'CTSI', 'free': '3891.00000000', 'locked': '0.00000000'},\n  {'asset': 'HIVE', 'free': '1648.00000000', 'locked': '0.00000000'},\n  {'asset': 'CHR', 'free': '5133.00000000', 'locked': '0.00000000'},\n  {'asset': 'MDT', 'free': '10633.00000000', 'locked': '0.00000000'},\n  {'asset': 'STMX', 'free': '18400.00000000', 'locked': '0.00000000'},\n  {'asset': 'PNT', 'free': '3697.00000000', 'locked': '0.00000000'},\n  {'asset': 'GBP', 'free': '413.00000000', 'locked': '0.00000000'},\n  {'asset': 'DGB', 'free': '18400.00000000', 'locked': '0.00000000'},\n  {'asset': 'UAH', 'free': '12.00000000', 'locked': '0.00000000'},\n  {'asset': 'COMP', 'free': '11.00000000', 'locked': '0.00000000'},\n  {'asset': 'SXP', 'free': '1830.00000000', 'locked': '0.00000000'},\n  {'asset': 'SNX', 'free': '246.00000000', 'locked': '0.00000000'},\n  {'asset': 'VTHO', 'free': '18400.00000000', 'locked': '0.00000000'},\n  {'asset': 'IRIS', 'free': '18400.00000000', 'locked': '0.00000000'},\n  {'asset': 'MKR', 'free': '1.00000000', 'locked': '0.00000000'},\n  {'asset': 'RUNE', 'free': '254.00000000', 'locked': '0.00000000'},\n  {'asset': 'FIO', 'free': '18400.00000000', 'locked': '0.00000000'},\n  {'asset': 'AVA', 'free': '1095.00000000', 'locked': '0.00000000'},\n  {'asset': 'BAL', 'free': '153.00000000', 'locked': '0.00000000'},\n  {'asset': 'YFI', 'free': '1.00000000', 'locked': '0.00000000'},\n  {'asset': 'DAI', 'free': '491.00000000', 'locked': '0.00000000'},\n  {'asset': 'JST', 'free': '18400.00000000', 'locked': '0.00000000'},\n  {'asset': 'ANT', 'free': '102.00000000', 'locked': '0.00000000'},\n  {'asset': 'CRV', 'free': '1030.00000000', 'locked': '0.00000000'},\n  {'asset': 'SAND', 'free': '1691.00000000', 'locked': '0.00000000'},\n  {'asset': 'OCEAN', 'free': '1640.00000000', 'locked': '0.00000000'},\n  {'asset': 'NMR', 'free': '39.00000000', 'locked': '0.00000000'},\n  {'asset': 'DOT', 'free': '123.00000000', 'locked': '0.00000000'},\n  {'asset': 'LUNA', 'free': '1136.00000000', 'locked': '0.00000000'},\n  {'asset': 'IDEX', 'free': '10840.00000000', 'locked': '0.00000000'},\n  {'asset': 'RSR', 'free': '18400.00000000', 'locked': '0.00000000'},\n  {'asset': 'PAXG', 'free': '1.00000000', 'locked': '0.00000000'},\n  {'asset': 'WNXM', 'free': '16.00000000', 'locked': '0.00000000'},\n  {'asset': 'TRB', 'free': '10.00000000', 'locked': '0.00000000'},\n  {'asset': 'WBTC', 'free': '1.00000000', 'locked': '0.00000000'},\n  {'asset': 'SUSHI', 'free': '863.00000000', 'locked': '0.00000000'},\n  {'asset': 'KSM', 'free': '26.00000000', 'locked': '0.00000000'},\n  {'asset': 'EGLD', 'free': '20.00000000', 'locked': '0.00000000'},\n  {'asset': 'DIA', 'free': '2011.00000000', 'locked': '0.00000000'},\n  {'asset': 'UMA', 'free': '369.00000000', 'locked': '0.00000000'},\n  {'asset': 'BEL', 'free': '837.00000000', 'locked': '0.00000000'},\n  {'asset': 'WING', 'free': '90.00000000', 'locked': '0.00000000'},\n  {'asset': 'UNI', 'free': '115.00000000', 'locked': '0.00000000'},\n  {'asset': 'OXT', 'free': '7686.00000000', 'locked': '0.00000000'},\n  {'asset': 'SUN', 'free': '18400.00000000', 'locked': '0.00000000'},\n  {'asset': 'AVAX', 'free': '51.00000000', 'locked': '0.00000000'},\n  {'asset': 'BAKE', 'free': '3485.00000000', 'locked': '0.00000000'},\n  {'asset': 'FLM', 'free': '6576.00000000', 'locked': '0.00000000'},\n  {'asset': 'SCRT', 'free': '1861.00000000', 'locked': '0.00000000'},\n  {'asset': 'CAKE', 'free': '422.00000000', 'locked': '0.00000000'},\n  {'asset': 'ORN', 'free': '980.00000000', 'locked': '0.00000000'},\n  {'asset': 'UTK', 'free': '8965.00000000', 'locked': '0.00000000'},\n  {'asset': 'XVS', 'free': '98.00000000', 'locked': '0.00000000'},\n  {'asset': 'ALPHA', 'free': '6622.00000000', 'locked': '0.00000000'},\n  {'asset': 'VIDT', 'free': '18400.00000000', 'locked': '0.00000000'},\n  {'asset': 'AAVE', 'free': '7.00000000', 'locked': '0.00000000'},\n  {'asset': 'BRL', 'free': '97.00000000', 'locked': '0.00000000'},\n  {'asset': 'NEAR', 'free': '459.00000000', 'locked': '0.00000000'},\n  {'asset': 'FIL', 'free': '151.00000000', 'locked': '0.00000000'},\n  {'asset': 'INJ', 'free': '66.00000000', 'locked': '0.00000000'},\n  {'asset': 'AERGO', 'free': '4882.00000000', 'locked': '0.00000000'}],\n 'permissions': ['SPOT'],\n 'uid': 1697347736516771588}"
     },
     "execution_count": 3,
     "metadata": {},
     "output_type": "execute_result"
    }
   ],
   "source": [
    "info = client.get_account()\n",
    "info\n"
   ],
   "metadata": {
    "collapsed": false,
    "ExecuteTime": {
     "end_time": "2023-10-15T05:32:46.010644Z",
     "start_time": "2023-10-15T05:32:45.531283Z"
    }
   },
   "id": "551aa1489efb83dc"
  },
  {
   "cell_type": "code",
   "execution_count": 9,
   "outputs": [
    {
     "name": "stdout",
     "output_type": "stream",
     "text": [
      "0.00770254\n"
     ]
    },
    {
     "ename": "BinanceAPIException",
     "evalue": "APIError(code=-1013): Filter failure: PRICE_FILTER",
     "output_type": "error",
     "traceback": [
      "\u001B[0;31m---------------------------------------------------------------------------\u001B[0m",
      "\u001B[0;31mBinanceAPIException\u001B[0m                       Traceback (most recent call last)",
      "Cell \u001B[0;32mIn[9], line 6\u001B[0m\n\u001B[1;32m      3\u001B[0m avg_price \u001B[38;5;241m=\u001B[39m client\u001B[38;5;241m.\u001B[39mget_avg_price(symbol\u001B[38;5;241m=\u001B[39m\u001B[38;5;124m'\u001B[39m\u001B[38;5;124mBNBBTC\u001B[39m\u001B[38;5;124m'\u001B[39m)\n\u001B[1;32m      5\u001B[0m \u001B[38;5;28mprint\u001B[39m(avg_price[\u001B[38;5;124m'\u001B[39m\u001B[38;5;124mprice\u001B[39m\u001B[38;5;124m'\u001B[39m])\n\u001B[0;32m----> 6\u001B[0m order \u001B[38;5;241m=\u001B[39m \u001B[43mclient\u001B[49m\u001B[38;5;241;43m.\u001B[39;49m\u001B[43mcreate_test_order\u001B[49m\u001B[43m(\u001B[49m\n\u001B[1;32m      7\u001B[0m \u001B[43m    \u001B[49m\u001B[43msymbol\u001B[49m\u001B[38;5;241;43m=\u001B[39;49m\u001B[38;5;124;43m'\u001B[39;49m\u001B[38;5;124;43mBNBBTC\u001B[39;49m\u001B[38;5;124;43m'\u001B[39;49m\u001B[43m,\u001B[49m\n\u001B[1;32m      8\u001B[0m \u001B[43m    \u001B[49m\u001B[43mside\u001B[49m\u001B[38;5;241;43m=\u001B[39;49m\u001B[43mSIDE_BUY\u001B[49m\u001B[43m,\u001B[49m\n\u001B[1;32m      9\u001B[0m \u001B[43m    \u001B[49m\u001B[38;5;28;43mtype\u001B[39;49m\u001B[38;5;241;43m=\u001B[39;49m\u001B[43mORDER_TYPE_LIMIT\u001B[49m\u001B[43m,\u001B[49m\n\u001B[1;32m     10\u001B[0m \u001B[43m    \u001B[49m\u001B[43mtimeInForce\u001B[49m\u001B[38;5;241;43m=\u001B[39;49m\u001B[43mTIME_IN_FORCE_GTC\u001B[49m\u001B[43m,\u001B[49m\n\u001B[1;32m     11\u001B[0m \u001B[43m    \u001B[49m\u001B[43mquantity\u001B[49m\u001B[38;5;241;43m=\u001B[39;49m\u001B[38;5;241;43m100\u001B[39;49m\u001B[43m,\u001B[49m\n\u001B[1;32m     12\u001B[0m \u001B[43m    \u001B[49m\u001B[43mprice\u001B[49m\u001B[38;5;241;43m=\u001B[39;49m\u001B[38;5;28;43mstr\u001B[39;49m\u001B[43m(\u001B[49m\u001B[43mavg_price\u001B[49m\u001B[43m[\u001B[49m\u001B[38;5;124;43m'\u001B[39;49m\u001B[38;5;124;43mprice\u001B[39;49m\u001B[38;5;124;43m'\u001B[39;49m\u001B[43m]\u001B[49m\u001B[43m)\u001B[49m\u001B[43m)\u001B[49m\n",
      "File \u001B[0;32m~/opt/anaconda3/lib/python3.9/site-packages/binance/client.py:1826\u001B[0m, in \u001B[0;36mClient.create_test_order\u001B[0;34m(self, **params)\u001B[0m\n\u001B[1;32m   1790\u001B[0m \u001B[38;5;28;01mdef\u001B[39;00m \u001B[38;5;21mcreate_test_order\u001B[39m(\u001B[38;5;28mself\u001B[39m, \u001B[38;5;241m*\u001B[39m\u001B[38;5;241m*\u001B[39mparams):\n\u001B[1;32m   1791\u001B[0m \u001B[38;5;250m    \u001B[39m\u001B[38;5;124;03m\"\"\"Test new order creation and signature/recvWindow long. Creates and validates a new order but does not send it into the matching engine.\u001B[39;00m\n\u001B[1;32m   1792\u001B[0m \n\u001B[1;32m   1793\u001B[0m \u001B[38;5;124;03m    https://binance-docs.github.io/apidocs/spot/en/#test-new-order-trade\u001B[39;00m\n\u001B[0;32m   (...)\u001B[0m\n\u001B[1;32m   1824\u001B[0m \n\u001B[1;32m   1825\u001B[0m \u001B[38;5;124;03m    \"\"\"\u001B[39;00m\n\u001B[0;32m-> 1826\u001B[0m     \u001B[38;5;28;01mreturn\u001B[39;00m \u001B[38;5;28;43mself\u001B[39;49m\u001B[38;5;241;43m.\u001B[39;49m\u001B[43m_post\u001B[49m\u001B[43m(\u001B[49m\u001B[38;5;124;43m'\u001B[39;49m\u001B[38;5;124;43morder/test\u001B[39;49m\u001B[38;5;124;43m'\u001B[39;49m\u001B[43m,\u001B[49m\u001B[43m \u001B[49m\u001B[38;5;28;43;01mTrue\u001B[39;49;00m\u001B[43m,\u001B[49m\u001B[43m \u001B[49m\u001B[43mdata\u001B[49m\u001B[38;5;241;43m=\u001B[39;49m\u001B[43mparams\u001B[49m\u001B[43m)\u001B[49m\n",
      "File \u001B[0;32m~/opt/anaconda3/lib/python3.9/site-packages/binance/client.py:418\u001B[0m, in \u001B[0;36mClient._post\u001B[0;34m(self, path, signed, version, **kwargs)\u001B[0m\n\u001B[1;32m    417\u001B[0m \u001B[38;5;28;01mdef\u001B[39;00m \u001B[38;5;21m_post\u001B[39m(\u001B[38;5;28mself\u001B[39m, path, signed\u001B[38;5;241m=\u001B[39m\u001B[38;5;28;01mFalse\u001B[39;00m, version\u001B[38;5;241m=\u001B[39mBaseClient\u001B[38;5;241m.\u001B[39mPUBLIC_API_VERSION, \u001B[38;5;241m*\u001B[39m\u001B[38;5;241m*\u001B[39mkwargs) \u001B[38;5;241m-\u001B[39m\u001B[38;5;241m>\u001B[39m Dict:\n\u001B[0;32m--> 418\u001B[0m     \u001B[38;5;28;01mreturn\u001B[39;00m \u001B[38;5;28;43mself\u001B[39;49m\u001B[38;5;241;43m.\u001B[39;49m\u001B[43m_request_api\u001B[49m\u001B[43m(\u001B[49m\u001B[38;5;124;43m'\u001B[39;49m\u001B[38;5;124;43mpost\u001B[39;49m\u001B[38;5;124;43m'\u001B[39;49m\u001B[43m,\u001B[49m\u001B[43m \u001B[49m\u001B[43mpath\u001B[49m\u001B[43m,\u001B[49m\u001B[43m \u001B[49m\u001B[43msigned\u001B[49m\u001B[43m,\u001B[49m\u001B[43m \u001B[49m\u001B[43mversion\u001B[49m\u001B[43m,\u001B[49m\u001B[43m \u001B[49m\u001B[38;5;241;43m*\u001B[39;49m\u001B[38;5;241;43m*\u001B[39;49m\u001B[43mkwargs\u001B[49m\u001B[43m)\u001B[49m\n",
      "File \u001B[0;32m~/opt/anaconda3/lib/python3.9/site-packages/binance/client.py:378\u001B[0m, in \u001B[0;36mClient._request_api\u001B[0;34m(self, method, path, signed, version, **kwargs)\u001B[0m\n\u001B[1;32m    374\u001B[0m \u001B[38;5;28;01mdef\u001B[39;00m \u001B[38;5;21m_request_api\u001B[39m(\n\u001B[1;32m    375\u001B[0m     \u001B[38;5;28mself\u001B[39m, method, path: \u001B[38;5;28mstr\u001B[39m, signed: \u001B[38;5;28mbool\u001B[39m \u001B[38;5;241m=\u001B[39m \u001B[38;5;28;01mFalse\u001B[39;00m, version\u001B[38;5;241m=\u001B[39mBaseClient\u001B[38;5;241m.\u001B[39mPUBLIC_API_VERSION, \u001B[38;5;241m*\u001B[39m\u001B[38;5;241m*\u001B[39mkwargs\n\u001B[1;32m    376\u001B[0m ):\n\u001B[1;32m    377\u001B[0m     uri \u001B[38;5;241m=\u001B[39m \u001B[38;5;28mself\u001B[39m\u001B[38;5;241m.\u001B[39m_create_api_uri(path, signed, version)\n\u001B[0;32m--> 378\u001B[0m     \u001B[38;5;28;01mreturn\u001B[39;00m \u001B[38;5;28;43mself\u001B[39;49m\u001B[38;5;241;43m.\u001B[39;49m\u001B[43m_request\u001B[49m\u001B[43m(\u001B[49m\u001B[43mmethod\u001B[49m\u001B[43m,\u001B[49m\u001B[43m \u001B[49m\u001B[43muri\u001B[49m\u001B[43m,\u001B[49m\u001B[43m \u001B[49m\u001B[43msigned\u001B[49m\u001B[43m,\u001B[49m\u001B[43m \u001B[49m\u001B[38;5;241;43m*\u001B[39;49m\u001B[38;5;241;43m*\u001B[39;49m\u001B[43mkwargs\u001B[49m\u001B[43m)\u001B[49m\n",
      "File \u001B[0;32m~/opt/anaconda3/lib/python3.9/site-packages/binance/client.py:359\u001B[0m, in \u001B[0;36mClient._request\u001B[0;34m(self, method, uri, signed, force_params, **kwargs)\u001B[0m\n\u001B[1;32m    356\u001B[0m kwargs \u001B[38;5;241m=\u001B[39m \u001B[38;5;28mself\u001B[39m\u001B[38;5;241m.\u001B[39m_get_request_kwargs(method, signed, force_params, \u001B[38;5;241m*\u001B[39m\u001B[38;5;241m*\u001B[39mkwargs)\n\u001B[1;32m    358\u001B[0m \u001B[38;5;28mself\u001B[39m\u001B[38;5;241m.\u001B[39mresponse \u001B[38;5;241m=\u001B[39m \u001B[38;5;28mgetattr\u001B[39m(\u001B[38;5;28mself\u001B[39m\u001B[38;5;241m.\u001B[39msession, method)(uri, \u001B[38;5;241m*\u001B[39m\u001B[38;5;241m*\u001B[39mkwargs)\n\u001B[0;32m--> 359\u001B[0m \u001B[38;5;28;01mreturn\u001B[39;00m \u001B[38;5;28;43mself\u001B[39;49m\u001B[38;5;241;43m.\u001B[39;49m\u001B[43m_handle_response\u001B[49m\u001B[43m(\u001B[49m\u001B[38;5;28;43mself\u001B[39;49m\u001B[38;5;241;43m.\u001B[39;49m\u001B[43mresponse\u001B[49m\u001B[43m)\u001B[49m\n",
      "File \u001B[0;32m~/opt/anaconda3/lib/python3.9/site-packages/binance/client.py:368\u001B[0m, in \u001B[0;36mClient._handle_response\u001B[0;34m(response)\u001B[0m\n\u001B[1;32m    363\u001B[0m \u001B[38;5;250m\u001B[39m\u001B[38;5;124;03m\"\"\"Internal helper for handling API responses from the Binance server.\u001B[39;00m\n\u001B[1;32m    364\u001B[0m \u001B[38;5;124;03mRaises the appropriate exceptions when necessary; otherwise, returns the\u001B[39;00m\n\u001B[1;32m    365\u001B[0m \u001B[38;5;124;03mresponse.\u001B[39;00m\n\u001B[1;32m    366\u001B[0m \u001B[38;5;124;03m\"\"\"\u001B[39;00m\n\u001B[1;32m    367\u001B[0m \u001B[38;5;28;01mif\u001B[39;00m \u001B[38;5;129;01mnot\u001B[39;00m (\u001B[38;5;241m200\u001B[39m \u001B[38;5;241m<\u001B[39m\u001B[38;5;241m=\u001B[39m response\u001B[38;5;241m.\u001B[39mstatus_code \u001B[38;5;241m<\u001B[39m \u001B[38;5;241m300\u001B[39m):\n\u001B[0;32m--> 368\u001B[0m     \u001B[38;5;28;01mraise\u001B[39;00m BinanceAPIException(response, response\u001B[38;5;241m.\u001B[39mstatus_code, response\u001B[38;5;241m.\u001B[39mtext)\n\u001B[1;32m    369\u001B[0m \u001B[38;5;28;01mtry\u001B[39;00m:\n\u001B[1;32m    370\u001B[0m     \u001B[38;5;28;01mreturn\u001B[39;00m response\u001B[38;5;241m.\u001B[39mjson()\n",
      "\u001B[0;31mBinanceAPIException\u001B[0m: APIError(code=-1013): Filter failure: PRICE_FILTER"
     ]
    }
   ],
   "source": [
    "from binance.enums import *\n",
    "\n",
    "avg_price = client.get_avg_price(symbol='BNBBTC')\n",
    "\n",
    "print(avg_price['price'])\n",
    "order = client.create_test_order(\n",
    "    symbol='BNBBTC',\n",
    "    side=SIDE_BUY,\n",
    "    type=ORDER_TYPE_LIMIT,\n",
    "    timeInForce=TIME_IN_FORCE_GTC,\n",
    "    quantity=100,\n",
    "    price=avg_price['price'])"
   ],
   "metadata": {
    "collapsed": false,
    "ExecuteTime": {
     "end_time": "2023-10-15T05:35:17.388928Z",
     "start_time": "2023-10-15T05:35:16.500982Z"
    }
   },
   "id": "96fc4e2ec84273f7"
  },
  {
   "cell_type": "code",
   "execution_count": 10,
   "outputs": [
    {
     "data": {
      "text/plain": "{'symbol': 'BNBBTC',\n 'status': 'TRADING',\n 'baseAsset': 'BNB',\n 'baseAssetPrecision': 8,\n 'quoteAsset': 'BTC',\n 'quotePrecision': 8,\n 'quoteAssetPrecision': 8,\n 'baseCommissionPrecision': 8,\n 'quoteCommissionPrecision': 8,\n 'orderTypes': ['LIMIT',\n  'LIMIT_MAKER',\n  'MARKET',\n  'STOP_LOSS_LIMIT',\n  'TAKE_PROFIT_LIMIT'],\n 'icebergAllowed': True,\n 'ocoAllowed': True,\n 'quoteOrderQtyMarketAllowed': True,\n 'allowTrailingStop': True,\n 'cancelReplaceAllowed': True,\n 'isSpotTradingAllowed': True,\n 'isMarginTradingAllowed': True,\n 'filters': [{'filterType': 'PRICE_FILTER',\n   'minPrice': '0.00000100',\n   'maxPrice': '100000.00000000',\n   'tickSize': '0.00000100'},\n  {'filterType': 'LOT_SIZE',\n   'minQty': '0.00100000',\n   'maxQty': '100000.00000000',\n   'stepSize': '0.00100000'},\n  {'filterType': 'ICEBERG_PARTS', 'limit': 10},\n  {'filterType': 'MARKET_LOT_SIZE',\n   'minQty': '0.00000000',\n   'maxQty': '3581.76609205',\n   'stepSize': '0.00000000'},\n  {'filterType': 'TRAILING_DELTA',\n   'minTrailingAboveDelta': 10,\n   'maxTrailingAboveDelta': 2000,\n   'minTrailingBelowDelta': 10,\n   'maxTrailingBelowDelta': 2000},\n  {'filterType': 'PERCENT_PRICE_BY_SIDE',\n   'bidMultiplierUp': '5',\n   'bidMultiplierDown': '0.2',\n   'askMultiplierUp': '5',\n   'askMultiplierDown': '0.2',\n   'avgPriceMins': 1},\n  {'filterType': 'NOTIONAL',\n   'minNotional': '0.00010000',\n   'applyMinToMarket': True,\n   'maxNotional': '9000000.00000000',\n   'applyMaxToMarket': False,\n   'avgPriceMins': 1},\n  {'filterType': 'MAX_NUM_ORDERS', 'maxNumOrders': 200},\n  {'filterType': 'MAX_NUM_ALGO_ORDERS', 'maxNumAlgoOrders': 5}],\n 'permissions': ['SPOT', 'UNKNOWN_1'],\n 'defaultSelfTradePreventionMode': 'NONE',\n 'allowedSelfTradePreventionModes': ['NONE',\n  'EXPIRE_TAKER',\n  'EXPIRE_MAKER',\n  'EXPIRE_BOTH']}"
     },
     "execution_count": 10,
     "metadata": {},
     "output_type": "execute_result"
    }
   ],
   "source": [
    "client.get_symbol_info(\"BNBBTC\")"
   ],
   "metadata": {
    "collapsed": false,
    "ExecuteTime": {
     "end_time": "2023-10-15T05:35:24.378105Z",
     "start_time": "2023-10-15T05:35:23.824208Z"
    }
   },
   "id": "ba3210443a07878a"
  },
  {
   "cell_type": "code",
   "execution_count": null,
   "outputs": [],
   "source": [],
   "metadata": {
    "collapsed": false
   },
   "id": "2f2ba96f24c3e474"
  },
  {
   "cell_type": "code",
   "execution_count": null,
   "outputs": [],
   "source": [
    "from algo.market_state import MarketState\n",
    "market = MarketState(window_size=1000, client=client)"
   ],
   "metadata": {
    "collapsed": false
   },
   "id": "a22ffd8e0546ffd3"
  },
  {
   "cell_type": "code",
   "execution_count": null,
   "outputs": [],
   "source": [],
   "metadata": {
    "collapsed": false
   },
   "id": "b05d4a7bbaf455a0"
  },
  {
   "cell_type": "code",
   "execution_count": null,
   "outputs": [],
   "source": [
    "depth = client.get_order_book(symbol='BNBBTC')\n",
    "depth"
   ],
   "metadata": {
    "collapsed": false
   },
   "id": "a6ada71e6c0a635d"
  },
  {
   "cell_type": "code",
   "execution_count": null,
   "outputs": [],
   "source": [
    "from algo.datamodel import OrderDepth, Trade"
   ],
   "metadata": {
    "collapsed": false
   },
   "id": "8e21778ace883c7d"
  },
  {
   "cell_type": "code",
   "execution_count": 7,
   "outputs": [
    {
     "ename": "NameError",
     "evalue": "name 'OrderDepth' is not defined",
     "output_type": "error",
     "traceback": [
      "\u001B[0;31m---------------------------------------------------------------------------\u001B[0m",
      "\u001B[0;31mNameError\u001B[0m                                 Traceback (most recent call last)",
      "Cell \u001B[0;32mIn[7], line 1\u001B[0m\n\u001B[0;32m----> 1\u001B[0m orderDepth \u001B[38;5;241m=\u001B[39m \u001B[43mOrderDepth\u001B[49m(\u001B[38;5;241m*\u001B[39m\u001B[38;5;241m*\u001B[39mdepth)\n\u001B[1;32m      2\u001B[0m orderDepth\n",
      "\u001B[0;31mNameError\u001B[0m: name 'OrderDepth' is not defined"
     ]
    }
   ],
   "source": [
    "orderDepth = OrderDepth(**depth)\n",
    "orderDepth"
   ],
   "metadata": {
    "collapsed": false,
    "ExecuteTime": {
     "end_time": "2023-10-15T05:34:43.741869Z",
     "start_time": "2023-10-15T05:34:43.706370Z"
    }
   },
   "id": "bf023f6b2046e05f"
  },
  {
   "cell_type": "code",
   "execution_count": null,
   "outputs": [],
   "source": [],
   "metadata": {
    "collapsed": false
   },
   "id": "2b0dc64e13732f0f"
  },
  {
   "cell_type": "code",
   "execution_count": null,
   "outputs": [],
   "source": [],
   "metadata": {
    "collapsed": false
   },
   "id": "c942997f6a4a68a6"
  },
  {
   "cell_type": "code",
   "execution_count": null,
   "outputs": [],
   "source": [
    "\n",
    "recent_trades = client.get_recent_trades(symbol=\"BNBBTC\")"
   ],
   "metadata": {
    "collapsed": false
   },
   "id": "5de6ccf7f92d2d0b"
  },
  {
   "cell_type": "code",
   "execution_count": null,
   "outputs": [],
   "source": [
    "all_trades = []\n",
    "for t in recent_trades:\n",
    "    all_trades.append(Trade(**t))\n",
    "all_trades"
   ],
   "metadata": {
    "collapsed": false
   },
   "id": "5beacb34174e8853"
  },
  {
   "cell_type": "code",
   "execution_count": 5,
   "outputs": [
    {
     "ename": "BinanceAPIException",
     "evalue": "APIError(code=-1102): Mandatory parameter 'symbol' was not sent, was empty/null, or malformed.",
     "output_type": "error",
     "traceback": [
      "\u001B[0;31m---------------------------------------------------------------------------\u001B[0m",
      "\u001B[0;31mBinanceAPIException\u001B[0m                       Traceback (most recent call last)",
      "Cell \u001B[0;32mIn[5], line 1\u001B[0m\n\u001B[0;32m----> 1\u001B[0m \u001B[43mclient\u001B[49m\u001B[38;5;241;43m.\u001B[39;49m\u001B[43mget_order\u001B[49m\u001B[43m(\u001B[49m\u001B[43m)\u001B[49m\n",
      "File \u001B[0;32m~/opt/anaconda3/lib/python3.9/site-packages/binance/client.py:1865\u001B[0m, in \u001B[0;36mClient.get_order\u001B[0;34m(self, **params)\u001B[0m\n\u001B[1;32m   1828\u001B[0m \u001B[38;5;28;01mdef\u001B[39;00m \u001B[38;5;21mget_order\u001B[39m(\u001B[38;5;28mself\u001B[39m, \u001B[38;5;241m*\u001B[39m\u001B[38;5;241m*\u001B[39mparams):\n\u001B[1;32m   1829\u001B[0m \u001B[38;5;250m    \u001B[39m\u001B[38;5;124;03m\"\"\"Check an order's status. Either orderId or origClientOrderId must be sent.\u001B[39;00m\n\u001B[1;32m   1830\u001B[0m \n\u001B[1;32m   1831\u001B[0m \u001B[38;5;124;03m    https://binance-docs.github.io/apidocs/spot/en/#query-order-user_data\u001B[39;00m\n\u001B[0;32m   (...)\u001B[0m\n\u001B[1;32m   1863\u001B[0m \n\u001B[1;32m   1864\u001B[0m \u001B[38;5;124;03m    \"\"\"\u001B[39;00m\n\u001B[0;32m-> 1865\u001B[0m     \u001B[38;5;28;01mreturn\u001B[39;00m \u001B[38;5;28;43mself\u001B[39;49m\u001B[38;5;241;43m.\u001B[39;49m\u001B[43m_get\u001B[49m\u001B[43m(\u001B[49m\u001B[38;5;124;43m'\u001B[39;49m\u001B[38;5;124;43morder\u001B[39;49m\u001B[38;5;124;43m'\u001B[39;49m\u001B[43m,\u001B[49m\u001B[43m \u001B[49m\u001B[38;5;28;43;01mTrue\u001B[39;49;00m\u001B[43m,\u001B[49m\u001B[43m \u001B[49m\u001B[43mdata\u001B[49m\u001B[38;5;241;43m=\u001B[39;49m\u001B[43mparams\u001B[49m\u001B[43m)\u001B[49m\n",
      "File \u001B[0;32m~/opt/anaconda3/lib/python3.9/site-packages/binance/client.py:415\u001B[0m, in \u001B[0;36mClient._get\u001B[0;34m(self, path, signed, version, **kwargs)\u001B[0m\n\u001B[1;32m    414\u001B[0m \u001B[38;5;28;01mdef\u001B[39;00m \u001B[38;5;21m_get\u001B[39m(\u001B[38;5;28mself\u001B[39m, path, signed\u001B[38;5;241m=\u001B[39m\u001B[38;5;28;01mFalse\u001B[39;00m, version\u001B[38;5;241m=\u001B[39mBaseClient\u001B[38;5;241m.\u001B[39mPUBLIC_API_VERSION, \u001B[38;5;241m*\u001B[39m\u001B[38;5;241m*\u001B[39mkwargs):\n\u001B[0;32m--> 415\u001B[0m     \u001B[38;5;28;01mreturn\u001B[39;00m \u001B[38;5;28;43mself\u001B[39;49m\u001B[38;5;241;43m.\u001B[39;49m\u001B[43m_request_api\u001B[49m\u001B[43m(\u001B[49m\u001B[38;5;124;43m'\u001B[39;49m\u001B[38;5;124;43mget\u001B[39;49m\u001B[38;5;124;43m'\u001B[39;49m\u001B[43m,\u001B[49m\u001B[43m \u001B[49m\u001B[43mpath\u001B[49m\u001B[43m,\u001B[49m\u001B[43m \u001B[49m\u001B[43msigned\u001B[49m\u001B[43m,\u001B[49m\u001B[43m \u001B[49m\u001B[43mversion\u001B[49m\u001B[43m,\u001B[49m\u001B[43m \u001B[49m\u001B[38;5;241;43m*\u001B[39;49m\u001B[38;5;241;43m*\u001B[39;49m\u001B[43mkwargs\u001B[49m\u001B[43m)\u001B[49m\n",
      "File \u001B[0;32m~/opt/anaconda3/lib/python3.9/site-packages/binance/client.py:378\u001B[0m, in \u001B[0;36mClient._request_api\u001B[0;34m(self, method, path, signed, version, **kwargs)\u001B[0m\n\u001B[1;32m    374\u001B[0m \u001B[38;5;28;01mdef\u001B[39;00m \u001B[38;5;21m_request_api\u001B[39m(\n\u001B[1;32m    375\u001B[0m     \u001B[38;5;28mself\u001B[39m, method, path: \u001B[38;5;28mstr\u001B[39m, signed: \u001B[38;5;28mbool\u001B[39m \u001B[38;5;241m=\u001B[39m \u001B[38;5;28;01mFalse\u001B[39;00m, version\u001B[38;5;241m=\u001B[39mBaseClient\u001B[38;5;241m.\u001B[39mPUBLIC_API_VERSION, \u001B[38;5;241m*\u001B[39m\u001B[38;5;241m*\u001B[39mkwargs\n\u001B[1;32m    376\u001B[0m ):\n\u001B[1;32m    377\u001B[0m     uri \u001B[38;5;241m=\u001B[39m \u001B[38;5;28mself\u001B[39m\u001B[38;5;241m.\u001B[39m_create_api_uri(path, signed, version)\n\u001B[0;32m--> 378\u001B[0m     \u001B[38;5;28;01mreturn\u001B[39;00m \u001B[38;5;28;43mself\u001B[39;49m\u001B[38;5;241;43m.\u001B[39;49m\u001B[43m_request\u001B[49m\u001B[43m(\u001B[49m\u001B[43mmethod\u001B[49m\u001B[43m,\u001B[49m\u001B[43m \u001B[49m\u001B[43muri\u001B[49m\u001B[43m,\u001B[49m\u001B[43m \u001B[49m\u001B[43msigned\u001B[49m\u001B[43m,\u001B[49m\u001B[43m \u001B[49m\u001B[38;5;241;43m*\u001B[39;49m\u001B[38;5;241;43m*\u001B[39;49m\u001B[43mkwargs\u001B[49m\u001B[43m)\u001B[49m\n",
      "File \u001B[0;32m~/opt/anaconda3/lib/python3.9/site-packages/binance/client.py:359\u001B[0m, in \u001B[0;36mClient._request\u001B[0;34m(self, method, uri, signed, force_params, **kwargs)\u001B[0m\n\u001B[1;32m    356\u001B[0m kwargs \u001B[38;5;241m=\u001B[39m \u001B[38;5;28mself\u001B[39m\u001B[38;5;241m.\u001B[39m_get_request_kwargs(method, signed, force_params, \u001B[38;5;241m*\u001B[39m\u001B[38;5;241m*\u001B[39mkwargs)\n\u001B[1;32m    358\u001B[0m \u001B[38;5;28mself\u001B[39m\u001B[38;5;241m.\u001B[39mresponse \u001B[38;5;241m=\u001B[39m \u001B[38;5;28mgetattr\u001B[39m(\u001B[38;5;28mself\u001B[39m\u001B[38;5;241m.\u001B[39msession, method)(uri, \u001B[38;5;241m*\u001B[39m\u001B[38;5;241m*\u001B[39mkwargs)\n\u001B[0;32m--> 359\u001B[0m \u001B[38;5;28;01mreturn\u001B[39;00m \u001B[38;5;28;43mself\u001B[39;49m\u001B[38;5;241;43m.\u001B[39;49m\u001B[43m_handle_response\u001B[49m\u001B[43m(\u001B[49m\u001B[38;5;28;43mself\u001B[39;49m\u001B[38;5;241;43m.\u001B[39;49m\u001B[43mresponse\u001B[49m\u001B[43m)\u001B[49m\n",
      "File \u001B[0;32m~/opt/anaconda3/lib/python3.9/site-packages/binance/client.py:368\u001B[0m, in \u001B[0;36mClient._handle_response\u001B[0;34m(response)\u001B[0m\n\u001B[1;32m    363\u001B[0m \u001B[38;5;250m\u001B[39m\u001B[38;5;124;03m\"\"\"Internal helper for handling API responses from the Binance server.\u001B[39;00m\n\u001B[1;32m    364\u001B[0m \u001B[38;5;124;03mRaises the appropriate exceptions when necessary; otherwise, returns the\u001B[39;00m\n\u001B[1;32m    365\u001B[0m \u001B[38;5;124;03mresponse.\u001B[39;00m\n\u001B[1;32m    366\u001B[0m \u001B[38;5;124;03m\"\"\"\u001B[39;00m\n\u001B[1;32m    367\u001B[0m \u001B[38;5;28;01mif\u001B[39;00m \u001B[38;5;129;01mnot\u001B[39;00m (\u001B[38;5;241m200\u001B[39m \u001B[38;5;241m<\u001B[39m\u001B[38;5;241m=\u001B[39m response\u001B[38;5;241m.\u001B[39mstatus_code \u001B[38;5;241m<\u001B[39m \u001B[38;5;241m300\u001B[39m):\n\u001B[0;32m--> 368\u001B[0m     \u001B[38;5;28;01mraise\u001B[39;00m BinanceAPIException(response, response\u001B[38;5;241m.\u001B[39mstatus_code, response\u001B[38;5;241m.\u001B[39mtext)\n\u001B[1;32m    369\u001B[0m \u001B[38;5;28;01mtry\u001B[39;00m:\n\u001B[1;32m    370\u001B[0m     \u001B[38;5;28;01mreturn\u001B[39;00m response\u001B[38;5;241m.\u001B[39mjson()\n",
      "\u001B[0;31mBinanceAPIException\u001B[0m: APIError(code=-1102): Mandatory parameter 'symbol' was not sent, was empty/null, or malformed."
     ]
    }
   ],
   "source": [
    "client.get_order()"
   ],
   "metadata": {
    "collapsed": false,
    "ExecuteTime": {
     "end_time": "2023-10-15T05:34:37.243385Z",
     "start_time": "2023-10-15T05:34:36.747500Z"
    }
   },
   "id": "9b8b66b3060f459a"
  },
  {
   "cell_type": "code",
   "execution_count": 6,
   "outputs": [
    {
     "data": {
      "text/plain": "{'makerCommission': 0,\n 'takerCommission': 0,\n 'buyerCommission': 0,\n 'sellerCommission': 0,\n 'commissionRates': {'maker': '0.00000000',\n  'taker': '0.00000000',\n  'buyer': '0.00000000',\n  'seller': '0.00000000'},\n 'canTrade': True,\n 'canWithdraw': False,\n 'canDeposit': False,\n 'brokered': False,\n 'requireSelfTradePrevention': False,\n 'preventSor': False,\n 'updateTime': 1697347736542,\n 'accountType': 'SPOT',\n 'balances': [{'asset': 'ETH', 'free': '1.00000000', 'locked': '0.00000000'},\n  {'asset': 'BTC', 'free': '1.00000000', 'locked': '0.00000000'},\n  {'asset': 'LTC', 'free': '7.00000000', 'locked': '0.00000000'},\n  {'asset': 'BNB', 'free': '2.00000000', 'locked': '0.00000000'},\n  {'asset': 'USDT', 'free': '10000.00000000', 'locked': '0.00000000'},\n  {'asset': 'TRX', 'free': '5628.00000000', 'locked': '0.00000000'},\n  {'asset': 'XRP', 'free': '934.00000000', 'locked': '0.00000000'},\n  {'asset': 'BUSD', 'free': '10000.00000000', 'locked': '0.00000000'},\n  {'asset': 'NEO', 'free': '70.00000000', 'locked': '0.00000000'},\n  {'asset': 'QTUM', 'free': '228.00000000', 'locked': '0.00000000'},\n  {'asset': 'EOS', 'free': '863.00000000', 'locked': '0.00000000'},\n  {'asset': 'SNT', 'free': '18400.00000000', 'locked': '0.00000000'},\n  {'asset': 'BNT', 'free': '1262.00000000', 'locked': '0.00000000'},\n  {'asset': 'GAS', 'free': '217.00000000', 'locked': '0.00000000'},\n  {'asset': 'WTC', 'free': '3238.00000000', 'locked': '0.00000000'},\n  {'asset': 'LRC', 'free': '2829.00000000', 'locked': '0.00000000'},\n  {'asset': 'ZRX', 'free': '2755.00000000', 'locked': '0.00000000'},\n  {'asset': 'KNC', 'free': '780.00000000', 'locked': '0.00000000'},\n  {'asset': 'FUN', 'free': '18400.00000000', 'locked': '0.00000000'},\n  {'asset': 'IOTA', 'free': '3328.00000000', 'locked': '0.00000000'},\n  {'asset': 'LINK', 'free': '66.00000000', 'locked': '0.00000000'},\n  {'asset': 'XVG', 'free': '18400.00000000', 'locked': '0.00000000'},\n  {'asset': 'MTL', 'free': '400.00000000', 'locked': '0.00000000'},\n  {'asset': 'ETC', 'free': '32.00000000', 'locked': '0.00000000'},\n  {'asset': 'ZEC', 'free': '18.00000000', 'locked': '0.00000000'},\n  {'asset': 'AST', 'free': '5707.00000000', 'locked': '0.00000000'},\n  {'asset': 'DASH', 'free': '18.00000000', 'locked': '0.00000000'},\n  {'asset': 'OAX', 'free': '3087.00000000', 'locked': '0.00000000'},\n  {'asset': 'REQ', 'free': '7923.00000000', 'locked': '0.00000000'},\n  {'asset': 'VIB', 'free': '11222.00000000', 'locked': '0.00000000'},\n  {'asset': 'POWR', 'free': '3305.00000000', 'locked': '0.00000000'},\n  {'asset': 'ENJ', 'free': '2241.00000000', 'locked': '0.00000000'},\n  {'asset': 'STORJ', 'free': '1164.00000000', 'locked': '0.00000000'},\n  {'asset': 'KMD', 'free': '2260.00000000', 'locked': '0.00000000'},\n  {'asset': 'NULS', 'free': '2834.00000000', 'locked': '0.00000000'},\n  {'asset': 'XMR', 'free': '3.00000000', 'locked': '0.00000000'},\n  {'asset': 'AMB', 'free': '18400.00000000', 'locked': '0.00000000'},\n  {'asset': 'BAT', 'free': '2877.00000000', 'locked': '0.00000000'},\n  {'asset': 'LSK', 'free': '670.00000000', 'locked': '0.00000000'},\n  {'asset': 'MANA', 'free': '1683.00000000', 'locked': '0.00000000'},\n  {'asset': 'ADX', 'free': '3610.00000000', 'locked': '0.00000000'},\n  {'asset': 'ADA', 'free': '1948.00000000', 'locked': '0.00000000'},\n  {'asset': 'XLM', 'free': '4436.00000000', 'locked': '0.00000000'},\n  {'asset': 'WAVES', 'free': '331.00000000', 'locked': '0.00000000'},\n  {'asset': 'ICX', 'free': '2944.00000000', 'locked': '0.00000000'},\n  {'asset': 'ELF', 'free': '1443.00000000', 'locked': '0.00000000'},\n  {'asset': 'RLC', 'free': '492.00000000', 'locked': '0.00000000'},\n  {'asset': 'PIVX', 'free': '2668.00000000', 'locked': '0.00000000'},\n  {'asset': 'IOST', 'free': '18400.00000000', 'locked': '0.00000000'},\n  {'asset': 'STEEM', 'free': '2881.00000000', 'locked': '0.00000000'},\n  {'asset': 'BLZ', 'free': '3792.00000000', 'locked': '0.00000000'},\n  {'asset': 'ZIL', 'free': '18400.00000000', 'locked': '0.00000000'},\n  {'asset': 'ONT', 'free': '3020.00000000', 'locked': '0.00000000'},\n  {'asset': 'WAN', 'free': '2735.00000000', 'locked': '0.00000000'},\n  {'asset': 'SYS', 'free': '5837.00000000', 'locked': '0.00000000'},\n  {'asset': 'LOOM', 'free': '4277.00000000', 'locked': '0.00000000'},\n  {'asset': 'TUSD', 'free': '10000.00000000', 'locked': '0.00000000'},\n  {'asset': 'ZEN', 'free': '63.00000000', 'locked': '0.00000000'},\n  {'asset': 'THETA', 'free': '807.00000000', 'locked': '0.00000000'},\n  {'asset': 'IOTX', 'free': '18400.00000000', 'locked': '0.00000000'},\n  {'asset': 'QKC', 'free': '18400.00000000', 'locked': '0.00000000'},\n  {'asset': 'DATA', 'free': '18400.00000000', 'locked': '0.00000000'},\n  {'asset': 'SC', 'free': '18400.00000000', 'locked': '0.00000000'},\n  {'asset': 'DENT', 'free': '18400.00000000', 'locked': '0.00000000'},\n  {'asset': 'ARDR', 'free': '7440.00000000', 'locked': '0.00000000'},\n  {'asset': 'HOT', 'free': '18400.00000000', 'locked': '0.00000000'},\n  {'asset': 'VET', 'free': '18400.00000000', 'locked': '0.00000000'},\n  {'asset': 'DOCK', 'free': '18400.00000000', 'locked': '0.00000000'},\n  {'asset': 'RVN', 'free': '18400.00000000', 'locked': '0.00000000'},\n  {'asset': 'DCR', 'free': '38.00000000', 'locked': '0.00000000'},\n  {'asset': 'REN', 'free': '11262.00000000', 'locked': '0.00000000'},\n  {'asset': 'USDC', 'free': '10000.00000000', 'locked': '0.00000000'},\n  {'asset': 'ONG', 'free': '2254.00000000', 'locked': '0.00000000'},\n  {'asset': 'FET', 'free': '2276.00000000', 'locked': '0.00000000'},\n  {'asset': 'CELR', 'free': '18400.00000000', 'locked': '0.00000000'},\n  {'asset': 'OMG', 'free': '1087.00000000', 'locked': '0.00000000'},\n  {'asset': 'MATIC', 'free': '856.00000000', 'locked': '0.00000000'},\n  {'asset': 'ATOM', 'free': '71.00000000', 'locked': '0.00000000'},\n  {'asset': 'PHB', 'free': '817.00000000', 'locked': '0.00000000'},\n  {'asset': 'TFUEL', 'free': '15274.00000000', 'locked': '0.00000000'},\n  {'asset': 'ONE', 'free': '18400.00000000', 'locked': '0.00000000'},\n  {'asset': 'FTM', 'free': '2499.00000000', 'locked': '0.00000000'},\n  {'asset': 'ALGO', 'free': '5030.00000000', 'locked': '0.00000000'},\n  {'asset': 'DOGE', 'free': '8190.00000000', 'locked': '0.00000000'},\n  {'asset': 'DUSK', 'free': '4501.00000000', 'locked': '0.00000000'},\n  {'asset': 'ANKR', 'free': '18400.00000000', 'locked': '0.00000000'},\n  {'asset': 'WIN', 'free': '18400.00000000', 'locked': '0.00000000'},\n  {'asset': 'COS', 'free': '18400.00000000', 'locked': '0.00000000'},\n  {'asset': 'TOMO', 'free': '360.00000000', 'locked': '0.00000000'},\n  {'asset': 'PERL', 'free': '18400.00000000', 'locked': '0.00000000'},\n  {'asset': 'KEY', 'free': '18400.00000000', 'locked': '0.00000000'},\n  {'asset': 'CVC', 'free': '6496.00000000', 'locked': '0.00000000'},\n  {'asset': 'CHZ', 'free': '8274.00000000', 'locked': '0.00000000'},\n  {'asset': 'BAND', 'free': '445.00000000', 'locked': '0.00000000'},\n  {'asset': 'XTZ', 'free': '741.00000000', 'locked': '0.00000000'},\n  {'asset': 'HBAR', 'free': '10308.00000000', 'locked': '0.00000000'},\n  {'asset': 'NKN', 'free': '5843.00000000', 'locked': '0.00000000'},\n  {'asset': 'STX', 'free': '1026.00000000', 'locked': '0.00000000'},\n  {'asset': 'KAVA', 'free': '813.00000000', 'locked': '0.00000000'},\n  {'asset': 'NGN', 'free': '1.00000000', 'locked': '0.00000000'},\n  {'asset': 'ARPA', 'free': '11608.00000000', 'locked': '0.00000000'},\n  {'asset': 'CTXC', 'free': '4088.00000000', 'locked': '0.00000000'},\n  {'asset': 'BCH', 'free': '2.00000000', 'locked': '0.00000000'},\n  {'asset': 'RUB', 'free': '4.00000000', 'locked': '0.00000000'},\n  {'asset': 'TROY', 'free': '18400.00000000', 'locked': '0.00000000'},\n  {'asset': 'VITE', 'free': '18400.00000000', 'locked': '0.00000000'},\n  {'asset': 'FTT', 'free': '412.00000000', 'locked': '0.00000000'},\n  {'asset': 'TRY', 'free': '17.00000000', 'locked': '0.00000000'},\n  {'asset': 'EUR', 'free': '476.00000000', 'locked': '0.00000000'},\n  {'asset': 'OGN', 'free': '3995.00000000', 'locked': '0.00000000'},\n  {'asset': 'DREP', 'free': '2074.00000000', 'locked': '0.00000000'},\n  {'asset': 'WRX', 'free': '5302.00000000', 'locked': '0.00000000'},\n  {'asset': 'BTS', 'free': '18400.00000000', 'locked': '0.00000000'},\n  {'asset': 'LTO', 'free': '8771.00000000', 'locked': '0.00000000'},\n  {'asset': 'MBL', 'free': '18400.00000000', 'locked': '0.00000000'},\n  {'asset': 'COTI', 'free': '12531.00000000', 'locked': '0.00000000'},\n  {'asset': 'STPT', 'free': '9441.00000000', 'locked': '0.00000000'},\n  {'asset': 'ZAR', 'free': '25.00000000', 'locked': '0.00000000'},\n  {'asset': 'SOL', 'free': '21.00000000', 'locked': '0.00000000'},\n  {'asset': 'CTSI', 'free': '3891.00000000', 'locked': '0.00000000'},\n  {'asset': 'HIVE', 'free': '1648.00000000', 'locked': '0.00000000'},\n  {'asset': 'CHR', 'free': '5133.00000000', 'locked': '0.00000000'},\n  {'asset': 'MDT', 'free': '10633.00000000', 'locked': '0.00000000'},\n  {'asset': 'STMX', 'free': '18400.00000000', 'locked': '0.00000000'},\n  {'asset': 'PNT', 'free': '3697.00000000', 'locked': '0.00000000'},\n  {'asset': 'GBP', 'free': '413.00000000', 'locked': '0.00000000'},\n  {'asset': 'DGB', 'free': '18400.00000000', 'locked': '0.00000000'},\n  {'asset': 'UAH', 'free': '12.00000000', 'locked': '0.00000000'},\n  {'asset': 'COMP', 'free': '11.00000000', 'locked': '0.00000000'},\n  {'asset': 'SXP', 'free': '1830.00000000', 'locked': '0.00000000'},\n  {'asset': 'SNX', 'free': '246.00000000', 'locked': '0.00000000'},\n  {'asset': 'VTHO', 'free': '18400.00000000', 'locked': '0.00000000'},\n  {'asset': 'IRIS', 'free': '18400.00000000', 'locked': '0.00000000'},\n  {'asset': 'MKR', 'free': '1.00000000', 'locked': '0.00000000'},\n  {'asset': 'RUNE', 'free': '254.00000000', 'locked': '0.00000000'},\n  {'asset': 'FIO', 'free': '18400.00000000', 'locked': '0.00000000'},\n  {'asset': 'AVA', 'free': '1095.00000000', 'locked': '0.00000000'},\n  {'asset': 'BAL', 'free': '153.00000000', 'locked': '0.00000000'},\n  {'asset': 'YFI', 'free': '1.00000000', 'locked': '0.00000000'},\n  {'asset': 'DAI', 'free': '491.00000000', 'locked': '0.00000000'},\n  {'asset': 'JST', 'free': '18400.00000000', 'locked': '0.00000000'},\n  {'asset': 'ANT', 'free': '102.00000000', 'locked': '0.00000000'},\n  {'asset': 'CRV', 'free': '1030.00000000', 'locked': '0.00000000'},\n  {'asset': 'SAND', 'free': '1691.00000000', 'locked': '0.00000000'},\n  {'asset': 'OCEAN', 'free': '1640.00000000', 'locked': '0.00000000'},\n  {'asset': 'NMR', 'free': '39.00000000', 'locked': '0.00000000'},\n  {'asset': 'DOT', 'free': '123.00000000', 'locked': '0.00000000'},\n  {'asset': 'LUNA', 'free': '1136.00000000', 'locked': '0.00000000'},\n  {'asset': 'IDEX', 'free': '10840.00000000', 'locked': '0.00000000'},\n  {'asset': 'RSR', 'free': '18400.00000000', 'locked': '0.00000000'},\n  {'asset': 'PAXG', 'free': '1.00000000', 'locked': '0.00000000'},\n  {'asset': 'WNXM', 'free': '16.00000000', 'locked': '0.00000000'},\n  {'asset': 'TRB', 'free': '10.00000000', 'locked': '0.00000000'},\n  {'asset': 'WBTC', 'free': '1.00000000', 'locked': '0.00000000'},\n  {'asset': 'SUSHI', 'free': '863.00000000', 'locked': '0.00000000'},\n  {'asset': 'KSM', 'free': '26.00000000', 'locked': '0.00000000'},\n  {'asset': 'EGLD', 'free': '20.00000000', 'locked': '0.00000000'},\n  {'asset': 'DIA', 'free': '2011.00000000', 'locked': '0.00000000'},\n  {'asset': 'UMA', 'free': '369.00000000', 'locked': '0.00000000'},\n  {'asset': 'BEL', 'free': '837.00000000', 'locked': '0.00000000'},\n  {'asset': 'WING', 'free': '90.00000000', 'locked': '0.00000000'},\n  {'asset': 'UNI', 'free': '115.00000000', 'locked': '0.00000000'},\n  {'asset': 'OXT', 'free': '7686.00000000', 'locked': '0.00000000'},\n  {'asset': 'SUN', 'free': '18400.00000000', 'locked': '0.00000000'},\n  {'asset': 'AVAX', 'free': '51.00000000', 'locked': '0.00000000'},\n  {'asset': 'BAKE', 'free': '3485.00000000', 'locked': '0.00000000'},\n  {'asset': 'FLM', 'free': '6576.00000000', 'locked': '0.00000000'},\n  {'asset': 'SCRT', 'free': '1861.00000000', 'locked': '0.00000000'},\n  {'asset': 'CAKE', 'free': '422.00000000', 'locked': '0.00000000'},\n  {'asset': 'ORN', 'free': '980.00000000', 'locked': '0.00000000'},\n  {'asset': 'UTK', 'free': '8965.00000000', 'locked': '0.00000000'},\n  {'asset': 'XVS', 'free': '98.00000000', 'locked': '0.00000000'},\n  {'asset': 'ALPHA', 'free': '6622.00000000', 'locked': '0.00000000'},\n  {'asset': 'VIDT', 'free': '18400.00000000', 'locked': '0.00000000'},\n  {'asset': 'AAVE', 'free': '7.00000000', 'locked': '0.00000000'},\n  {'asset': 'BRL', 'free': '97.00000000', 'locked': '0.00000000'},\n  {'asset': 'NEAR', 'free': '459.00000000', 'locked': '0.00000000'},\n  {'asset': 'FIL', 'free': '151.00000000', 'locked': '0.00000000'},\n  {'asset': 'INJ', 'free': '66.00000000', 'locked': '0.00000000'},\n  {'asset': 'AERGO', 'free': '4882.00000000', 'locked': '0.00000000'}],\n 'permissions': ['SPOT'],\n 'uid': 1697347736516771588}"
     },
     "execution_count": 6,
     "metadata": {},
     "output_type": "execute_result"
    }
   ],
   "source": [
    "client.get_account()"
   ],
   "metadata": {
    "collapsed": false,
    "ExecuteTime": {
     "end_time": "2023-10-15T05:34:38.966105Z",
     "start_time": "2023-10-15T05:34:38.505335Z"
    }
   },
   "id": "6d8fd38dddd4686e"
  },
  {
   "cell_type": "code",
   "execution_count": 13,
   "outputs": [
    {
     "data": {
      "text/plain": "{'makerCommission': 0,\n 'takerCommission': 0,\n 'buyerCommission': 0,\n 'sellerCommission': 0,\n 'commissionRates': {'maker': '0.00000000',\n  'taker': '0.00000000',\n  'buyer': '0.00000000',\n  'seller': '0.00000000'},\n 'canTrade': True,\n 'canWithdraw': False,\n 'canDeposit': False,\n 'brokered': False,\n 'requireSelfTradePrevention': False,\n 'preventSor': False,\n 'updateTime': 1697347736542,\n 'accountType': 'SPOT',\n 'balances': [{'asset': 'ETH', 'free': '1.00000000', 'locked': '0.00000000'},\n  {'asset': 'BTC', 'free': '1.00000000', 'locked': '0.00000000'},\n  {'asset': 'LTC', 'free': '7.00000000', 'locked': '0.00000000'},\n  {'asset': 'BNB', 'free': '2.00000000', 'locked': '0.00000000'},\n  {'asset': 'USDT', 'free': '10000.00000000', 'locked': '0.00000000'},\n  {'asset': 'TRX', 'free': '5628.00000000', 'locked': '0.00000000'},\n  {'asset': 'XRP', 'free': '934.00000000', 'locked': '0.00000000'},\n  {'asset': 'BUSD', 'free': '10000.00000000', 'locked': '0.00000000'},\n  {'asset': 'NEO', 'free': '70.00000000', 'locked': '0.00000000'},\n  {'asset': 'QTUM', 'free': '228.00000000', 'locked': '0.00000000'},\n  {'asset': 'EOS', 'free': '863.00000000', 'locked': '0.00000000'},\n  {'asset': 'SNT', 'free': '18400.00000000', 'locked': '0.00000000'},\n  {'asset': 'BNT', 'free': '1262.00000000', 'locked': '0.00000000'},\n  {'asset': 'GAS', 'free': '217.00000000', 'locked': '0.00000000'},\n  {'asset': 'WTC', 'free': '3238.00000000', 'locked': '0.00000000'},\n  {'asset': 'LRC', 'free': '2829.00000000', 'locked': '0.00000000'},\n  {'asset': 'ZRX', 'free': '2755.00000000', 'locked': '0.00000000'},\n  {'asset': 'KNC', 'free': '780.00000000', 'locked': '0.00000000'},\n  {'asset': 'FUN', 'free': '18400.00000000', 'locked': '0.00000000'},\n  {'asset': 'IOTA', 'free': '3328.00000000', 'locked': '0.00000000'},\n  {'asset': 'LINK', 'free': '66.00000000', 'locked': '0.00000000'},\n  {'asset': 'XVG', 'free': '18400.00000000', 'locked': '0.00000000'},\n  {'asset': 'MTL', 'free': '400.00000000', 'locked': '0.00000000'},\n  {'asset': 'ETC', 'free': '32.00000000', 'locked': '0.00000000'},\n  {'asset': 'ZEC', 'free': '18.00000000', 'locked': '0.00000000'},\n  {'asset': 'AST', 'free': '5707.00000000', 'locked': '0.00000000'},\n  {'asset': 'DASH', 'free': '18.00000000', 'locked': '0.00000000'},\n  {'asset': 'OAX', 'free': '3087.00000000', 'locked': '0.00000000'},\n  {'asset': 'REQ', 'free': '7923.00000000', 'locked': '0.00000000'},\n  {'asset': 'VIB', 'free': '11222.00000000', 'locked': '0.00000000'},\n  {'asset': 'POWR', 'free': '3305.00000000', 'locked': '0.00000000'},\n  {'asset': 'ENJ', 'free': '2241.00000000', 'locked': '0.00000000'},\n  {'asset': 'STORJ', 'free': '1164.00000000', 'locked': '0.00000000'},\n  {'asset': 'KMD', 'free': '2260.00000000', 'locked': '0.00000000'},\n  {'asset': 'NULS', 'free': '2834.00000000', 'locked': '0.00000000'},\n  {'asset': 'XMR', 'free': '3.00000000', 'locked': '0.00000000'},\n  {'asset': 'AMB', 'free': '18400.00000000', 'locked': '0.00000000'},\n  {'asset': 'BAT', 'free': '2877.00000000', 'locked': '0.00000000'},\n  {'asset': 'LSK', 'free': '670.00000000', 'locked': '0.00000000'},\n  {'asset': 'MANA', 'free': '1683.00000000', 'locked': '0.00000000'},\n  {'asset': 'ADX', 'free': '3610.00000000', 'locked': '0.00000000'},\n  {'asset': 'ADA', 'free': '1948.00000000', 'locked': '0.00000000'},\n  {'asset': 'XLM', 'free': '4436.00000000', 'locked': '0.00000000'},\n  {'asset': 'WAVES', 'free': '331.00000000', 'locked': '0.00000000'},\n  {'asset': 'ICX', 'free': '2944.00000000', 'locked': '0.00000000'},\n  {'asset': 'ELF', 'free': '1443.00000000', 'locked': '0.00000000'},\n  {'asset': 'RLC', 'free': '492.00000000', 'locked': '0.00000000'},\n  {'asset': 'PIVX', 'free': '2668.00000000', 'locked': '0.00000000'},\n  {'asset': 'IOST', 'free': '18400.00000000', 'locked': '0.00000000'},\n  {'asset': 'STEEM', 'free': '2881.00000000', 'locked': '0.00000000'},\n  {'asset': 'BLZ', 'free': '3792.00000000', 'locked': '0.00000000'},\n  {'asset': 'ZIL', 'free': '18400.00000000', 'locked': '0.00000000'},\n  {'asset': 'ONT', 'free': '3020.00000000', 'locked': '0.00000000'},\n  {'asset': 'WAN', 'free': '2735.00000000', 'locked': '0.00000000'},\n  {'asset': 'SYS', 'free': '5837.00000000', 'locked': '0.00000000'},\n  {'asset': 'LOOM', 'free': '4277.00000000', 'locked': '0.00000000'},\n  {'asset': 'TUSD', 'free': '10000.00000000', 'locked': '0.00000000'},\n  {'asset': 'ZEN', 'free': '63.00000000', 'locked': '0.00000000'},\n  {'asset': 'THETA', 'free': '807.00000000', 'locked': '0.00000000'},\n  {'asset': 'IOTX', 'free': '18400.00000000', 'locked': '0.00000000'},\n  {'asset': 'QKC', 'free': '18400.00000000', 'locked': '0.00000000'},\n  {'asset': 'DATA', 'free': '18400.00000000', 'locked': '0.00000000'},\n  {'asset': 'SC', 'free': '18400.00000000', 'locked': '0.00000000'},\n  {'asset': 'DENT', 'free': '18400.00000000', 'locked': '0.00000000'},\n  {'asset': 'ARDR', 'free': '7440.00000000', 'locked': '0.00000000'},\n  {'asset': 'HOT', 'free': '18400.00000000', 'locked': '0.00000000'},\n  {'asset': 'VET', 'free': '18400.00000000', 'locked': '0.00000000'},\n  {'asset': 'DOCK', 'free': '18400.00000000', 'locked': '0.00000000'},\n  {'asset': 'RVN', 'free': '18400.00000000', 'locked': '0.00000000'},\n  {'asset': 'DCR', 'free': '38.00000000', 'locked': '0.00000000'},\n  {'asset': 'REN', 'free': '11262.00000000', 'locked': '0.00000000'},\n  {'asset': 'USDC', 'free': '10000.00000000', 'locked': '0.00000000'},\n  {'asset': 'ONG', 'free': '2254.00000000', 'locked': '0.00000000'},\n  {'asset': 'FET', 'free': '2276.00000000', 'locked': '0.00000000'},\n  {'asset': 'CELR', 'free': '18400.00000000', 'locked': '0.00000000'},\n  {'asset': 'OMG', 'free': '1087.00000000', 'locked': '0.00000000'},\n  {'asset': 'MATIC', 'free': '856.00000000', 'locked': '0.00000000'},\n  {'asset': 'ATOM', 'free': '71.00000000', 'locked': '0.00000000'},\n  {'asset': 'PHB', 'free': '817.00000000', 'locked': '0.00000000'},\n  {'asset': 'TFUEL', 'free': '15274.00000000', 'locked': '0.00000000'},\n  {'asset': 'ONE', 'free': '18400.00000000', 'locked': '0.00000000'},\n  {'asset': 'FTM', 'free': '2499.00000000', 'locked': '0.00000000'},\n  {'asset': 'ALGO', 'free': '5030.00000000', 'locked': '0.00000000'},\n  {'asset': 'DOGE', 'free': '8190.00000000', 'locked': '0.00000000'},\n  {'asset': 'DUSK', 'free': '4501.00000000', 'locked': '0.00000000'},\n  {'asset': 'ANKR', 'free': '18400.00000000', 'locked': '0.00000000'},\n  {'asset': 'WIN', 'free': '18400.00000000', 'locked': '0.00000000'},\n  {'asset': 'COS', 'free': '18400.00000000', 'locked': '0.00000000'},\n  {'asset': 'TOMO', 'free': '360.00000000', 'locked': '0.00000000'},\n  {'asset': 'PERL', 'free': '18400.00000000', 'locked': '0.00000000'},\n  {'asset': 'KEY', 'free': '18400.00000000', 'locked': '0.00000000'},\n  {'asset': 'CVC', 'free': '6496.00000000', 'locked': '0.00000000'},\n  {'asset': 'CHZ', 'free': '8274.00000000', 'locked': '0.00000000'},\n  {'asset': 'BAND', 'free': '445.00000000', 'locked': '0.00000000'},\n  {'asset': 'XTZ', 'free': '741.00000000', 'locked': '0.00000000'},\n  {'asset': 'HBAR', 'free': '10308.00000000', 'locked': '0.00000000'},\n  {'asset': 'NKN', 'free': '5843.00000000', 'locked': '0.00000000'},\n  {'asset': 'STX', 'free': '1026.00000000', 'locked': '0.00000000'},\n  {'asset': 'KAVA', 'free': '813.00000000', 'locked': '0.00000000'},\n  {'asset': 'NGN', 'free': '1.00000000', 'locked': '0.00000000'},\n  {'asset': 'ARPA', 'free': '11608.00000000', 'locked': '0.00000000'},\n  {'asset': 'CTXC', 'free': '4088.00000000', 'locked': '0.00000000'},\n  {'asset': 'BCH', 'free': '2.00000000', 'locked': '0.00000000'},\n  {'asset': 'RUB', 'free': '4.00000000', 'locked': '0.00000000'},\n  {'asset': 'TROY', 'free': '18400.00000000', 'locked': '0.00000000'},\n  {'asset': 'VITE', 'free': '18400.00000000', 'locked': '0.00000000'},\n  {'asset': 'FTT', 'free': '412.00000000', 'locked': '0.00000000'},\n  {'asset': 'TRY', 'free': '17.00000000', 'locked': '0.00000000'},\n  {'asset': 'EUR', 'free': '476.00000000', 'locked': '0.00000000'},\n  {'asset': 'OGN', 'free': '3995.00000000', 'locked': '0.00000000'},\n  {'asset': 'DREP', 'free': '2074.00000000', 'locked': '0.00000000'},\n  {'asset': 'WRX', 'free': '5302.00000000', 'locked': '0.00000000'},\n  {'asset': 'BTS', 'free': '18400.00000000', 'locked': '0.00000000'},\n  {'asset': 'LTO', 'free': '8771.00000000', 'locked': '0.00000000'},\n  {'asset': 'MBL', 'free': '18400.00000000', 'locked': '0.00000000'},\n  {'asset': 'COTI', 'free': '12531.00000000', 'locked': '0.00000000'},\n  {'asset': 'STPT', 'free': '9441.00000000', 'locked': '0.00000000'},\n  {'asset': 'ZAR', 'free': '25.00000000', 'locked': '0.00000000'},\n  {'asset': 'SOL', 'free': '21.00000000', 'locked': '0.00000000'},\n  {'asset': 'CTSI', 'free': '3891.00000000', 'locked': '0.00000000'},\n  {'asset': 'HIVE', 'free': '1648.00000000', 'locked': '0.00000000'},\n  {'asset': 'CHR', 'free': '5133.00000000', 'locked': '0.00000000'},\n  {'asset': 'MDT', 'free': '10633.00000000', 'locked': '0.00000000'},\n  {'asset': 'STMX', 'free': '18400.00000000', 'locked': '0.00000000'},\n  {'asset': 'PNT', 'free': '3697.00000000', 'locked': '0.00000000'},\n  {'asset': 'GBP', 'free': '413.00000000', 'locked': '0.00000000'},\n  {'asset': 'DGB', 'free': '18400.00000000', 'locked': '0.00000000'},\n  {'asset': 'UAH', 'free': '12.00000000', 'locked': '0.00000000'},\n  {'asset': 'COMP', 'free': '11.00000000', 'locked': '0.00000000'},\n  {'asset': 'SXP', 'free': '1830.00000000', 'locked': '0.00000000'},\n  {'asset': 'SNX', 'free': '246.00000000', 'locked': '0.00000000'},\n  {'asset': 'VTHO', 'free': '18400.00000000', 'locked': '0.00000000'},\n  {'asset': 'IRIS', 'free': '18400.00000000', 'locked': '0.00000000'},\n  {'asset': 'MKR', 'free': '1.00000000', 'locked': '0.00000000'},\n  {'asset': 'RUNE', 'free': '254.00000000', 'locked': '0.00000000'},\n  {'asset': 'FIO', 'free': '18400.00000000', 'locked': '0.00000000'},\n  {'asset': 'AVA', 'free': '1095.00000000', 'locked': '0.00000000'},\n  {'asset': 'BAL', 'free': '153.00000000', 'locked': '0.00000000'},\n  {'asset': 'YFI', 'free': '1.00000000', 'locked': '0.00000000'},\n  {'asset': 'DAI', 'free': '491.00000000', 'locked': '0.00000000'},\n  {'asset': 'JST', 'free': '18400.00000000', 'locked': '0.00000000'},\n  {'asset': 'ANT', 'free': '102.00000000', 'locked': '0.00000000'},\n  {'asset': 'CRV', 'free': '1030.00000000', 'locked': '0.00000000'},\n  {'asset': 'SAND', 'free': '1691.00000000', 'locked': '0.00000000'},\n  {'asset': 'OCEAN', 'free': '1640.00000000', 'locked': '0.00000000'},\n  {'asset': 'NMR', 'free': '39.00000000', 'locked': '0.00000000'},\n  {'asset': 'DOT', 'free': '123.00000000', 'locked': '0.00000000'},\n  {'asset': 'LUNA', 'free': '1136.00000000', 'locked': '0.00000000'},\n  {'asset': 'IDEX', 'free': '10840.00000000', 'locked': '0.00000000'},\n  {'asset': 'RSR', 'free': '18400.00000000', 'locked': '0.00000000'},\n  {'asset': 'PAXG', 'free': '1.00000000', 'locked': '0.00000000'},\n  {'asset': 'WNXM', 'free': '16.00000000', 'locked': '0.00000000'},\n  {'asset': 'TRB', 'free': '10.00000000', 'locked': '0.00000000'},\n  {'asset': 'WBTC', 'free': '1.00000000', 'locked': '0.00000000'},\n  {'asset': 'SUSHI', 'free': '863.00000000', 'locked': '0.00000000'},\n  {'asset': 'KSM', 'free': '26.00000000', 'locked': '0.00000000'},\n  {'asset': 'EGLD', 'free': '20.00000000', 'locked': '0.00000000'},\n  {'asset': 'DIA', 'free': '2011.00000000', 'locked': '0.00000000'},\n  {'asset': 'UMA', 'free': '369.00000000', 'locked': '0.00000000'},\n  {'asset': 'BEL', 'free': '837.00000000', 'locked': '0.00000000'},\n  {'asset': 'WING', 'free': '90.00000000', 'locked': '0.00000000'},\n  {'asset': 'UNI', 'free': '115.00000000', 'locked': '0.00000000'},\n  {'asset': 'OXT', 'free': '7686.00000000', 'locked': '0.00000000'},\n  {'asset': 'SUN', 'free': '18400.00000000', 'locked': '0.00000000'},\n  {'asset': 'AVAX', 'free': '51.00000000', 'locked': '0.00000000'},\n  {'asset': 'BAKE', 'free': '3485.00000000', 'locked': '0.00000000'},\n  {'asset': 'FLM', 'free': '6576.00000000', 'locked': '0.00000000'},\n  {'asset': 'SCRT', 'free': '1861.00000000', 'locked': '0.00000000'},\n  {'asset': 'CAKE', 'free': '422.00000000', 'locked': '0.00000000'},\n  {'asset': 'ORN', 'free': '980.00000000', 'locked': '0.00000000'},\n  {'asset': 'UTK', 'free': '8965.00000000', 'locked': '0.00000000'},\n  {'asset': 'XVS', 'free': '98.00000000', 'locked': '0.00000000'},\n  {'asset': 'ALPHA', 'free': '6622.00000000', 'locked': '0.00000000'},\n  {'asset': 'VIDT', 'free': '18400.00000000', 'locked': '0.00000000'},\n  {'asset': 'AAVE', 'free': '7.00000000', 'locked': '0.00000000'},\n  {'asset': 'BRL', 'free': '97.00000000', 'locked': '0.00000000'},\n  {'asset': 'NEAR', 'free': '459.00000000', 'locked': '0.00000000'},\n  {'asset': 'FIL', 'free': '151.00000000', 'locked': '0.00000000'},\n  {'asset': 'INJ', 'free': '66.00000000', 'locked': '0.00000000'},\n  {'asset': 'AERGO', 'free': '4882.00000000', 'locked': '0.00000000'}],\n 'permissions': ['SPOT'],\n 'uid': 1697347736516771588}"
     },
     "execution_count": 13,
     "metadata": {},
     "output_type": "execute_result"
    }
   ],
   "source": [
    "client.get_account()"
   ],
   "metadata": {
    "collapsed": false,
    "ExecuteTime": {
     "end_time": "2023-10-15T05:37:28.990473Z",
     "start_time": "2023-10-15T05:37:28.539680Z"
    }
   },
   "id": "a921396c480d423a"
  },
  {
   "cell_type": "code",
   "execution_count": 15,
   "outputs": [
    {
     "data": {
      "text/plain": "[{'symbol': 'ETHBTC', 'price': '0.05777000'},\n {'symbol': 'LTCBTC', 'price': '0.00229300'},\n {'symbol': 'BNBBTC', 'price': '0.00770400'},\n {'symbol': 'BTCUSDT', 'price': '27091.21000000'},\n {'symbol': 'ETHUSDT', 'price': '1549.74000000'},\n {'symbol': 'TRXBTC', 'price': '0.00000317'},\n {'symbol': 'XRPBTC', 'price': '0.00001808'},\n {'symbol': 'BNBUSDT', 'price': '207.00000000'},\n {'symbol': 'LTCUSDT', 'price': '61.69000000'},\n {'symbol': 'LTCBNB', 'price': '0.29800000'},\n {'symbol': 'XRPUSDT', 'price': '0.48640000'},\n {'symbol': 'XRPBNB', 'price': '0.00234900'},\n {'symbol': 'TRXBNB', 'price': '0.00041040'},\n {'symbol': 'TRXUSDT', 'price': '0.08503000'},\n {'symbol': 'BNBBUSD', 'price': '207.30000000'},\n {'symbol': 'BTCBUSD', 'price': '26890.88000000'},\n {'symbol': 'XRPBUSD', 'price': '0.48630000'},\n {'symbol': 'ETHBUSD', 'price': '1553.30000000'},\n {'symbol': 'LTCBUSD', 'price': '61.66000000'},\n {'symbol': 'TRXBUSD', 'price': '0.08501000'},\n {'symbol': 'NEOBTC', 'price': '0.00025730'},\n {'symbol': 'QTUMETH', 'price': '0.00152400'},\n {'symbol': 'EOSETH', 'price': '0.00035140'},\n {'symbol': 'SNTETH', 'price': '0.00001568'},\n {'symbol': 'BNTETH', 'price': '0.00035120'},\n {'symbol': 'GASBTC', 'price': '0.00008430'},\n {'symbol': 'BNBETH', 'price': '0.13330000'},\n {'symbol': 'WTCBTC', 'price': '0.00000567'},\n {'symbol': 'LRCBTC', 'price': '0.00000625'},\n {'symbol': 'LRCETH', 'price': '0.00010791'},\n {'symbol': 'QTUMBTC', 'price': '0.00008050'},\n {'symbol': 'ZRXBTC', 'price': '0.00000840'},\n {'symbol': 'KNCBTC', 'price': '0.00002405'},\n {'symbol': 'FUNETH', 'price': '0.00000269'},\n {'symbol': 'NEOETH', 'price': '0.00444200'},\n {'symbol': 'IOTABTC', 'price': '0.00000541'},\n {'symbol': 'IOTAETH', 'price': '0.00009330'},\n {'symbol': 'LINKBTC', 'price': '0.00027310'},\n {'symbol': 'LINKETH', 'price': '0.00473200'},\n {'symbol': 'XVGETH', 'price': '0.00000210'},\n {'symbol': 'MTLBTC', 'price': '0.00004543'},\n {'symbol': 'EOSBTC', 'price': '0.00002028'},\n {'symbol': 'SNTBTC', 'price': '0.00000086'},\n {'symbol': 'ETCETH', 'price': '0.00963000'},\n {'symbol': 'ETCBTC', 'price': '0.00055900'},\n {'symbol': 'ZECBTC', 'price': '0.00093500'},\n {'symbol': 'ZECETH', 'price': '0.01625000'},\n {'symbol': 'BNTBTC', 'price': '0.00002030'},\n {'symbol': 'ASTBTC', 'price': '0.00000301'},\n {'symbol': 'DASHBTC', 'price': '0.00095000'},\n {'symbol': 'DASHETH', 'price': '0.01636000'},\n {'symbol': 'OAXBTC', 'price': '0.00000571'},\n {'symbol': 'REQBTC', 'price': '0.00000281'},\n {'symbol': 'VIBBTC', 'price': '0.00000166'},\n {'symbol': 'TRXETH', 'price': '0.00005481'},\n {'symbol': 'POWRBTC', 'price': '0.00000623'},\n {'symbol': 'POWRETH', 'price': '0.00010650'},\n {'symbol': 'XRPETH', 'price': '0.00031290'},\n {'symbol': 'ENJBTC', 'price': '0.00000792'},\n {'symbol': 'ENJETH', 'price': '0.00013640'},\n {'symbol': 'STORJBTC', 'price': '0.00001542'},\n {'symbol': 'KMDBTC', 'price': '0.00000791'},\n {'symbol': 'NULSBTC', 'price': '0.00000645'},\n {'symbol': 'XMRBTC', 'price': '0.00566400'},\n {'symbol': 'XMRETH', 'price': '0.09791000'},\n {'symbol': 'AMBBTC', 'price': '0.00000033'},\n {'symbol': 'BATBTC', 'price': '0.00000659'},\n {'symbol': 'NEOUSDT', 'price': '6.92000000'},\n {'symbol': 'NEOBNB', 'price': '0.03346000'},\n {'symbol': 'LSKBTC', 'price': '0.00002872'},\n {'symbol': 'LSKETH', 'price': '0.00049700'},\n {'symbol': 'MANABTC', 'price': '0.00001065'},\n {'symbol': 'MANAETH', 'price': '0.00018240'},\n {'symbol': 'ADXBTC', 'price': '0.00000491'},\n {'symbol': 'ADXETH', 'price': '0.00008550'},\n {'symbol': 'ADABTC', 'price': '0.00000921'},\n {'symbol': 'ADAETH', 'price': '0.00015910'},\n {'symbol': 'XLMBTC', 'price': '0.00000390'},\n {'symbol': 'XLMETH', 'price': '0.00006740'},\n {'symbol': 'XLMBNB', 'price': '0.00050500'},\n {'symbol': 'LTCETH', 'price': '0.03968000'},\n {'symbol': 'WAVESBTC', 'price': '0.00005490'},\n {'symbol': 'WAVESETH', 'price': '0.00097400'},\n {'symbol': 'ICXBTC', 'price': '0.00000635'},\n {'symbol': 'ELFBTC', 'price': '0.00001239'},\n {'symbol': 'ELFETH', 'price': '0.00021660'},\n {'symbol': 'RLCBTC', 'price': '0.00003568'},\n {'symbol': 'RLCETH', 'price': '0.00061200'},\n {'symbol': 'PIVXBTC', 'price': '0.00000675'},\n {'symbol': 'IOSTBTC', 'price': '0.00000026'},\n {'symbol': 'IOSTETH', 'price': '0.00000449'},\n {'symbol': 'STEEMBTC', 'price': '0.00000636'},\n {'symbol': 'STEEMETH', 'price': '0.00011050'},\n {'symbol': 'BLZBTC', 'price': '0.00000450'},\n {'symbol': 'ZILBTC', 'price': '0.00000061'},\n {'symbol': 'ZILETH', 'price': '0.00001050'},\n {'symbol': 'ZILBNB', 'price': '0.00007909'},\n {'symbol': 'ONTBTC', 'price': '0.00000605'},\n {'symbol': 'QTUMUSDT', 'price': '2.16700000'},\n {'symbol': 'WANBTC', 'price': '0.00000639'},\n {'symbol': 'WANETH', 'price': '0.00011040'},\n {'symbol': 'SYSBTC', 'price': '0.00000301'},\n {'symbol': 'ADAUSDT', 'price': '0.24780000'},\n {'symbol': 'ADABNB', 'price': '0.00119600'},\n {'symbol': 'LOOMBTC', 'price': '0.00001388'},\n {'symbol': 'BTCTUSD', 'price': '26923.94000000'},\n {'symbol': 'ETHTUSD', 'price': '1557.20000000'},\n {'symbol': 'ZENBTC', 'price': '0.00027380'},\n {'symbol': 'ZENETH', 'price': '0.00474700'},\n {'symbol': 'EOSUSDT', 'price': '0.54500000'},\n {'symbol': 'EOSBNB', 'price': '0.00262000'},\n {'symbol': 'THETABTC', 'price': '0.00002207'},\n {'symbol': 'THETAETH', 'price': '0.00037930'},\n {'symbol': 'THETABNB', 'price': '0.00285300'},\n {'symbol': 'TUSDUSDT', 'price': '0.99910000'},\n {'symbol': 'IOTAUSDT', 'price': '0.14560000'},\n {'symbol': 'XLMUSDT', 'price': '0.10500000'},\n {'symbol': 'IOTXBTC', 'price': '0.00000070'},\n {'symbol': 'IOTXETH', 'price': '0.00001196'},\n {'symbol': 'QKCBTC', 'price': '0.00000029'},\n {'symbol': 'QKCETH', 'price': '0.00000500'},\n {'symbol': 'DATABTC', 'price': '0.00000087'},\n {'symbol': 'ONTUSDT', 'price': '0.16360000'},\n {'symbol': 'ETCUSDT', 'price': '14.95000000'},\n {'symbol': 'ETCBNB', 'price': '0.07270000'},\n {'symbol': 'ICXUSDT', 'price': '0.17380000'},\n {'symbol': 'SCETH', 'price': '0.00000188'},\n {'symbol': 'DENTETH', 'price': '0.00000038'},\n {'symbol': 'ARDRBTC', 'price': '0.00000252'},\n {'symbol': 'NULSUSDT', 'price': '0.17360000'},\n {'symbol': 'HOTETH', 'price': '0.00000073'},\n {'symbol': 'VETBTC', 'price': '0.00000061'},\n {'symbol': 'VETETH', 'price': '0.00001068'},\n {'symbol': 'VETUSDT', 'price': '0.01660000'},\n {'symbol': 'VETBNB', 'price': '0.00007920'},\n {'symbol': 'DOCKBTC', 'price': '0.00000054'},\n {'symbol': 'RVNBTC', 'price': '0.00000053'},\n {'symbol': 'DCRBTC', 'price': '0.00045300'},\n {'symbol': 'RENBTC', 'price': '0.00000161'},\n {'symbol': 'BNBTUSD', 'price': '207.40000000'},\n {'symbol': 'XRPTUSD', 'price': '0.48810000'},\n {'symbol': 'BNBUSDC', 'price': '207.50000000'},\n {'symbol': 'BTCUSDC', 'price': '26878.97000000'},\n {'symbol': 'ETHUSDC', 'price': '1553.56000000'},\n {'symbol': 'USDCUSDT', 'price': '0.99490000'},\n {'symbol': 'ADATUSD', 'price': '0.24780000'},\n {'symbol': 'TRXXRP', 'price': '0.17464000'},\n {'symbol': 'LINKUSDT', 'price': '7.33800000'},\n {'symbol': 'WAVESUSDT', 'price': '1.47300000'},\n {'symbol': 'LTCTUSD', 'price': '61.96000000'},\n {'symbol': 'ONGBTC', 'price': '0.00000854'},\n {'symbol': 'ONGUSDT', 'price': '0.22990000'},\n {'symbol': 'HOTUSDT', 'price': '0.00113600'},\n {'symbol': 'ZILUSDT', 'price': '0.01663000'},\n {'symbol': 'ZRXUSDT', 'price': '0.23780000'},\n {'symbol': 'FETBNB', 'price': '0.00103100'},\n {'symbol': 'FETBTC', 'price': '0.00000796'},\n {'symbol': 'FETUSDT', 'price': '0.21440000'},\n {'symbol': 'BATUSDT', 'price': '0.17550000'},\n {'symbol': 'XMRBNB', 'price': '0.73490000'},\n {'symbol': 'XMRUSDT', 'price': '152.10000000'},\n {'symbol': 'ZECUSDT', 'price': '25.16000000'},\n {'symbol': 'IOSTUSDT', 'price': '0.00702000'},\n {'symbol': 'CELRBTC', 'price': '0.00000044'},\n {'symbol': 'CELRUSDT', 'price': '0.01189000'},\n {'symbol': 'DASHUSDT', 'price': '25.62000000'},\n {'symbol': 'OMGUSDT', 'price': '0.44400000'},\n {'symbol': 'THETAUSDT', 'price': '0.59200000'},\n {'symbol': 'ENJUSDT', 'price': '0.21190000'},\n {'symbol': 'MATICBNB', 'price': '0.00249400'},\n {'symbol': 'MATICBTC', 'price': '0.00001925'},\n {'symbol': 'MATICUSDT', 'price': '0.51740000'},\n {'symbol': 'ATOMBNB', 'price': '0.03212000'},\n {'symbol': 'ATOMBTC', 'price': '0.00024430'},\n {'symbol': 'ATOMUSDT', 'price': '6.56600000'},\n {'symbol': 'PHBBTC', 'price': '0.00002086'},\n {'symbol': 'TFUELBTC', 'price': '0.00000122'},\n {'symbol': 'TFUELUSDT', 'price': '0.03300000'},\n {'symbol': 'ONEBNB', 'price': '0.00004424'},\n {'symbol': 'ONEBTC', 'price': '0.00000034'},\n {'symbol': 'ONEUSDT', 'price': '0.00922000'},\n {'symbol': 'FTMBNB', 'price': '0.00089340'},\n {'symbol': 'FTMBTC', 'price': '0.00000690'},\n {'symbol': 'FTMUSDT', 'price': '0.18530000'},\n {'symbol': 'ALGOBNB', 'price': '0.00046200'},\n {'symbol': 'ALGOBTC', 'price': '0.00000354'},\n {'symbol': 'ALGOUSDT', 'price': '0.09520000'},\n {'symbol': 'DOGEBTC', 'price': '0.00000222'},\n {'symbol': 'DOGEUSDT', 'price': '0.05942000'},\n {'symbol': 'DUSKBTC', 'price': '0.00000402'},\n {'symbol': 'DUSKUSDT', 'price': '0.10830000'},\n {'symbol': 'ANKRBTC', 'price': '0.00000073'},\n {'symbol': 'ANKRUSDT', 'price': '0.01964000'},\n {'symbol': 'WINBNB', 'price': '0.00000029'},\n {'symbol': 'WINUSDT', 'price': '0.00005970'},\n {'symbol': 'COSBNB', 'price': '0.00002084'},\n {'symbol': 'COSBTC', 'price': '0.00000016'},\n {'symbol': 'COSUSDT', 'price': '0.00433000'},\n {'symbol': 'MTLUSDT', 'price': '1.23300000'},\n {'symbol': 'TOMOBTC', 'price': '0.00005591'},\n {'symbol': 'TOMOUSDT', 'price': '1.48130000'},\n {'symbol': 'PERLUSDT', 'price': '0.01715000'},\n {'symbol': 'DENTUSDT', 'price': '0.00059700'},\n {'symbol': 'KEYUSDT', 'price': '0.00547000'},\n {'symbol': 'DOCKUSDT', 'price': '0.01467000'},\n {'symbol': 'WANUSDT', 'price': '0.17190000'},\n {'symbol': 'FUNUSDT', 'price': '0.00414700'},\n {'symbol': 'CVCUSDT', 'price': '0.07570000'},\n {'symbol': 'WINTRX', 'price': '0.00070400'},\n {'symbol': 'CHZBNB', 'price': '0.00026760'},\n {'symbol': 'CHZBTC', 'price': '0.00000207'},\n {'symbol': 'CHZUSDT', 'price': '0.05550000'},\n {'symbol': 'BANDBTC', 'price': '0.00003823'},\n {'symbol': 'BANDUSDT', 'price': '1.03500000'},\n {'symbol': 'BUSDUSDT', 'price': '1.00030000'},\n {'symbol': 'XTZBTC', 'price': '0.00002430'},\n {'symbol': 'XTZUSDT', 'price': '0.65300000'},\n {'symbol': 'RENUSDT', 'price': '0.04343900'},\n {'symbol': 'RVNUSDT', 'price': '0.01416000'},\n {'symbol': 'HBARBNB', 'price': '0.00022680'},\n {'symbol': 'HBARBTC', 'price': '0.00000175'},\n {'symbol': 'HBARUSDT', 'price': '0.04700000'},\n {'symbol': 'NKNBTC', 'price': '0.00000306'},\n {'symbol': 'NKNUSDT', 'price': '0.08230000'},\n {'symbol': 'LINKBUSD', 'price': '7.33400000'},\n {'symbol': 'ETCBUSD', 'price': '14.95000000'},\n {'symbol': 'STXBNB', 'price': '0.00244600'},\n {'symbol': 'STXBTC', 'price': '0.00001869'},\n {'symbol': 'STXUSDT', 'price': '0.50290000'},\n {'symbol': 'KAVABNB', 'price': '0.00288400'},\n {'symbol': 'KAVABTC', 'price': '0.00002195'},\n {'symbol': 'KAVAUSDT', 'price': '0.58900000'},\n {'symbol': 'BTCNGN', 'price': '27975404.00000000'},\n {'symbol': 'ARPABNB', 'price': '0.00019570'},\n {'symbol': 'ARPABTC', 'price': '0.00000150'},\n {'symbol': 'ARPAUSDT', 'price': '0.04058000'},\n {'symbol': 'EOSBUSD', 'price': '0.54500000'},\n {'symbol': 'IOTXUSDT', 'price': '0.01889000'},\n {'symbol': 'RLCUSDT', 'price': '0.96200000'},\n {'symbol': 'XLMBUSD', 'price': '0.10490000'},\n {'symbol': 'ADABUSD', 'price': '0.24750000'},\n {'symbol': 'CTXCBTC', 'price': '0.00000437'},\n {'symbol': 'CTXCUSDT', 'price': '0.11750000'},\n {'symbol': 'BCHBNB', 'price': '1.03500000'},\n {'symbol': 'BCHBTC', 'price': '0.00797000'},\n {'symbol': 'BCHUSDT', 'price': '214.30000000'},\n {'symbol': 'BCHTUSD', 'price': '215.60000000'},\n {'symbol': 'BCHBUSD', 'price': '214.60000000'},\n {'symbol': 'BTCRUB', 'price': '2649359.00000000'},\n {'symbol': 'ETHRUB', 'price': '153098.60000000'},\n {'symbol': 'XRPRUB', 'price': '48.09000000'},\n {'symbol': 'BNBRUB', 'price': '20433.81000000'},\n {'symbol': 'TROYUSDT', 'price': '0.00220100'},\n {'symbol': 'BUSDRUB', 'price': '98.63000000'},\n {'symbol': 'VETBUSD', 'price': '0.01660000'},\n {'symbol': 'VITEBTC', 'price': '0.00000044'},\n {'symbol': 'VITEUSDT', 'price': '0.01103000'},\n {'symbol': 'FTTUSDT', 'price': '1.04180000'},\n {'symbol': 'BTCTRY', 'price': '756317.00000000'},\n {'symbol': 'BNBTRY', 'price': '5832.00000000'},\n {'symbol': 'BUSDTRY', 'price': '28.17000000'},\n {'symbol': 'ETHTRY', 'price': '43714.00000000'},\n {'symbol': 'XRPTRY', 'price': '13.67500000'},\n {'symbol': 'USDTTRY', 'price': '28.16000000'},\n {'symbol': 'USDTRUB', 'price': '98.56000000'},\n {'symbol': 'BTCEUR', 'price': '25619.68000000'},\n {'symbol': 'ETHEUR', 'price': '1480.53000000'},\n {'symbol': 'BNBEUR', 'price': '197.60000000'},\n {'symbol': 'XRPEUR', 'price': '0.46320000'},\n {'symbol': 'EURBUSD', 'price': '1.04890000'},\n {'symbol': 'EURUSDT', 'price': '1.04920000'},\n {'symbol': 'OGNBTC', 'price': '0.00000445'},\n {'symbol': 'OGNUSDT', 'price': '0.11850000'},\n {'symbol': 'DREPBTC', 'price': '0.00000976'},\n {'symbol': 'DREPUSDT', 'price': '0.25670000'},\n {'symbol': 'WRXUSDT', 'price': '0.10060000'},\n {'symbol': 'ICXBUSD', 'price': '0.17030000'},\n {'symbol': 'BTSUSDT', 'price': '0.00917000'},\n {'symbol': 'LSKUSDT', 'price': '0.78500000'},\n {'symbol': 'BNTUSDT', 'price': '0.53080000'},\n {'symbol': 'LTOBTC', 'price': '0.00000203'},\n {'symbol': 'LTOUSDT', 'price': '0.05490000'},\n {'symbol': 'ATOMBUSD', 'price': '6.56100000'},\n {'symbol': 'NEOBUSD', 'price': '6.89000000'},\n {'symbol': 'WAVESBUSD', 'price': '1.47200000'},\n {'symbol': 'ENJBUSD', 'price': '0.21200000'},\n {'symbol': 'ONTBUSD', 'price': '0.16050000'},\n {'symbol': 'MBLUSDT', 'price': '0.00319700'},\n {'symbol': 'COTIBNB', 'price': '0.00018960'},\n {'symbol': 'COTIBTC', 'price': '0.00000147'},\n {'symbol': 'COTIUSDT', 'price': '0.03960000'},\n {'symbol': 'ALGOBUSD', 'price': '0.09560000'},\n {'symbol': 'TOMOBUSD', 'price': '1.47950000'},\n {'symbol': 'XMRBUSD', 'price': '151.70000000'},\n {'symbol': 'ZECBUSD', 'price': '25.11000000'},\n {'symbol': 'STPTBTC', 'price': '0.00000255'},\n {'symbol': 'STPTUSDT', 'price': '0.06852000'},\n {'symbol': 'BTCZAR', 'price': '527382.00000000'},\n {'symbol': 'ETHZAR', 'price': '30510.00000000'},\n {'symbol': 'USDTZAR', 'price': '19.64000000'},\n {'symbol': 'BUSDZAR', 'price': '19.67000000'},\n {'symbol': 'WTCUSDT', 'price': '0.15180000'},\n {'symbol': 'DATABUSD', 'price': '0.02433000'},\n {'symbol': 'DATAUSDT', 'price': '0.02363000'},\n {'symbol': 'SOLBNB', 'price': '0.10620000'},\n {'symbol': 'SOLBTC', 'price': '0.00081590'},\n {'symbol': 'SOLUSDT', 'price': '21.93000000'},\n {'symbol': 'SOLBUSD', 'price': '21.92000000'},\n {'symbol': 'CTSIBTC', 'price': '0.00000492'},\n {'symbol': 'CTSIUSDT', 'price': '0.13220000'},\n {'symbol': 'CTSIBNB', 'price': '0.00064100'},\n {'symbol': 'CTSIBUSD', 'price': '0.13200000'},\n {'symbol': 'HIVEBTC', 'price': '0.00001070'},\n {'symbol': 'HIVEUSDT', 'price': '0.29430000'},\n {'symbol': 'CHRBNB', 'price': '0.00043700'},\n {'symbol': 'CHRBTC', 'price': '0.00000337'},\n {'symbol': 'CHRUSDT', 'price': '0.09050000'},\n {'symbol': 'ARDRUSDT', 'price': '0.06790000'},\n {'symbol': 'HBARBUSD', 'price': '0.04720000'},\n {'symbol': 'MATICBUSD', 'price': '0.51720000'},\n {'symbol': 'WRXBUSD', 'price': '0.10000000'},\n {'symbol': 'ZILBUSD', 'price': '0.01622000'},\n {'symbol': 'MDTBTC', 'price': '0.00000155'},\n {'symbol': 'MDTUSDT', 'price': '0.04164000'},\n {'symbol': 'STMXUSDT', 'price': '0.00637200'},\n {'symbol': 'KNCBUSD', 'price': '0.64100000'},\n {'symbol': 'KNCUSDT', 'price': '0.64100000'},\n {'symbol': 'LRCBUSD', 'price': '0.17680000'},\n {'symbol': 'LRCUSDT', 'price': '0.16820000'},\n {'symbol': 'PNTUSDT', 'price': '0.12500000'},\n {'symbol': 'BTCGBP', 'price': '22164.83000000'},\n {'symbol': 'ETHGBP', 'price': '1280.57000000'},\n {'symbol': 'XRPGBP', 'price': '0.40070000'},\n {'symbol': 'BNBGBP', 'price': '171.00000000'},\n {'symbol': 'GBPBUSD', 'price': '1.21300000'},\n {'symbol': 'DGBBTC', 'price': '0.00000024'},\n {'symbol': 'BTCUAH', 'price': '1078810.00000000'},\n {'symbol': 'USDTUAH', 'price': '40.14000000'},\n {'symbol': 'COMPBTC', 'price': '0.00152500'},\n {'symbol': 'COMPBUSD', 'price': '41.11000000'},\n {'symbol': 'COMPUSDT', 'price': '41.09000000'},\n {'symbol': 'SCUSDT', 'price': '0.00294700'},\n {'symbol': 'ZENUSDT', 'price': '7.44000000'},\n {'symbol': 'SXPBTC', 'price': '0.00000997'},\n {'symbol': 'SXPBNB', 'price': '0.00129500'},\n {'symbol': 'SXPBUSD', 'price': '0.26840000'},\n {'symbol': 'SNXBTC', 'price': '0.00006890'},\n {'symbol': 'SNXBNB', 'price': '0.00894000'},\n {'symbol': 'SNXBUSD', 'price': '1.85300000'},\n {'symbol': 'SNXUSDT', 'price': '1.86000000'},\n {'symbol': 'VTHOUSDT', 'price': '0.00112500'},\n {'symbol': 'DGBUSDT', 'price': '0.00622000'},\n {'symbol': 'GBPUSDT', 'price': '1.21300000'},\n {'symbol': 'SXPUSDT', 'price': '0.26830000'},\n {'symbol': 'IRISBTC', 'price': '0.00000065'},\n {'symbol': 'MKRBTC', 'price': '0.05300000'},\n {'symbol': 'MKRUSDT', 'price': '1426.00000000'},\n {'symbol': 'MKRBUSD', 'price': '1432.00000000'},\n {'symbol': 'RUNEBNB', 'price': '0.00803200'},\n {'symbol': 'RUNEBTC', 'price': '0.00006154'},\n {'symbol': 'RUNEBUSD', 'price': '1.66000000'},\n {'symbol': 'MANABUSD', 'price': '0.28540000'},\n {'symbol': 'DOGEBUSD', 'price': '0.05940000'},\n {'symbol': 'DCRUSDT', 'price': '12.21000000'},\n {'symbol': 'STORJUSDT', 'price': '0.40060000'},\n {'symbol': 'FIOBTC', 'price': '0.00000069'},\n {'symbol': 'AVABTC', 'price': '0.00001623'},\n {'symbol': 'IOTABUSD', 'price': '0.14540000'},\n {'symbol': 'MANAUSDT', 'price': '0.28600000'},\n {'symbol': 'BALBTC', 'price': '0.00011430'},\n {'symbol': 'YFIBTC', 'price': '0.19070000'},\n {'symbol': 'YFIBUSD', 'price': '5281.00000000'},\n {'symbol': 'YFIUSDT', 'price': '5137.00000000'},\n {'symbol': 'BALUSDT', 'price': '3.07000000'},\n {'symbol': 'BLZUSDT', 'price': '0.12170000'},\n {'symbol': 'IRISUSDT', 'price': '0.01744000'},\n {'symbol': 'KMDUSDT', 'price': '0.21160000'},\n {'symbol': 'BTCDAI', 'price': '26879.91000000'},\n {'symbol': 'ETHDAI', 'price': '1553.34000000'},\n {'symbol': 'BNBDAI', 'price': '208.00000000'},\n {'symbol': 'USDTDAI', 'price': '1.00000000'},\n {'symbol': 'BUSDDAI', 'price': '1.00000000'},\n {'symbol': 'JSTBTC', 'price': '0.00000084'},\n {'symbol': 'JSTUSDT', 'price': '0.02270000'},\n {'symbol': 'ANTBNB', 'price': '0.02227000'},\n {'symbol': 'ANTBTC', 'price': '0.00016980'},\n {'symbol': 'ANTUSDT', 'price': '4.61900000'},\n {'symbol': 'CRVBTC', 'price': '0.00001636'},\n {'symbol': 'CRVBUSD', 'price': '0.44000000'},\n {'symbol': 'CRVUSDT', 'price': '0.44030000'},\n {'symbol': 'SANDBNB', 'price': '0.00139800'},\n {'symbol': 'SANDBTC', 'price': '0.00001070'},\n {'symbol': 'SANDUSDT', 'price': '0.29010000'},\n {'symbol': 'SANDBUSD', 'price': '0.28950000'},\n {'symbol': 'OCEANBNB', 'price': '0.00139700'},\n {'symbol': 'OCEANBTC', 'price': '0.00001073'},\n {'symbol': 'OCEANBUSD', 'price': '0.28740000'},\n {'symbol': 'OCEANUSDT', 'price': '0.28980000'},\n {'symbol': 'NMRBTC', 'price': '0.00045400'},\n {'symbol': 'NMRUSDT', 'price': '12.14000000'},\n {'symbol': 'DOTBNB', 'price': '0.01819000'},\n {'symbol': 'DOTBTC', 'price': '0.00013910'},\n {'symbol': 'DOTBUSD', 'price': '3.72200000'},\n {'symbol': 'DOTUSDT', 'price': '3.71600000'},\n {'symbol': 'LUNABUSD', 'price': '0.40310000'},\n {'symbol': 'LUNAUSDT', 'price': '0.40300000'},\n {'symbol': 'IDEXBTC', 'price': '0.00000157'},\n {'symbol': 'IDEXBUSD', 'price': '0.04347000'},\n {'symbol': 'RSRBNB', 'price': '0.00000882'},\n {'symbol': 'RSRUSDT', 'price': '0.00184000'},\n {'symbol': 'PAXGBNB', 'price': '9.28500000'},\n {'symbol': 'PAXGBTC', 'price': '0.07155000'},\n {'symbol': 'PAXGBUSD', 'price': '1925.00000000'},\n {'symbol': 'PAXGUSDT', 'price': '1922.00000000'},\n {'symbol': 'WNXMUSDT', 'price': '29.40000000'},\n {'symbol': 'TRBBTC', 'price': '0.00227410'},\n {'symbol': 'TRBBUSD', 'price': '61.16000000'},\n {'symbol': 'TRBUSDT', 'price': '61.13000000'},\n {'symbol': 'WBTCBTC', 'price': '0.70220000'},\n {'symbol': 'WBTCETH', 'price': '17.29000000'},\n {'symbol': 'SUSHIBNB', 'price': '0.00262000'},\n {'symbol': 'SUSHIBTC', 'price': '0.00002033'},\n {'symbol': 'SUSHIBUSD', 'price': '0.58000000'},\n {'symbol': 'SUSHIUSDT', 'price': '0.54700000'},\n {'symbol': 'KSMBTC', 'price': '0.00065500'},\n {'symbol': 'KSMUSDT', 'price': '17.57000000'},\n {'symbol': 'EGLDBNB', 'price': '0.11650000'},\n {'symbol': 'EGLDBTC', 'price': '0.00089600'},\n {'symbol': 'EGLDBUSD', 'price': '23.89000000'},\n {'symbol': 'EGLDUSDT', 'price': '23.88000000'},\n {'symbol': 'DIABTC', 'price': '0.00000847'},\n {'symbol': 'DIABUSD', 'price': '0.24750000'},\n {'symbol': 'DIAUSDT', 'price': '0.23020000'},\n {'symbol': 'RUNEUSDT', 'price': '1.66000000'},\n {'symbol': 'FIOUSDT', 'price': '0.01862000'},\n {'symbol': 'UMABTC', 'price': '0.00004820'},\n {'symbol': 'UMAUSDT', 'price': '1.29500000'},\n {'symbol': 'LINKTRY', 'price': '206.50000000'},\n {'symbol': 'USDTNGN', 'price': '1022.80000000'},\n {'symbol': 'BELBNB', 'price': '0.00265200'},\n {'symbol': 'BELBTC', 'price': '0.00002048'},\n {'symbol': 'BELBUSD', 'price': '0.55180000'},\n {'symbol': 'BELUSDT', 'price': '0.55090000'},\n {'symbol': 'WINGBTC', 'price': '0.00020710'},\n {'symbol': 'WINGBUSD', 'price': '5.55000000'},\n {'symbol': 'WINGUSDT', 'price': '5.69000000'},\n {'symbol': 'UNIBNB', 'price': '0.01979000'},\n {'symbol': 'UNIBTC', 'price': '0.00015230'},\n {'symbol': 'UNIBUSD', 'price': '4.11300000'},\n {'symbol': 'UNIUSDT', 'price': '4.11600000'},\n {'symbol': 'OXTBTC', 'price': '0.00000234'},\n {'symbol': 'OXTUSDT', 'price': '0.06310000'},\n {'symbol': 'SUNUSDT', 'price': '0.00535000'},\n {'symbol': 'AVAXBNB', 'price': '0.04477000'},\n {'symbol': 'AVAXBTC', 'price': '0.00034030'},\n {'symbol': 'AVAXBUSD', 'price': '9.14000000'},\n {'symbol': 'AVAXUSDT', 'price': '9.14000000'},\n {'symbol': 'BAKEBNB', 'price': '0.00064030'},\n {'symbol': 'FLMBTC', 'price': '0.00000250'},\n {'symbol': 'FLMUSDT', 'price': '0.06760000'},\n {'symbol': 'SCRTBTC', 'price': '0.00000905'},\n {'symbol': 'SCRTETH', 'price': '0.00015590'},\n {'symbol': 'CAKEBNB', 'price': '0.00538000'},\n {'symbol': 'CAKEBUSD', 'price': '1.11600000'},\n {'symbol': 'ORNBTC', 'price': '0.00001863'},\n {'symbol': 'ORNUSDT', 'price': '0.50340000'},\n {'symbol': 'SXPTRY', 'price': '7.54400000'},\n {'symbol': 'UTKBTC', 'price': '0.00000193'},\n {'symbol': 'UTKUSDT', 'price': '0.05220000'},\n {'symbol': 'XVSBNB', 'price': '0.02255000'},\n {'symbol': 'XVSBTC', 'price': '0.00017470'},\n {'symbol': 'XVSBUSD', 'price': '4.69000000'},\n {'symbol': 'XVSUSDT', 'price': '4.69000000'},\n {'symbol': 'ALPHABTC', 'price': '0.00000257'},\n {'symbol': 'ALPHAUSDT', 'price': '0.06950000'},\n {'symbol': 'VIDTBTC', 'price': '0.00000062'},\n {'symbol': 'VIDTBUSD', 'price': '0.01734000'},\n {'symbol': 'AAVEBNB', 'price': '0.31000000'},\n {'symbol': 'BTCBRL', 'price': '137763.00000000'},\n {'symbol': 'USDTBRL', 'price': '5.12300000'},\n {'symbol': 'AAVEBTC', 'price': '0.00240200'},\n {'symbol': 'AAVEETH', 'price': '0.04148000'},\n {'symbol': 'AAVEBUSD', 'price': '64.56000000'},\n {'symbol': 'AAVEUSDT', 'price': '64.38000000'},\n {'symbol': 'NEARBNB', 'price': '0.00490200'},\n {'symbol': 'NEARBTC', 'price': '0.00003778'},\n {'symbol': 'NEARBUSD', 'price': '1.01600000'},\n {'symbol': 'NEARUSDT', 'price': '1.01600000'},\n {'symbol': 'FILBNB', 'price': '0.01550000'},\n {'symbol': 'FILBTC', 'price': '0.00011960'},\n {'symbol': 'FILBUSD', 'price': '3.21400000'},\n {'symbol': 'FILUSDT', 'price': '3.21700000'},\n {'symbol': 'INJBNB', 'price': '0.03678000'},\n {'symbol': 'INJBTC', 'price': '0.00028480'},\n {'symbol': 'INJBUSD', 'price': '7.61200000'},\n {'symbol': 'INJUSDT', 'price': '7.61900000'},\n {'symbol': 'AERGOBTC', 'price': '0.00000378'},\n {'symbol': 'AERGOBUSD', 'price': '0.10200000'},\n {'symbol': 'LINKEUR', 'price': '6.98700000'},\n {'symbol': 'ONEBUSD', 'price': '0.00919000'}]"
     },
     "execution_count": 15,
     "metadata": {},
     "output_type": "execute_result"
    }
   ],
   "source": [
    "all_prices = client.get_all_tickers()\n",
    "all_prices"
   ],
   "metadata": {
    "collapsed": false,
    "ExecuteTime": {
     "end_time": "2023-10-15T05:39:57.540067Z",
     "start_time": "2023-10-15T05:39:57.100088Z"
    }
   },
   "id": "f9f89b6a7f7ddcef"
  },
  {
   "cell_type": "code",
   "execution_count": 16,
   "outputs": [
    {
     "data": {
      "text/plain": "500"
     },
     "execution_count": 16,
     "metadata": {},
     "output_type": "execute_result"
    }
   ],
   "source": [
    "len(all_prices)"
   ],
   "metadata": {
    "collapsed": false,
    "ExecuteTime": {
     "end_time": "2023-10-15T05:40:04.433451Z",
     "start_time": "2023-10-15T05:40:04.405869Z"
    }
   },
   "id": "ca1d6ce5edad7fca"
  },
  {
   "cell_type": "code",
   "execution_count": null,
   "outputs": [],
   "source": [],
   "metadata": {
    "collapsed": false
   },
   "id": "c6de7bb8a25b216"
  }
 ],
 "metadata": {
  "kernelspec": {
   "display_name": "Python 3",
   "language": "python",
   "name": "python3"
  },
  "language_info": {
   "codemirror_mode": {
    "name": "ipython",
    "version": 2
   },
   "file_extension": ".py",
   "mimetype": "text/x-python",
   "name": "python",
   "nbconvert_exporter": "python",
   "pygments_lexer": "ipython2",
   "version": "2.7.6"
  }
 },
 "nbformat": 4,
 "nbformat_minor": 5
}
