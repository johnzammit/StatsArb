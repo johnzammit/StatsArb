{
 "cells": [
  {
   "cell_type": "code",
   "execution_count": 24,
   "id": "initial_id",
   "metadata": {
    "collapsed": true,
    "ExecuteTime": {
     "end_time": "2023-10-22T01:51:26.829586Z",
     "start_time": "2023-10-22T01:51:26.810736Z"
    }
   },
   "outputs": [
    {
     "name": "stdout",
     "output_type": "stream",
     "text": [
      "The autoreload extension is already loaded. To reload it, use:\n",
      "  %reload_ext autoreload\n"
     ]
    }
   ],
   "source": [
    "%load_ext autoreload\n",
    "%autoreload 2"
   ]
  },
  {
   "cell_type": "code",
   "execution_count": 25,
   "outputs": [],
   "source": [
    "# Loading the api keys from your local .env file\n",
    "import algo.exchange_setup\n",
    "\n",
    "client = algo.exchange_setup.establish_connection()"
   ],
   "metadata": {
    "collapsed": false,
    "ExecuteTime": {
     "end_time": "2023-10-22T01:51:28.462087Z",
     "start_time": "2023-10-22T01:51:27.900939Z"
    }
   },
   "id": "e59e5b23eb88f846"
  },
  {
   "cell_type": "code",
   "execution_count": 65,
   "outputs": [],
   "source": [
    "from binance import Client\n",
    "import json\n",
    "import datetime\n",
    "import math\n",
    "from algo.datamodel import *\n",
    "\n",
    "\n",
    "class MarketState:\n",
    "    \"\"\" Data class that holds all the information of the market about a pair needed for our algo \"\"\"\n",
    "\n",
    "    def __init__(self, client: Client = None, window_size: int = 1000):\n",
    "        assert (client != None)\n",
    "        self.client = client\n",
    "        self.window_size = window_size  # TODO: define smallest time unit\n",
    "        self.ticker_prices = {}  # key: symbol (str), value: price (float)\n",
    "        self.time = None  # TODO: implement\n",
    "\n",
    "        self.__fetch_prices()\n",
    "        self.symbols = list(self.ticker_prices.keys())\n",
    "\n",
    "    def update(self):\n",
    "        \"\"\"\n",
    "        Updates the MarketState by fetching the latest data from the exchange.\n",
    "        This function should be called on every tick (as defined by the algorithm).\n",
    "        Other functions in this class will rely on the internal states that this function updates,\n",
    "        so this function should be called before any other functions in each time instance.\n",
    "        \"\"\"\n",
    "        self.__fetch_prices()\n",
    "\n",
    "    def __fetch_prices(self):\n",
    "        \"\"\"Private function that updates the prices within the MarketState class\"\"\"\n",
    "        # TODO: update time\n",
    "        for t in self.client.get_all_tickers():\n",
    "            symbol, price = t[\"symbol\"], float(t[\"price\"])\n",
    "            self.ticker_prices[symbol] = price\n",
    "\n",
    "    def current_price(self, coin: str) -> float:\n",
    "        \"\"\"Get the current price of a specific coin\"\"\"\n",
    "        return self.ticker_prices[coin]\n",
    "\n",
    "    def portfolio_balance(self) -> float:\n",
    "        \"\"\"Total USD value of all coins in exchange that we are holding\"\"\"\n",
    "        # need to all get_asset_balance and multiply by market price of the coin-USDT pair\n",
    "        # TODO: update balance inside the update function? or separately?\n",
    "        balances = [Balance(**b) for b in self.client.get_account()[\"balances\"]]\n",
    "        total_balance = 0\n",
    "        excluded_coins = []\n",
    "        for b in balances:\n",
    "            if b.asset in (\"USDT\", \"BUSD\"):\n",
    "                # stablecoin values reflect real value of USD\n",
    "                total_balance += b.free + b.locked\n",
    "            else:\n",
    "                # need to convert this cryptocurrency to USDT to get price in USD\n",
    "                ticker_usdt = b.asset + 'USDT'  # remark: assume all pairs have a USDT conversion\n",
    "\n",
    "                if not (ticker_usdt in self.ticker_prices):\n",
    "                    # coins excluded from portfolio balance (no direct conversion to USD available)\n",
    "                    # TODO: find a conversion from these coins to BTC to USDT (maybe try BUSD)\n",
    "                    excluded_coins.append(b.asset)\n",
    "                    continue\n",
    "\n",
    "                qty = b.free + b.locked\n",
    "                total_balance += qty * self.ticker_prices[ticker_usdt]\n",
    "\n",
    "        print(\n",
    "            f\"Excluded the following coins from portfolio balance calulations (could not find conversion to USD): {excluded_coins}\")\n",
    "\n",
    "        return total_balance\n",
    "\n",
    "    def hard_stop_loss(self) -> float:\n",
    "        # this will move up/down as we our portfolio increases/decreases in value,\n",
    "        #   do we want to set an absolute cutoff to limit exposure or are we fine with increased exposure we our portfolio grows?\n",
    "        return 0.005 * self.portfolio_balance()\n",
    "\n",
    "    def derivative_of_spread(self) -> float:\n",
    "        # return the derivative of the spread price (slope of the spread)\n",
    "        pass\n",
    "\n",
    "    def current_spread(self, coin1, coin2) -> float:\n",
    "        # TODO: do we want to qty of coin1 and coin2 as an arg (based on the lin-alg formula)? do we allow fractional qty?\n",
    "        return self.current_price(coin1) - self.current_price(coin2)\n",
    "\n",
    "    def spread_moving_avg(self, coin1, coin2) -> float:\n",
    "        # Get Rolling Window Price Change Statistics\n",
    "        # GET /api/v3/ticker\n",
    "        pass\n",
    "\n",
    "    def spread_upper_bollinger_band(self, coin1, coin2) -> float:\n",
    "        pass\n",
    "\n",
    "    def spread_lower_bollinger_band(self, coin1, coin2) -> float:\n",
    "        pass\n"
   ],
   "metadata": {
    "collapsed": false,
    "ExecuteTime": {
     "end_time": "2023-10-22T02:21:47.921670Z",
     "start_time": "2023-10-22T02:21:47.821966Z"
    }
   },
   "id": "86203e5b73ee555a"
  },
  {
   "cell_type": "code",
   "execution_count": 66,
   "outputs": [],
   "source": [
    "# Initializer\n",
    "state = MarketState(client)"
   ],
   "metadata": {
    "collapsed": false,
    "ExecuteTime": {
     "end_time": "2023-10-22T02:21:51.377545Z",
     "start_time": "2023-10-22T02:21:50.799500Z"
    }
   },
   "id": "21a10cdf31d2edee"
  },
  {
   "cell_type": "code",
   "execution_count": 67,
   "outputs": [],
   "source": [
    "state.update()"
   ],
   "metadata": {
    "collapsed": false,
    "ExecuteTime": {
     "end_time": "2023-10-22T02:21:52.224965Z",
     "start_time": "2023-10-22T02:21:51.808410Z"
    }
   },
   "id": "a393532179ddfcb2"
  },
  {
   "cell_type": "code",
   "execution_count": 68,
   "outputs": [
    {
     "name": "stdout",
     "output_type": "stream",
     "text": [
      "Excluded the following coins from portfolio balance calulations (could not find conversion to USD): ['SNT', 'GAS', 'XVG', 'AST', 'OAX', 'REQ', 'VIB', 'POWR', 'AMB', 'ADX', 'ELF', 'PIVX', 'STEEM', 'SYS', 'LOOM', 'QKC', 'PHB', 'NGN', 'RUB', 'TRY', 'ZAR', 'UAH', 'AVA', 'DAI', 'IDEX', 'WBTC', 'BAKE', 'SCRT', 'CAKE', 'VIDT', 'BRL', 'AERGO']\n",
      "141297.87133600007\n"
     ]
    }
   ],
   "source": [
    "# portfolio balance\n",
    "portfolio_balance = state.portfolio_balance()\n",
    "print(portfolio_balance)"
   ],
   "metadata": {
    "collapsed": false,
    "ExecuteTime": {
     "end_time": "2023-10-22T02:21:53.015407Z",
     "start_time": "2023-10-22T02:21:52.584837Z"
    }
   },
   "id": "879fa2c0171ee61f"
  },
  {
   "cell_type": "code",
   "execution_count": 69,
   "outputs": [
    {
     "name": "stdout",
     "output_type": "stream",
     "text": [
      "Excluded the following coins from portfolio balance calulations (could not find conversion to USD): ['SNT', 'GAS', 'XVG', 'AST', 'OAX', 'REQ', 'VIB', 'POWR', 'AMB', 'ADX', 'ELF', 'PIVX', 'STEEM', 'SYS', 'LOOM', 'QKC', 'PHB', 'NGN', 'RUB', 'TRY', 'ZAR', 'UAH', 'AVA', 'DAI', 'IDEX', 'WBTC', 'BAKE', 'SCRT', 'CAKE', 'VIDT', 'BRL', 'AERGO']\n"
     ]
    },
    {
     "data": {
      "text/plain": "706.4893566800004"
     },
     "execution_count": 69,
     "metadata": {},
     "output_type": "execute_result"
    }
   ],
   "source": [
    "state.hard_stop_loss()"
   ],
   "metadata": {
    "collapsed": false,
    "ExecuteTime": {
     "end_time": "2023-10-22T02:22:03.389535Z",
     "start_time": "2023-10-22T02:22:02.979099Z"
    }
   },
   "id": "ea8151c5e5bd9f39"
  },
  {
   "cell_type": "code",
   "execution_count": 40,
   "outputs": [
    {
     "data": {
      "text/plain": "['ETHBTC',\n 'LTCBTC',\n 'BNBBTC',\n 'BTCUSDT',\n 'ETHUSDT',\n 'TRXBTC',\n 'XRPBTC',\n 'BNBUSDT',\n 'LTCUSDT',\n 'LTCBNB',\n 'XRPUSDT',\n 'XRPBNB',\n 'TRXBNB',\n 'TRXUSDT',\n 'BNBBUSD',\n 'BTCBUSD',\n 'XRPBUSD',\n 'ETHBUSD',\n 'LTCBUSD',\n 'TRXBUSD',\n 'NEOBTC',\n 'QTUMETH',\n 'EOSETH',\n 'SNTETH',\n 'BNTETH',\n 'GASBTC',\n 'BNBETH',\n 'WTCBTC',\n 'LRCBTC',\n 'LRCETH',\n 'QTUMBTC',\n 'ZRXBTC',\n 'KNCBTC',\n 'FUNETH',\n 'NEOETH',\n 'IOTABTC',\n 'IOTAETH',\n 'LINKBTC',\n 'LINKETH',\n 'XVGETH',\n 'MTLBTC',\n 'EOSBTC',\n 'SNTBTC',\n 'ETCETH',\n 'ETCBTC',\n 'ZECBTC',\n 'ZECETH',\n 'BNTBTC',\n 'ASTBTC',\n 'DASHBTC',\n 'DASHETH',\n 'OAXBTC',\n 'REQBTC',\n 'VIBBTC',\n 'TRXETH',\n 'POWRBTC',\n 'POWRETH',\n 'XRPETH',\n 'ENJBTC',\n 'ENJETH',\n 'STORJBTC',\n 'KMDBTC',\n 'NULSBTC',\n 'XMRBTC',\n 'XMRETH',\n 'AMBBTC',\n 'BATBTC',\n 'NEOUSDT',\n 'NEOBNB',\n 'LSKBTC',\n 'LSKETH',\n 'MANABTC',\n 'MANAETH',\n 'ADXBTC',\n 'ADXETH',\n 'ADABTC',\n 'ADAETH',\n 'XLMBTC',\n 'XLMETH',\n 'XLMBNB',\n 'LTCETH',\n 'WAVESBTC',\n 'WAVESETH',\n 'ICXBTC',\n 'ELFBTC',\n 'ELFETH',\n 'RLCBTC',\n 'RLCETH',\n 'PIVXBTC',\n 'IOSTBTC',\n 'IOSTETH',\n 'STEEMBTC',\n 'STEEMETH',\n 'BLZBTC',\n 'ZILBTC',\n 'ZILETH',\n 'ZILBNB',\n 'ONTBTC',\n 'QTUMUSDT',\n 'WANBTC',\n 'WANETH',\n 'SYSBTC',\n 'ADAUSDT',\n 'ADABNB',\n 'LOOMBTC',\n 'BTCTUSD',\n 'ETHTUSD',\n 'ZENBTC',\n 'ZENETH',\n 'EOSUSDT',\n 'EOSBNB',\n 'THETABTC',\n 'THETAETH',\n 'THETABNB',\n 'TUSDUSDT',\n 'IOTAUSDT',\n 'XLMUSDT',\n 'IOTXBTC',\n 'IOTXETH',\n 'QKCBTC',\n 'QKCETH',\n 'DATABTC',\n 'ONTUSDT',\n 'ETCUSDT',\n 'ETCBNB',\n 'ICXUSDT',\n 'SCETH',\n 'DENTETH',\n 'ARDRBTC',\n 'NULSUSDT',\n 'HOTETH',\n 'VETBTC',\n 'VETETH',\n 'VETUSDT',\n 'VETBNB',\n 'DOCKBTC',\n 'RVNBTC',\n 'DCRBTC',\n 'RENBTC',\n 'BNBTUSD',\n 'XRPTUSD',\n 'BNBUSDC',\n 'BTCUSDC',\n 'ETHUSDC',\n 'USDCUSDT',\n 'ADATUSD',\n 'TRXXRP',\n 'LINKUSDT',\n 'WAVESUSDT',\n 'LTCTUSD',\n 'ONGBTC',\n 'ONGUSDT',\n 'HOTUSDT',\n 'ZILUSDT',\n 'ZRXUSDT',\n 'FETBNB',\n 'FETBTC',\n 'FETUSDT',\n 'BATUSDT',\n 'XMRBNB',\n 'XMRUSDT',\n 'ZECUSDT',\n 'IOSTUSDT',\n 'CELRBTC',\n 'CELRUSDT',\n 'DASHUSDT',\n 'OMGUSDT',\n 'THETAUSDT',\n 'ENJUSDT',\n 'MATICBNB',\n 'MATICBTC',\n 'MATICUSDT',\n 'ATOMBNB',\n 'ATOMBTC',\n 'ATOMUSDT',\n 'PHBBTC',\n 'TFUELBTC',\n 'TFUELUSDT',\n 'ONEBNB',\n 'ONEBTC',\n 'ONEUSDT',\n 'FTMBNB',\n 'FTMBTC',\n 'FTMUSDT',\n 'ALGOBNB',\n 'ALGOBTC',\n 'ALGOUSDT',\n 'DOGEBTC',\n 'DOGEUSDT',\n 'DUSKBTC',\n 'DUSKUSDT',\n 'ANKRBTC',\n 'ANKRUSDT',\n 'WINBNB',\n 'WINUSDT',\n 'COSBNB',\n 'COSBTC',\n 'COSUSDT',\n 'MTLUSDT',\n 'TOMOBTC',\n 'TOMOUSDT',\n 'PERLUSDT',\n 'DENTUSDT',\n 'KEYUSDT',\n 'DOCKUSDT',\n 'WANUSDT',\n 'FUNUSDT',\n 'CVCUSDT',\n 'WINTRX',\n 'CHZBNB',\n 'CHZBTC',\n 'CHZUSDT',\n 'BANDBTC',\n 'BANDUSDT',\n 'BUSDUSDT',\n 'XTZBTC',\n 'XTZUSDT',\n 'RENUSDT',\n 'RVNUSDT',\n 'HBARBNB',\n 'HBARBTC',\n 'HBARUSDT',\n 'NKNBTC',\n 'NKNUSDT',\n 'LINKBUSD',\n 'ETCBUSD',\n 'STXBNB',\n 'STXBTC',\n 'STXUSDT',\n 'KAVABNB',\n 'KAVABTC',\n 'KAVAUSDT',\n 'BTCNGN',\n 'ARPABNB',\n 'ARPABTC',\n 'ARPAUSDT',\n 'EOSBUSD',\n 'IOTXUSDT',\n 'RLCUSDT',\n 'XLMBUSD',\n 'ADABUSD',\n 'CTXCBTC',\n 'CTXCUSDT',\n 'BCHBNB',\n 'BCHBTC',\n 'BCHUSDT',\n 'BCHTUSD',\n 'BCHBUSD',\n 'BTCRUB',\n 'ETHRUB',\n 'XRPRUB',\n 'BNBRUB',\n 'TROYUSDT',\n 'BUSDRUB',\n 'VETBUSD',\n 'VITEBTC',\n 'VITEUSDT',\n 'FTTUSDT',\n 'BTCTRY',\n 'BNBTRY',\n 'BUSDTRY',\n 'ETHTRY',\n 'XRPTRY',\n 'USDTTRY',\n 'USDTRUB',\n 'BTCEUR',\n 'ETHEUR',\n 'BNBEUR',\n 'XRPEUR',\n 'EURBUSD',\n 'EURUSDT',\n 'OGNBTC',\n 'OGNUSDT',\n 'DREPBTC',\n 'DREPUSDT',\n 'WRXUSDT',\n 'ICXBUSD',\n 'BTSUSDT',\n 'LSKUSDT',\n 'BNTUSDT',\n 'LTOBTC',\n 'LTOUSDT',\n 'ATOMBUSD',\n 'NEOBUSD',\n 'WAVESBUSD',\n 'ENJBUSD',\n 'ONTBUSD',\n 'MBLUSDT',\n 'COTIBNB',\n 'COTIBTC',\n 'COTIUSDT',\n 'ALGOBUSD',\n 'TOMOBUSD',\n 'XMRBUSD',\n 'ZECBUSD',\n 'STPTBTC',\n 'STPTUSDT',\n 'BTCZAR',\n 'ETHZAR',\n 'USDTZAR',\n 'BUSDZAR',\n 'WTCUSDT',\n 'DATABUSD',\n 'DATAUSDT',\n 'SOLBNB',\n 'SOLBTC',\n 'SOLUSDT',\n 'SOLBUSD',\n 'CTSIBTC',\n 'CTSIUSDT',\n 'CTSIBNB',\n 'CTSIBUSD',\n 'HIVEBTC',\n 'HIVEUSDT',\n 'CHRBNB',\n 'CHRBTC',\n 'CHRUSDT',\n 'ARDRUSDT',\n 'HBARBUSD',\n 'MATICBUSD',\n 'WRXBUSD',\n 'ZILBUSD',\n 'MDTBTC',\n 'MDTUSDT',\n 'STMXUSDT',\n 'KNCBUSD',\n 'KNCUSDT',\n 'LRCBUSD',\n 'LRCUSDT',\n 'PNTUSDT',\n 'BTCGBP',\n 'ETHGBP',\n 'XRPGBP',\n 'BNBGBP',\n 'GBPBUSD',\n 'DGBBTC',\n 'BTCUAH',\n 'USDTUAH',\n 'COMPBTC',\n 'COMPBUSD',\n 'COMPUSDT',\n 'SCUSDT',\n 'ZENUSDT',\n 'SXPBTC',\n 'SXPBNB',\n 'SXPBUSD',\n 'SNXBTC',\n 'SNXBNB',\n 'SNXBUSD',\n 'SNXUSDT',\n 'VTHOUSDT',\n 'DGBUSDT',\n 'GBPUSDT',\n 'SXPUSDT',\n 'IRISBTC',\n 'MKRBTC',\n 'MKRUSDT',\n 'MKRBUSD',\n 'RUNEBNB',\n 'RUNEBTC',\n 'RUNEBUSD',\n 'MANABUSD',\n 'DOGEBUSD',\n 'DCRUSDT',\n 'STORJUSDT',\n 'FIOBTC',\n 'AVABTC',\n 'IOTABUSD',\n 'MANAUSDT',\n 'BALBTC',\n 'YFIBTC',\n 'YFIBUSD',\n 'YFIUSDT',\n 'BALUSDT',\n 'BLZUSDT',\n 'IRISUSDT',\n 'KMDUSDT',\n 'BTCDAI',\n 'ETHDAI',\n 'BNBDAI',\n 'USDTDAI',\n 'BUSDDAI',\n 'JSTBTC',\n 'JSTUSDT',\n 'ANTBNB',\n 'ANTBTC',\n 'ANTUSDT',\n 'CRVBTC',\n 'CRVBUSD',\n 'CRVUSDT',\n 'SANDBNB',\n 'SANDBTC',\n 'SANDUSDT',\n 'SANDBUSD',\n 'OCEANBNB',\n 'OCEANBTC',\n 'OCEANBUSD',\n 'OCEANUSDT',\n 'NMRBTC',\n 'NMRUSDT',\n 'DOTBNB',\n 'DOTBTC',\n 'DOTBUSD',\n 'DOTUSDT',\n 'LUNABUSD',\n 'LUNAUSDT',\n 'IDEXBTC',\n 'IDEXBUSD',\n 'RSRBNB',\n 'RSRUSDT',\n 'PAXGBNB',\n 'PAXGBTC',\n 'PAXGBUSD',\n 'PAXGUSDT',\n 'WNXMUSDT',\n 'TRBBTC',\n 'TRBBUSD',\n 'TRBUSDT',\n 'WBTCBTC',\n 'WBTCETH',\n 'SUSHIBNB',\n 'SUSHIBTC',\n 'SUSHIBUSD',\n 'SUSHIUSDT',\n 'KSMBTC',\n 'KSMUSDT',\n 'EGLDBNB',\n 'EGLDBTC',\n 'EGLDBUSD',\n 'EGLDUSDT',\n 'DIABTC',\n 'DIABUSD',\n 'DIAUSDT',\n 'RUNEUSDT',\n 'FIOUSDT',\n 'UMABTC',\n 'UMAUSDT',\n 'LINKTRY',\n 'USDTNGN',\n 'BELBNB',\n 'BELBTC',\n 'BELBUSD',\n 'BELUSDT',\n 'WINGBTC',\n 'WINGBUSD',\n 'WINGUSDT',\n 'UNIBNB',\n 'UNIBTC',\n 'UNIBUSD',\n 'UNIUSDT',\n 'OXTBTC',\n 'OXTUSDT',\n 'SUNUSDT',\n 'AVAXBNB',\n 'AVAXBTC',\n 'AVAXBUSD',\n 'AVAXUSDT',\n 'BAKEBNB',\n 'FLMBTC',\n 'FLMUSDT',\n 'SCRTBTC',\n 'SCRTETH',\n 'CAKEBNB',\n 'CAKEBUSD',\n 'ORNBTC',\n 'ORNUSDT',\n 'SXPTRY',\n 'UTKBTC',\n 'UTKUSDT',\n 'XVSBNB',\n 'XVSBTC',\n 'XVSBUSD',\n 'XVSUSDT',\n 'ALPHABTC',\n 'ALPHAUSDT',\n 'VIDTBTC',\n 'VIDTBUSD',\n 'AAVEBNB',\n 'BTCBRL',\n 'USDTBRL',\n 'AAVEBTC',\n 'AAVEETH',\n 'AAVEBUSD',\n 'AAVEUSDT',\n 'NEARBNB',\n 'NEARBTC',\n 'NEARBUSD',\n 'NEARUSDT',\n 'FILBNB',\n 'FILBTC',\n 'FILBUSD',\n 'FILUSDT',\n 'INJBNB',\n 'INJBTC',\n 'INJBUSD',\n 'INJUSDT',\n 'AERGOBTC',\n 'AERGOBUSD',\n 'LINKEUR',\n 'ONEBUSD']"
     },
     "execution_count": 40,
     "metadata": {},
     "output_type": "execute_result"
    }
   ],
   "source": [
    "state.symbols"
   ],
   "metadata": {
    "collapsed": false,
    "ExecuteTime": {
     "end_time": "2023-10-22T01:55:19.375912Z",
     "start_time": "2023-10-22T01:55:19.346639Z"
    }
   },
   "id": "a4c1f3f4b5335b50"
  },
  {
   "cell_type": "code",
   "execution_count": null,
   "outputs": [],
   "source": [
    "account = client.get_account()\n",
    "account[\"balances\"]"
   ],
   "metadata": {
    "collapsed": false
   },
   "id": "2bcd2624ed8f6575"
  },
  {
   "cell_type": "code",
   "execution_count": null,
   "outputs": [],
   "source": [
    "from collections import ChainMap\n",
    "\n",
    "all_tickers = client.get_all_tickers()\n",
    "ticker_map = {}\n",
    "for t in all_tickers:\n",
    "    print(Ticker(**t))"
   ],
   "metadata": {
    "collapsed": false
   },
   "id": "4d1d47f9499e2ace"
  },
  {
   "cell_type": "code",
   "execution_count": null,
   "outputs": [],
   "source": [],
   "metadata": {
    "collapsed": false
   },
   "id": "ad971c77c0e9cbb4"
  },
  {
   "cell_type": "code",
   "execution_count": null,
   "outputs": [],
   "source": [
    "print(ticker_map)"
   ],
   "metadata": {
    "collapsed": false
   },
   "id": "e27edb627609ddb5"
  },
  {
   "cell_type": "code",
   "execution_count": null,
   "outputs": [],
   "source": [
    "ticker_map[\"price\"]"
   ],
   "metadata": {
    "collapsed": false
   },
   "id": "2816877b9159ebb5"
  },
  {
   "cell_type": "code",
   "execution_count": null,
   "outputs": [],
   "source": [
    "exchange_info = client.get_exchange_info()"
   ],
   "metadata": {
    "collapsed": false
   },
   "id": "b36400204b9fa099"
  },
  {
   "cell_type": "code",
   "execution_count": null,
   "outputs": [],
   "source": [
    "exchange_info[\"symbols\"]"
   ],
   "metadata": {
    "collapsed": false
   },
   "id": "d0b0c2ef2449cf5f"
  },
  {
   "cell_type": "code",
   "execution_count": null,
   "outputs": [],
   "source": [],
   "metadata": {
    "collapsed": false
   },
   "id": "2b385304c0690d4c"
  }
 ],
 "metadata": {
  "kernelspec": {
   "display_name": "Python 3",
   "language": "python",
   "name": "python3"
  },
  "language_info": {
   "codemirror_mode": {
    "name": "ipython",
    "version": 2
   },
   "file_extension": ".py",
   "mimetype": "text/x-python",
   "name": "python",
   "nbconvert_exporter": "python",
   "pygments_lexer": "ipython2",
   "version": "2.7.6"
  }
 },
 "nbformat": 4,
 "nbformat_minor": 5
}
