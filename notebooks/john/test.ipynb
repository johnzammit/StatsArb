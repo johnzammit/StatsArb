{
 "cells": [
  {
   "cell_type": "code",
   "execution_count": 3,
   "metadata": {},
   "outputs": [],
   "source": [
    "##Time Weighted close signal"
   ]
  },
  {
   "cell_type": "code",
   "execution_count": null,
   "metadata": {},
   "outputs": [],
   "source": []
  },
  {
   "cell_type": "code",
   "execution_count": null,
   "metadata": {},
   "outputs": [],
   "source": [
    "target_price = (mean_spread - (time * derivative_price)/sqrt(derivative_price)) "
   ]
  },
  {
   "cell_type": "code",
   "execution_count": 2,
   "metadata": {},
   "outputs": [],
   "source": [
    "##Alternative close signal"
   ]
  },
  {
   "cell_type": "code",
   "execution_count": 28,
   "metadata": {},
   "outputs": [
    {
     "name": "stdout",
     "output_type": "stream",
     "text": [
      "Take Profit Price: 89.0\n"
     ]
    }
   ],
   "source": [
    "def calculate_take_profit_price(mean_price, t, decrease_rate):\n",
    "    TP = mean_price - (decrease_rate * t)\n",
    "    return TP  # Ensure TP never goes below the mean\n",
    "\n",
    "# Example usage\n",
    "mean_price = 100  # Replace with your calculated mean price\n",
    "time_elapsed = 200  # Replace with the time elapsed (in seconds)\n",
    "decrease_rate = 0.055  # Adjust as needed\n",
    "\n",
    "take_profit = calculate_take_profit_price(mean_price, time_elapsed, decrease_rate)\n",
    "print(f'Take Profit Price: {take_profit}')\n"
   ]
  },
  {
   "cell_type": "code",
   "execution_count": null,
   "metadata": {},
   "outputs": [],
   "source": []
  }
 ],
 "metadata": {
  "kernelspec": {
   "display_name": "Python 3",
   "language": "python",
   "name": "python3"
  },
  "language_info": {
   "codemirror_mode": {
    "name": "ipython",
    "version": 3
   },
   "file_extension": ".py",
   "mimetype": "text/x-python",
   "name": "python",
   "nbconvert_exporter": "python",
   "pygments_lexer": "ipython3",
   "version": "3.10.11"
  },
  "orig_nbformat": 4
 },
 "nbformat": 4,
 "nbformat_minor": 2
}
