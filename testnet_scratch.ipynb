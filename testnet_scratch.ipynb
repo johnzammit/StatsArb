{
 "cells": [
  {
   "cell_type": "markdown",
   "metadata": {},
   "source": [
    "# Starting client here to test some functions if needed"
   ]
  },
  {
   "cell_type": "code",
   "execution_count": 21,
   "metadata": {},
   "outputs": [],
   "source": [
    "# Loading the api keys from your local .env file\n",
    "import os\n",
    "from dotenv import load_dotenv, find_dotenv\n",
    "\n",
    "load_dotenv(find_dotenv())\n",
    "\n",
    "binance_api_key = os.getenv('binanceAPIKey')\n",
    "binance_secret_key = os.getenv('binanceSecretKey')"
   ]
  },
  {
   "cell_type": "code",
   "execution_count": 22,
   "metadata": {},
   "outputs": [],
   "source": [
    "from binance.client import Client\n",
    "client = Client(binance_api_key, \n",
    "                binance_secret_key,\n",
    "                tld='us')"
   ]
  },
  {
   "cell_type": "code",
   "execution_count": 25,
   "metadata": {},
   "outputs": [
    {
     "data": {
      "text/plain": [
       "539"
      ]
     },
     "execution_count": 25,
     "metadata": {},
     "output_type": "execute_result"
    }
   ],
   "source": [
    "tickers = client.get_all_tickers()\n",
    "len(tickers)"
   ]
  },
  {
   "cell_type": "code",
   "execution_count": 27,
   "metadata": {},
   "outputs": [
    {
     "name": "stdout",
     "output_type": "stream",
     "text": [
      "{'symbol': 'FORTHUSDT', 'price': '3.34100000'}\n",
      "{'symbol': 'FORTHUSD4', 'price': '3.6600'}\n",
      "{'symbol': 'FORTHUSD', 'price': '2.22500000'}\n",
      "{'symbol': 'FORTUSDT', 'price': '0.10950000'}\n"
     ]
    }
   ],
   "source": [
    "for obj in tickers:\n",
    "    if obj['symbol'][:4] == \"FORT\":\n",
    "        print(obj)"
   ]
  },
  {
   "cell_type": "code",
   "execution_count": 39,
   "metadata": {},
   "outputs": [
    {
     "name": "stdout",
     "output_type": "stream",
     "text": [
      "{'symbol': 'BTCUSD4', 'price': '22882.5400'}\n",
      "{'symbol': 'BTCUSDT', 'price': '36678.84000000'}\n",
      "{'symbol': 'BTCBUSD', 'price': '36903.93000000'}\n",
      "{'symbol': 'BTCUSDC', 'price': '36718.35000000'}\n",
      "{'symbol': 'BTCUST', 'price': '1000000.00000000'}\n",
      "{'symbol': 'BTCDAI', 'price': '37233.87000000'}\n",
      "{'symbol': 'BTCUSD', 'price': '25073.21000000'}\n"
     ]
    }
   ],
   "source": [
    "for obj in tickers:\n",
    "    if obj['symbol'][:3] == \"BTC\":\n",
    "        print(obj)"
   ]
  },
  {
   "cell_type": "markdown",
   "metadata": {},
   "source": [
    "# Trying to use testnet below"
   ]
  },
  {
   "cell_type": "code",
   "execution_count": 9,
   "metadata": {},
   "outputs": [],
   "source": [
    "import urllib.parse\n",
    "import hashlib\n",
    "import hmac\n",
    "import base64\n",
    "import requests\n",
    "import time"
   ]
  },
  {
   "cell_type": "code",
   "execution_count": 10,
   "metadata": {},
   "outputs": [],
   "source": [
    "# api_url = \"https://api.binance.us\"\n",
    "api_url = \"https://testnet.binance.vision\""
   ]
  },
  {
   "cell_type": "code",
   "execution_count": 11,
   "metadata": {},
   "outputs": [],
   "source": [
    "# get binanceus signature\n",
    "def get_binanceus_signature(data, secret):\n",
    "    postdata = urllib.parse.urlencode(data)\n",
    "    message = postdata.encode()\n",
    "    byte_key = bytes(secret, 'UTF-8')\n",
    "    mac = hmac.new(byte_key, message, hashlib.sha256).hexdigest()\n",
    "    return mac"
   ]
  },
  {
   "cell_type": "code",
   "execution_count": 12,
   "metadata": {},
   "outputs": [],
   "source": [
    "# Attaches auth headers and returns results of a POST request\n",
    "def binanceus_request(uri_path, data, api_key, api_sec):\n",
    "    headers = {}\n",
    "    headers['X-MBX-APIKEY'] = api_key\n",
    "    signature = get_binanceus_signature(data, api_sec)\n",
    "    payload={\n",
    "        **data,\n",
    "        \"signature\": signature,\n",
    "        }\n",
    "    req = requests.post((api_url + uri_path), headers=headers, data=payload)\n",
    "    return req.text"
   ]
  },
  {
   "cell_type": "code",
   "execution_count": 13,
   "metadata": {},
   "outputs": [],
   "source": [
    "# Loading the api keys from your local .env file\n",
    "import os\n",
    "from dotenv import load_dotenv, find_dotenv\n",
    "\n",
    "load_dotenv(find_dotenv())\n",
    "\n",
    "binance_test_api_key = os.getenv('binanceTestAPIKey')\n",
    "binance_test_secret_key = os.getenv('binanceTestSecretKey')"
   ]
  },
  {
   "cell_type": "code",
   "execution_count": 45,
   "metadata": {},
   "outputs": [
    {
     "name": "stdout",
     "output_type": "stream",
     "text": [
      "POST /api/v3/time: \n"
     ]
    }
   ],
   "source": [
    "# Try kline endpoint\n",
    "uri_path = \"/api/v3/time\"\n",
    "data = {}\n",
    "result = binanceus_request(uri_path, data, binance_test_api_key, binance_test_secret_key)\n",
    "print(\"POST {}: {}\".format(uri_path, result))"
   ]
  }
 ],
 "metadata": {
  "kernelspec": {
   "display_name": "base",
   "language": "python",
   "name": "python3"
  },
  "language_info": {
   "codemirror_mode": {
    "name": "ipython",
    "version": 3
   },
   "file_extension": ".py",
   "mimetype": "text/x-python",
   "name": "python",
   "nbconvert_exporter": "python",
   "pygments_lexer": "ipython3",
   "version": "3.9.13"
  }
 },
 "nbformat": 4,
 "nbformat_minor": 2
}
