{
 "cells": [
  {
   "cell_type": "code",
   "execution_count": 1,
   "metadata": {},
   "outputs": [],
   "source": [
    "# Loading the api keys from your local .env file\n",
    "import os\n",
    "from dotenv import load_dotenv, find_dotenv\n",
    "\n",
    "load_dotenv(find_dotenv())\n",
    "\n",
    "binance_api_key = os.getenv('binanceAPIKey')\n",
    "binance_secret_key = os.getenv('binanceSecretKey')"
   ]
  },
  {
   "cell_type": "code",
   "execution_count": 2,
   "metadata": {},
   "outputs": [],
   "source": [
    "from binance.client import Client\n",
    "client = Client(binance_api_key, \n",
    "                binance_secret_key,\n",
    "                tld='us')"
   ]
  },
  {
   "cell_type": "code",
   "execution_count": 3,
   "metadata": {},
   "outputs": [
    {
     "data": {
      "text/plain": [
       "539"
      ]
     },
     "execution_count": 3,
     "metadata": {},
     "output_type": "execute_result"
    }
   ],
   "source": [
    "tickers = client.get_all_tickers()\n",
    "len(tickers)"
   ]
  },
  {
   "cell_type": "code",
   "execution_count": 4,
   "metadata": {},
   "outputs": [
    {
     "name": "stdout",
     "output_type": "stream",
     "text": [
      "{'symbol': 'FORTHUSDT', 'price': '3.53800000'}\n",
      "{'symbol': 'FORTHUSD4', 'price': '3.6600'}\n",
      "{'symbol': 'FORTHUSD', 'price': '2.22500000'}\n",
      "{'symbol': 'FORTUSDT', 'price': '0.11030000'}\n"
     ]
    }
   ],
   "source": [
    "for obj in tickers:\n",
    "    if obj['symbol'][:4] == \"FORT\":\n",
    "        print(obj)"
   ]
  },
  {
   "cell_type": "code",
   "execution_count": 5,
   "metadata": {},
   "outputs": [
    {
     "name": "stdout",
     "output_type": "stream",
     "text": [
      "{'symbol': 'BTCUSD4', 'price': '22882.5400'}\n",
      "{'symbol': 'BTCUSDT', 'price': '36700.15000000'}\n",
      "{'symbol': 'BTCBUSD', 'price': '37046.48000000'}\n",
      "{'symbol': 'BTCUSDC', 'price': '36700.00000000'}\n",
      "{'symbol': 'BTCUST', 'price': '1000000.00000000'}\n",
      "{'symbol': 'BTCDAI', 'price': '36396.75000000'}\n",
      "{'symbol': 'BTCUSD', 'price': '25073.21000000'}\n"
     ]
    }
   ],
   "source": [
    "for obj in tickers:\n",
    "    if obj['symbol'][:3] == \"BTC\":\n",
    "        print(obj)"
   ]
  },
  {
   "cell_type": "markdown",
   "metadata": {},
   "source": [
    "# Trying to use testnet below"
   ]
  },
  {
   "cell_type": "code",
   "execution_count": 6,
   "metadata": {},
   "outputs": [],
   "source": [
    "import urllib.parse\n",
    "import hashlib\n",
    "import hmac\n",
    "import base64\n",
    "import requests\n",
    "import time"
   ]
  },
  {
   "cell_type": "markdown",
   "metadata": {},
   "source": [
    "# Starting client here to test some functions if needed"
   ]
  },
  {
   "cell_type": "code",
   "execution_count": 7,
   "metadata": {},
   "outputs": [],
   "source": [
    "from binance.client import Client\n",
    "client = Client(binance_api_key, \n",
    "                binance_secret_key,\n",
    "                tld='us')"
   ]
  },
  {
   "cell_type": "code",
   "execution_count": 8,
   "metadata": {},
   "outputs": [
    {
     "name": "stdout",
     "output_type": "stream",
     "text": [
      "{'symbol': 'FORTHUSDT', 'price': '3.53800000'}\n",
      "{'symbol': 'FORTHUSD4', 'price': '3.6600'}\n",
      "{'symbol': 'FORTHUSD', 'price': '2.22500000'}\n",
      "{'symbol': 'FORTUSDT', 'price': '0.11030000'}\n"
     ]
    }
   ],
   "source": [
    "for obj in tickers:\n",
    "    if obj['symbol'][:4] == \"FORT\":\n",
    "        print(obj)"
   ]
  },
  {
   "cell_type": "markdown",
   "metadata": {},
   "source": [
    "# Trying to use testnet below"
   ]
  },
  {
   "cell_type": "code",
   "execution_count": 9,
   "metadata": {},
   "outputs": [],
   "source": [
    "# api_url = \"https://api.binance.us\"\n",
    "api_url = \"https://testnet.binance.vision\""
   ]
  },
  {
   "cell_type": "code",
   "execution_count": 10,
   "metadata": {},
   "outputs": [],
   "source": [
    "# Attaches auth headers and returns results of a POST request\n",
    "def binanceus_request(uri_path, data, api_key, api_sec):\n",
    "    headers = {}\n",
    "    headers['X-MBX-APIKEY'] = api_key\n",
    "    signature = get_binanceus_signature(data, api_sec)\n",
    "    payload={\n",
    "        **data,\n",
    "        \"signature\": signature,\n",
    "        }\n",
    "    req = requests.post((api_url + uri_path), headers=headers, data=payload)\n",
    "    return req.text"
   ]
  },
  {
   "cell_type": "code",
   "execution_count": 11,
   "metadata": {},
   "outputs": [
    {
     "ename": "NameError",
     "evalue": "name 'binance_test_api_key' is not defined",
     "output_type": "error",
     "traceback": [
      "\u001b[0;31m---------------------------------------------------------------------------\u001b[0m",
      "\u001b[0;31mNameError\u001b[0m                                 Traceback (most recent call last)",
      "Cell \u001b[0;32mIn[11], line 4\u001b[0m\n\u001b[1;32m      2\u001b[0m uri_path \u001b[39m=\u001b[39m \u001b[39m\"\u001b[39m\u001b[39m/api/v3/time\u001b[39m\u001b[39m\"\u001b[39m\n\u001b[1;32m      3\u001b[0m data \u001b[39m=\u001b[39m {}\n\u001b[0;32m----> 4\u001b[0m result \u001b[39m=\u001b[39m binanceus_request(uri_path, data, binance_test_api_key, binance_test_secret_key)\n\u001b[1;32m      5\u001b[0m \u001b[39mprint\u001b[39m(\u001b[39m\"\u001b[39m\u001b[39mPOST \u001b[39m\u001b[39m{}\u001b[39;00m\u001b[39m: \u001b[39m\u001b[39m{}\u001b[39;00m\u001b[39m\"\u001b[39m\u001b[39m.\u001b[39mformat(uri_path, result))\n",
      "\u001b[0;31mNameError\u001b[0m: name 'binance_test_api_key' is not defined"
     ]
    }
   ],
   "source": [
    "# Try kline endpoint\n",
    "uri_path = \"/api/v3/time\"\n",
    "data = {}\n",
    "result = binanceus_request(uri_path, data, binance_test_api_key, binance_test_secret_key)\n",
    "print(\"POST {}: {}\".format(uri_path, result))"
   ]
  },
  {
   "cell_type": "code",
   "execution_count": null,
   "metadata": {},
   "outputs": [],
   "source": []
  }
 ],
 "metadata": {
  "kernelspec": {
   "display_name": "base",
   "language": "python",
   "name": "python3"
  },
  "language_info": {
   "codemirror_mode": {
    "name": "ipython",
    "version": 3
   },
   "file_extension": ".py",
   "mimetype": "text/x-python",
   "name": "python",
   "nbconvert_exporter": "python",
   "pygments_lexer": "ipython3",
   "version": "3.10.11"
  }
 },
 "nbformat": 4,
 "nbformat_minor": 2
}
