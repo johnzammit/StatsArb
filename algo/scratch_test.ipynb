{
 "cells": [
  {
   "cell_type": "code",
   "execution_count": null,
   "metadata": {},
   "outputs": [],
   "source": [
    "def set_up_client():\n",
    "    # Loading the api keys from your local .env file\n",
    "    import os\n",
    "    from dotenv import load_dotenv, find_dotenv\n",
    "\n",
    "    load_dotenv(find_dotenv())\n",
    "\n",
    "    binance_api_key = os.getenv('binanceAPIKey')\n",
    "    binance_secret_key = os.getenv('binanceSecretKey')\n",
    "\n",
    "    from binance.client import Client\n",
    "    client = Client(binance_api_key, \n",
    "                    binance_secret_key,\n",
    "                    tld='us')\n",
    "    \n",
    "    return client"
   ]
  },
  {
   "cell_type": "code",
   "execution_count": null,
   "metadata": {},
   "outputs": [],
   "source": [
    "from binance import Client, ThreadedWebsocketManager, ThreadedDepthCacheManager\n",
    "from market_state_basic_test import MarketState\n",
    "from execution_backtest import Execution\n",
    "from exchange_setup import establish_connection\n",
    "\n",
    "# Let me just set up my own client here\n",
    "test_client = set_up_client()\n",
    "\n",
    "def main():\n",
    "    # TODO: add optional parameters for coins to trade on\n",
    "    pairs_to_trade = [(\"FORTHUSD\", \"ZENUSD\")] # change this\n",
    "    # client = establish_connection()\n",
    "    # print(client.get_exchange_info())\n",
    "\n",
    "    updates_to_coin_pairs = None # integration tester should update this variable somehow (use async or define API?)\n",
    "    state = MarketState(test_client)\n",
    "\n",
    "    for p in pairs_to_trade:\n",
    "        state.track_spread_portfolio(p)\n",
    "\n",
    "    executor = Execution(...)\n",
    "\n",
    "    iter = 0\n",
    "    # while True:\n",
    "    #     print(\"iter: \", str(iter))\n",
    "    #     iter += 1\n",
    "\n",
    "\n",
    "    #     state.update() # might need to put his before list of pairs to update (for MarketState calculation purposes)\n",
    "\n",
    "    #     for p in pairs_to_trade:\n",
    "    #         portfolio_info = (state.current_price(), ..., ...)\n",
    "    #         action, result = executor.main(*portfolio_info)\n",
    "    #         print(f\"Time: {state.current_time}; Pair: {..., ...}; Beta: {...}; Action: {action}; Result: {result}\")\n",
    "\n",
    "\n",
    "if __name__ == '__main__':\n",
    "    main()"
   ]
  }
 ],
 "metadata": {
  "kernelspec": {
   "display_name": "Python 3",
   "language": "python",
   "name": "python3"
  },
  "language_info": {
   "codemirror_mode": {
    "name": "ipython",
    "version": 3
   },
   "file_extension": ".py",
   "mimetype": "text/x-python",
   "name": "python",
   "nbconvert_exporter": "python",
   "pygments_lexer": "ipython3",
   "version": "3.10.11"
  },
  "orig_nbformat": 4
 },
 "nbformat": 4,
 "nbformat_minor": 2
}
