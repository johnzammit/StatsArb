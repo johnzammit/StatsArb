{
 "cells": [
  {
   "cell_type": "code",
   "execution_count": 2,
   "metadata": {},
   "outputs": [],
   "source": [
    "import numpy as np\n",
    "import yfinance as yf\n",
    "import pandas as pd\n",
    "import matplotlib.pyplot as plt\n",
    "import statsmodels.api as sm\n",
    "from statsmodels.tsa.stattools import adfuller"
   ]
  },
  {
   "cell_type": "code",
   "execution_count": 3,
   "metadata": {},
   "outputs": [],
   "source": [
    "# Array of all ticker to look up\n",
    "ticker = [ \n",
    "    \"ZRX-USD\", \"1INCH-USD\", \"AAVE-USD\", \"ADX-USD\", \"ACH-USD\",\n",
    "    \"ALGO-USD\", \"TLM-USD\", \"FORTH-USD\", \"ANKR-USD\", 'ALPINE-USD',\n",
    "    \"APE-USD\", \"API3-USD\", \"APT-USD\", \"ANT-USD\", \"ARB-USD\", \n",
    "    \"ASTR-USD\", \"AUDIO-USD\", \"AVAX-USD\", \"AXS-USD\", \n",
    "    \"BAL-USD\", \"BNT-USD\", \"BAND-USD\", \"BOND-USD\", \"BAT-USD\", \n",
    "    \"BICO-USD\", \"BTC-USD\", \"BCH-USD\", \n",
    "    \"BNB-USD\", \"BOSON-USD\", \"BTRST-USD\", \"ADA-USD\", \"CTSI-USD\", \n",
    "    \"CELR-USD\", \"CELO-USD\", \"LINK-USD\", \"CHZ-USD\", \"CLV-USD\", \n",
    "    \"ATOM-USD\", \"COTI-USD\", \"CUDOS-USD\", \"CRV-USD\", \n",
    "    \"DASH-USD\", \"MANA-USD\", \"DIA-USD\", \"DGB-USD\", \n",
    "    \"DOGE-USD\", \"XEC-USD\", \"EGLD-USD\", \"ENJ-USD\", \"EOS-USD\", \n",
    "    \"ETH-USD\", \"ETC-USD\", \"ENS-USD\", \"FTM-USD\", \"PORTO-USD\", \n",
    "    \"FET-USD\", \"FIL-USD\", \"FLOKI-USD\", \"FLOW-USD\", \"FLUX-USD\", \n",
    "    \"GAL-USD\", \"JAM-USD\", \"GTC-USD\", \n",
    "    \"GLM-USD\", \"ONE-USD\", \"HBAR-USD\", \"ZEN-USD\", \"ICX-USD\", \n",
    "    \"RLC-USD\", \"ILV-USD\", \"ICP-USD\", \"IOST-USD\", \n",
    "    \"KDA-USD\", \"KAVA-USD\", \"KNC-USD\", \"LAZIO-USD\", \n",
    "    \"LOKA-USD\", \"LDO-USD\", \"LSK-USD\", \"LTC-USD\", \"LPT-USD\", \n",
    "    \"LOOM-USD\", \"LRC-USD\", \"LTO-USD\", \"MKR-USD\", \"POND-USD\", \n",
    "    \"DAR-USD\", \"MXC-USD\", \"ALICE-USD\", \"XNO-USD\", \n",
    "    \"NEAR-USD\", \"NEO-USD\", \"NMR-USD\", \"ROSE-USD\", \"OCEAN-USD\", \n",
    "    \"ONT-USD\", \"OP-USD\", \"ORBS-USD\", \"OXT-USD\", \"OGN-USD\", \n",
    "    \"TRAC-USD\", \"PAXG-USD\", \"DOT-USD\", \"MATIC-USD\", \"POLYX-USD\",\n",
    "    \"PROM-USD\", \"QTUM-USD\", \"QNT-USD\", \"RAD-USD\", \"RVN-USD\", \n",
    "    \"REEF-USD\", \"REN-USD\", \"RNDR-USD\", \"REQ-USD\", \"SANTOS-USD\", \n",
    "    \"SHIB-USD\", \"SKL-USD\", \"SLP-USD\", \"SOL-USD\",\n",
    "    \"XLM-USD\", \"STMX-USD\", \"STORJ-USD\", \"RARE-USD\", \"SUSHI-USD\", \n",
    "    \"SNX-USD\", \"SYS-USD\", \"USDT-USD\", \"XRP-USD\", \"XTZ-USD\", \n",
    "    \"SAND-USD\", \"TFUEL-USD\", \"THETA-USD\", \"T-USD\", \n",
    "    \"TUSD-USD\", \"UNI-USD\", \"VET-USD\", \"VTHO-USD\", \n",
    "    \"VITE-USD\", \"VOXEL-USD\", \"WAVES-USD\", \"WAXP-USD\", \"WBTC-USD\",\n",
    "    \"YFI-USD\", \"ZEC-USD\", \"ZIL-USD\"\n",
    "]\n",
    "\n",
    "\n",
    "\n",
    "# Gather Ticker info from yfinance\n",
    "Crypto = []\n",
    "for i in ticker:\n",
    "    Crypto.append(yf.Ticker(i))\n"
   ]
  },
  {
   "cell_type": "code",
   "execution_count": 4,
   "metadata": {},
   "outputs": [],
   "source": [
    "# Gather price of list of crypto currency\n",
    "one_month_5min_close_price = []\n",
    "for i in range(len(ticker)):\n",
    "    close_price = Crypto[i].history(period=\"14d\", interval ='5m')['Close']\n",
    "    one_month_5min_close_price.append(close_price)"
   ]
  },
  {
   "cell_type": "code",
   "execution_count": 5,
   "metadata": {},
   "outputs": [
    {
     "name": "stderr",
     "output_type": "stream",
     "text": [
      "C:\\Users\\mixzh\\AppData\\Local\\Temp\\ipykernel_29120\\3084969792.py:11: FutureWarning: Series.fillna with 'method' is deprecated and will raise in a future version. Use obj.ffill() or obj.bfill() instead.\n",
      "  one_month_5min_close_price[index] = series.reindex(full_date_range).fillna(method='ffill')\n"
     ]
    }
   ],
   "source": [
    "# Determine the global start and end date\n",
    "all_dates = [series.index for series in one_month_5min_close_price]\n",
    "global_start = min(date.min() for date in all_dates)\n",
    "global_end = max(date.max() for date in all_dates)\n",
    "\n",
    "# Create a new datetime index from global start to global end incremented by 5 minutes\n",
    "full_date_range = pd.date_range(start=global_start, end=global_end, freq='5T')\n",
    "\n",
    "# Replace missing data point with previous entry\n",
    "for index, series in enumerate(one_month_5min_close_price):\n",
    "    one_month_5min_close_price[index] = series.reindex(full_date_range).fillna(method='ffill')\n"
   ]
  },
  {
   "cell_type": "markdown",
   "metadata": {},
   "source": [
    "## Spliting Data Into Time Rolling List"
   ]
  },
  {
   "cell_type": "code",
   "execution_count": 17,
   "metadata": {},
   "outputs": [
    {
     "data": {
      "text/plain": [
       "2023-10-23 00:00:00+00:00    0.052276\n",
       "2023-10-23 00:05:00+00:00    0.052271\n",
       "2023-10-23 00:10:00+00:00    0.052169\n",
       "2023-10-23 00:15:00+00:00    0.052149\n",
       "2023-10-23 00:20:00+00:00    0.051978\n",
       "                               ...   \n",
       "2023-11-05 20:50:00+00:00    0.060388\n",
       "2023-11-05 20:55:00+00:00    0.060368\n",
       "2023-11-05 21:00:00+00:00    0.060345\n",
       "2023-11-05 21:05:00+00:00    0.060341\n",
       "2023-11-05 21:10:00+00:00    0.060301\n",
       "Freq: 5T, Name: Close, Length: 3999, dtype: float64"
      ]
     },
     "execution_count": 17,
     "metadata": {},
     "output_type": "execute_result"
    }
   ],
   "source": [
    "one_month_5min_close_price[140]"
   ]
  },
  {
   "cell_type": "code",
   "execution_count": 18,
   "metadata": {},
   "outputs": [],
   "source": [
    "# Spliting 1mo data into sets of data of rolling 12hr period\n",
    "def one_month_5_min_split_12_hrs(df):\n",
    "    time_rolling_list = []\n",
    "    for i in range(0, len(df)-144, 72):\n",
    "        one_week = df.iloc[i:(i+144)]\n",
    "        time_rolling_list.append(one_week)\n",
    "    return(time_rolling_list)"
   ]
  },
  {
   "cell_type": "code",
   "execution_count": 19,
   "metadata": {},
   "outputs": [],
   "source": [
    "# Creating time rolling list for each crypto\n",
    "time_rolling_crypto = []\n",
    "for i in range(len(ticker)):\n",
    "    # Calling splitting function to split cryptos\n",
    "    temp = one_month_5_min_split_12_hrs(one_month_5min_close_price[i])\n",
    "    time_rolling_crypto.append(temp)"
   ]
  },
  {
   "cell_type": "code",
   "execution_count": 31,
   "metadata": {},
   "outputs": [],
   "source": [
    "# Write function for log return\n",
    "def calculate_log_returns(prices):\n",
    "    return np.log(prices / prices.shift(1))\n",
    "\n",
    "Crypto_log_returns = []\n",
    "for i in range(len(time_rolling_crypto)):\n",
    "    temp = []\n",
    "    for j in range(len(time_rolling_crypto[i])):\n",
    "        log_return = calculate_log_returns(time_rolling_crypto[i][j])\n",
    "        temp.append(log_return.dropna())\n",
    "    Crypto_log_returns.append(temp)"
   ]
  },
  {
   "cell_type": "markdown",
   "metadata": {},
   "source": [
    "## Helper Functions"
   ]
  },
  {
   "cell_type": "code",
   "execution_count": 34,
   "metadata": {},
   "outputs": [],
   "source": [
    "# Defining Function that check of stationary\n",
    "def check_for_stationary(X, critical_value = 0.00001):\n",
    "    pvalue = adfuller(X)[1]\n",
    "    if pvalue < critical_value:\n",
    "        return True\n",
    "    else:\n",
    "        return False"
   ]
  },
  {
   "cell_type": "markdown",
   "metadata": {},
   "source": [
    "## Pairs Finding Function"
   ]
  },
  {
   "cell_type": "code",
   "execution_count": 35,
   "metadata": {},
   "outputs": [],
   "source": [
    "# Defining Function that calculate difference between the actual difference and the predicted difference\n",
    "def one_to_one_pairs_trading_diff(Y, X1):\n",
    "    # Match X with Y\n",
    "    df = pd.concat([Y, X1], axis=1, keys=['Y', 'X1'])\n",
    "    df = df.dropna()\n",
    "    \n",
    "    # Fitting linear regression using the training set\n",
    "    X_add_cons = sm.add_constant(df['X1'])\n",
    "    Y = df['Y']\n",
    "    result = sm.OLS(Y, X_add_cons).fit()\n",
    "\n",
    "    # Calculate difference between the actual and the prdicted difference\n",
    "    b = result.params[result.params.index[1]]\n",
    "    Diff = Y - b * X1\n",
    "    \n",
    "    # Return the difference\n",
    "    return Diff"
   ]
  },
  {
   "cell_type": "code",
   "execution_count": 36,
   "metadata": {},
   "outputs": [],
   "source": [
    "# Defining Function that calculate difference between the actual difference and the predicted difference\n",
    "def two_to_one_pairs_trading_diff(Y, X1, X2):\n",
    "    # Match X with Y\n",
    "    df = pd.concat([Y, X1, X2], axis=1, keys=['Y', 'X1', 'X2'])\n",
    "    df = df.dropna()\n",
    "    \n",
    "    # Fitting linear regression using the training set\n",
    "    X_add_cons = sm.add_constant(df[['X1', 'X2']])\n",
    "    Y = df['Y']\n",
    "    result = sm.OLS(Y, X_add_cons).fit()\n",
    "\n",
    "    # Calculate difference between the actual and the prdicted difference\n",
    "    b1 = result.params[result.params.index[1]]\n",
    "    b2 = result.params[result.params.index[2]]\n",
    "    Diff = Y - b1 * X1 - b2 * X2\n",
    "    \n",
    "    # Return the difference\n",
    "    return Diff"
   ]
  },
  {
   "cell_type": "markdown",
   "metadata": {},
   "source": [
    "## Find Stationary Pairs by Time-rolling Log return"
   ]
  },
  {
   "cell_type": "code",
   "execution_count": 124,
   "metadata": {},
   "outputs": [
    {
     "ename": "KeyboardInterrupt",
     "evalue": "",
     "output_type": "error",
     "traceback": [
      "\u001b[1;31m---------------------------------------------------------------------------\u001b[0m",
      "\u001b[1;31mKeyboardInterrupt\u001b[0m                         Traceback (most recent call last)",
      "\u001b[1;32mc:\\Users\\mixzh\\Desktop\\Quant\\Crypto Pairs Trading\\LongTermPairFinding.ipynb Cell 23\u001b[0m line \u001b[0;36m2\n\u001b[0;32m     <a href='vscode-notebook-cell:/c%3A/Users/mixzh/Desktop/Quant/Crypto%20Pairs%20Trading/LongTermPairFinding.ipynb#X30sZmlsZQ%3D%3D?line=17'>18</a>\u001b[0m Diff \u001b[39m=\u001b[39m Diff\u001b[39m.\u001b[39mdropna()\n\u001b[0;32m     <a href='vscode-notebook-cell:/c%3A/Users/mixzh/Desktop/Quant/Crypto%20Pairs%20Trading/LongTermPairFinding.ipynb#X30sZmlsZQ%3D%3D?line=19'>20</a>\u001b[0m \u001b[39m# Check if the period is stationary\u001b[39;00m\n\u001b[1;32m---> <a href='vscode-notebook-cell:/c%3A/Users/mixzh/Desktop/Quant/Crypto%20Pairs%20Trading/LongTermPairFinding.ipynb#X30sZmlsZQ%3D%3D?line=20'>21</a>\u001b[0m stationary \u001b[39m=\u001b[39m check_for_stationary(Diff)\n\u001b[0;32m     <a href='vscode-notebook-cell:/c%3A/Users/mixzh/Desktop/Quant/Crypto%20Pairs%20Trading/LongTermPairFinding.ipynb#X30sZmlsZQ%3D%3D?line=22'>23</a>\u001b[0m \u001b[39m# Appending time segment stationarity to temp_X2\u001b[39;00m\n\u001b[0;32m     <a href='vscode-notebook-cell:/c%3A/Users/mixzh/Desktop/Quant/Crypto%20Pairs%20Trading/LongTermPairFinding.ipynb#X30sZmlsZQ%3D%3D?line=23'>24</a>\u001b[0m temp_X2\u001b[39m.\u001b[39mappend(stationary)\n",
      "\u001b[1;32mc:\\Users\\mixzh\\Desktop\\Quant\\Crypto Pairs Trading\\LongTermPairFinding.ipynb Cell 23\u001b[0m line \u001b[0;36m3\n\u001b[0;32m      <a href='vscode-notebook-cell:/c%3A/Users/mixzh/Desktop/Quant/Crypto%20Pairs%20Trading/LongTermPairFinding.ipynb#X30sZmlsZQ%3D%3D?line=1'>2</a>\u001b[0m \u001b[39mdef\u001b[39;00m \u001b[39mcheck_for_stationary\u001b[39m(X, critical_value \u001b[39m=\u001b[39m \u001b[39m0.00001\u001b[39m):\n\u001b[1;32m----> <a href='vscode-notebook-cell:/c%3A/Users/mixzh/Desktop/Quant/Crypto%20Pairs%20Trading/LongTermPairFinding.ipynb#X30sZmlsZQ%3D%3D?line=2'>3</a>\u001b[0m     pvalue \u001b[39m=\u001b[39m adfuller(X)[\u001b[39m1\u001b[39m]\n\u001b[0;32m      <a href='vscode-notebook-cell:/c%3A/Users/mixzh/Desktop/Quant/Crypto%20Pairs%20Trading/LongTermPairFinding.ipynb#X30sZmlsZQ%3D%3D?line=3'>4</a>\u001b[0m     \u001b[39mif\u001b[39;00m pvalue \u001b[39m<\u001b[39m critical_value:\n\u001b[0;32m      <a href='vscode-notebook-cell:/c%3A/Users/mixzh/Desktop/Quant/Crypto%20Pairs%20Trading/LongTermPairFinding.ipynb#X30sZmlsZQ%3D%3D?line=4'>5</a>\u001b[0m         \u001b[39mreturn\u001b[39;00m \u001b[39mTrue\u001b[39;00m\n",
      "File \u001b[1;32mc:\\Users\\mixzh\\AppData\\Local\\Programs\\Python\\Python310\\lib\\site-packages\\statsmodels\\tsa\\stattools.py:324\u001b[0m, in \u001b[0;36madfuller\u001b[1;34m(x, maxlag, regression, autolag, store, regresults)\u001b[0m\n\u001b[0;32m    318\u001b[0m \u001b[39m# 1 for level\u001b[39;00m\n\u001b[0;32m    319\u001b[0m \u001b[39m# search for lag length with smallest information criteria\u001b[39;00m\n\u001b[0;32m    320\u001b[0m \u001b[39m# Note: use the same number of observations to have comparable IC\u001b[39;00m\n\u001b[0;32m    321\u001b[0m \u001b[39m# aic and bic: smaller is better\u001b[39;00m\n\u001b[0;32m    323\u001b[0m \u001b[39mif\u001b[39;00m \u001b[39mnot\u001b[39;00m regresults:\n\u001b[1;32m--> 324\u001b[0m     icbest, bestlag \u001b[39m=\u001b[39m _autolag(\n\u001b[0;32m    325\u001b[0m         OLS, xdshort, fullRHS, startlag, maxlag, autolag\n\u001b[0;32m    326\u001b[0m     )\n\u001b[0;32m    327\u001b[0m \u001b[39melse\u001b[39;00m:\n\u001b[0;32m    328\u001b[0m     icbest, bestlag, alres \u001b[39m=\u001b[39m _autolag(\n\u001b[0;32m    329\u001b[0m         OLS,\n\u001b[0;32m    330\u001b[0m         xdshort,\n\u001b[1;32m   (...)\u001b[0m\n\u001b[0;32m    335\u001b[0m         regresults\u001b[39m=\u001b[39mregresults,\n\u001b[0;32m    336\u001b[0m     )\n",
      "File \u001b[1;32mc:\\Users\\mixzh\\AppData\\Local\\Programs\\Python\\Python310\\lib\\site-packages\\statsmodels\\tsa\\stattools.py:131\u001b[0m, in \u001b[0;36m_autolag\u001b[1;34m(mod, endog, exog, startlag, maxlag, method, modargs, fitargs, regresults)\u001b[0m\n\u001b[0;32m    129\u001b[0m \u001b[39mfor\u001b[39;00m lag \u001b[39min\u001b[39;00m \u001b[39mrange\u001b[39m(startlag, startlag \u001b[39m+\u001b[39m maxlag \u001b[39m+\u001b[39m \u001b[39m1\u001b[39m):\n\u001b[0;32m    130\u001b[0m     mod_instance \u001b[39m=\u001b[39m mod(endog, exog[:, :lag], \u001b[39m*\u001b[39mmodargs)\n\u001b[1;32m--> 131\u001b[0m     results[lag] \u001b[39m=\u001b[39m mod_instance\u001b[39m.\u001b[39;49mfit()\n\u001b[0;32m    133\u001b[0m \u001b[39mif\u001b[39;00m method \u001b[39m==\u001b[39m \u001b[39m\"\u001b[39m\u001b[39maic\u001b[39m\u001b[39m\"\u001b[39m:\n\u001b[0;32m    134\u001b[0m     icbest, bestlag \u001b[39m=\u001b[39m \u001b[39mmin\u001b[39m((v\u001b[39m.\u001b[39maic, k) \u001b[39mfor\u001b[39;00m k, v \u001b[39min\u001b[39;00m results\u001b[39m.\u001b[39mitems())\n",
      "File \u001b[1;32mc:\\Users\\mixzh\\AppData\\Local\\Programs\\Python\\Python310\\lib\\site-packages\\statsmodels\\regression\\linear_model.py:335\u001b[0m, in \u001b[0;36mRegressionModel.fit\u001b[1;34m(self, method, cov_type, cov_kwds, use_t, **kwargs)\u001b[0m\n\u001b[0;32m    330\u001b[0m \u001b[39mif\u001b[39;00m method \u001b[39m==\u001b[39m \u001b[39m\"\u001b[39m\u001b[39mpinv\u001b[39m\u001b[39m\"\u001b[39m:\n\u001b[0;32m    331\u001b[0m     \u001b[39mif\u001b[39;00m \u001b[39mnot\u001b[39;00m (\u001b[39mhasattr\u001b[39m(\u001b[39mself\u001b[39m, \u001b[39m'\u001b[39m\u001b[39mpinv_wexog\u001b[39m\u001b[39m'\u001b[39m) \u001b[39mand\u001b[39;00m\n\u001b[0;32m    332\u001b[0m             \u001b[39mhasattr\u001b[39m(\u001b[39mself\u001b[39m, \u001b[39m'\u001b[39m\u001b[39mnormalized_cov_params\u001b[39m\u001b[39m'\u001b[39m) \u001b[39mand\u001b[39;00m\n\u001b[0;32m    333\u001b[0m             \u001b[39mhasattr\u001b[39m(\u001b[39mself\u001b[39m, \u001b[39m'\u001b[39m\u001b[39mrank\u001b[39m\u001b[39m'\u001b[39m)):\n\u001b[1;32m--> 335\u001b[0m         \u001b[39mself\u001b[39m\u001b[39m.\u001b[39mpinv_wexog, singular_values \u001b[39m=\u001b[39m pinv_extended(\u001b[39mself\u001b[39;49m\u001b[39m.\u001b[39;49mwexog)\n\u001b[0;32m    336\u001b[0m         \u001b[39mself\u001b[39m\u001b[39m.\u001b[39mnormalized_cov_params \u001b[39m=\u001b[39m np\u001b[39m.\u001b[39mdot(\n\u001b[0;32m    337\u001b[0m             \u001b[39mself\u001b[39m\u001b[39m.\u001b[39mpinv_wexog, np\u001b[39m.\u001b[39mtranspose(\u001b[39mself\u001b[39m\u001b[39m.\u001b[39mpinv_wexog))\n\u001b[0;32m    339\u001b[0m         \u001b[39m# Cache these singular values for use later.\u001b[39;00m\n",
      "File \u001b[1;32mc:\\Users\\mixzh\\AppData\\Local\\Programs\\Python\\Python310\\lib\\site-packages\\statsmodels\\tools\\tools.py:264\u001b[0m, in \u001b[0;36mpinv_extended\u001b[1;34m(x, rcond)\u001b[0m\n\u001b[0;32m    262\u001b[0m x \u001b[39m=\u001b[39m np\u001b[39m.\u001b[39masarray(x)\n\u001b[0;32m    263\u001b[0m x \u001b[39m=\u001b[39m x\u001b[39m.\u001b[39mconjugate()\n\u001b[1;32m--> 264\u001b[0m u, s, vt \u001b[39m=\u001b[39m np\u001b[39m.\u001b[39;49mlinalg\u001b[39m.\u001b[39;49msvd(x, \u001b[39mFalse\u001b[39;49;00m)\n\u001b[0;32m    265\u001b[0m s_orig \u001b[39m=\u001b[39m np\u001b[39m.\u001b[39mcopy(s)\n\u001b[0;32m    266\u001b[0m m \u001b[39m=\u001b[39m u\u001b[39m.\u001b[39mshape[\u001b[39m0\u001b[39m]\n",
      "File \u001b[1;32mc:\\Users\\mixzh\\AppData\\Local\\Programs\\Python\\Python310\\lib\\site-packages\\numpy\\linalg\\linalg.py:1681\u001b[0m, in \u001b[0;36msvd\u001b[1;34m(a, full_matrices, compute_uv, hermitian)\u001b[0m\n\u001b[0;32m   1678\u001b[0m         gufunc \u001b[39m=\u001b[39m _umath_linalg\u001b[39m.\u001b[39msvd_n_s\n\u001b[0;32m   1680\u001b[0m signature \u001b[39m=\u001b[39m \u001b[39m'\u001b[39m\u001b[39mD->DdD\u001b[39m\u001b[39m'\u001b[39m \u001b[39mif\u001b[39;00m isComplexType(t) \u001b[39melse\u001b[39;00m \u001b[39m'\u001b[39m\u001b[39md->ddd\u001b[39m\u001b[39m'\u001b[39m\n\u001b[1;32m-> 1681\u001b[0m u, s, vh \u001b[39m=\u001b[39m gufunc(a, signature\u001b[39m=\u001b[39;49msignature, extobj\u001b[39m=\u001b[39;49mextobj)\n\u001b[0;32m   1682\u001b[0m u \u001b[39m=\u001b[39m u\u001b[39m.\u001b[39mastype(result_t, copy\u001b[39m=\u001b[39m\u001b[39mFalse\u001b[39;00m)\n\u001b[0;32m   1683\u001b[0m s \u001b[39m=\u001b[39m s\u001b[39m.\u001b[39mastype(_realType(result_t), copy\u001b[39m=\u001b[39m\u001b[39mFalse\u001b[39;00m)\n",
      "\u001b[1;31mKeyboardInterrupt\u001b[0m: "
     ]
    }
   ],
   "source": [
    "# Finding pairs of crypto that are stationary\n",
    "two_to_one_stationary_pair_timeroll = []\n",
    "for i in range(len(Crypto_log_returns)):\n",
    "    temp_Y = []\n",
    "    j_count = 0\n",
    "    for j in range(len(Crypto_log_returns)):\n",
    "        temp_X1 = []\n",
    "        k_count = 0\n",
    "        for k in range(j+1, len(Crypto_log_returns)):\n",
    "            temp_X2 = []\n",
    "            if j != i and k != i:\n",
    "                for l in range(len(Crypto_log_returns[i])):\n",
    "                    # Setting Y and X\n",
    "                    Y = Crypto_log_returns[i][l]\n",
    "                    X1 = Crypto_log_returns[j][l]\n",
    "                    X2 = Crypto_log_returns[k][l]\n",
    "                    Diff = two_to_one_pairs_trading_diff(Y, X1, X2)\n",
    "                    Diff = Diff.dropna()\n",
    "            \n",
    "                    # Check if the period is stationary\n",
    "                    stationary = check_for_stationary(Diff)\n",
    "        \n",
    "                    # Appending time segment stationarity to temp_X2\n",
    "                    temp_X2.append(stationary)\n",
    "            k_count = k_count + 1\n",
    "\n",
    "            # Appending time segment stationarity to temp_X1\n",
    "            temp_X1.append(temp_X2)\n",
    "        j_count = j_count + 1\n",
    "        # Appending all time segement for Y ~ X1 + X2 in temp_Y\n",
    "        temp_Y.append(temp_X1)\n",
    "\n",
    "    # Appending all pairs of X1 + X2 for Y for all time segment in two_to_one_stationary_pair_timeroll\n",
    "    two_to_one_stationary_pair_timeroll.append(temp_Y)\n"
   ]
  },
  {
   "cell_type": "code",
   "execution_count": 136,
   "metadata": {},
   "outputs": [
    {
     "ename": "KeyboardInterrupt",
     "evalue": "",
     "output_type": "error",
     "traceback": [
      "\u001b[1;31m---------------------------------------------------------------------------\u001b[0m",
      "\u001b[1;31mKeyboardInterrupt\u001b[0m                         Traceback (most recent call last)",
      "\u001b[1;32mc:\\Users\\mixzh\\Desktop\\Quant\\Crypto Pairs Trading\\LongTermPairFinding.ipynb Cell 24\u001b[0m line \u001b[0;36m1\n\u001b[0;32m     <a href='vscode-notebook-cell:/c%3A/Users/mixzh/Desktop/Quant/Crypto%20Pairs%20Trading/LongTermPairFinding.ipynb#X31sZmlsZQ%3D%3D?line=15'>16</a>\u001b[0m Diff \u001b[39m=\u001b[39m Diff\u001b[39m.\u001b[39mdropna()\n\u001b[0;32m     <a href='vscode-notebook-cell:/c%3A/Users/mixzh/Desktop/Quant/Crypto%20Pairs%20Trading/LongTermPairFinding.ipynb#X31sZmlsZQ%3D%3D?line=17'>18</a>\u001b[0m \u001b[39m# Check if the period is stationary\u001b[39;00m\n\u001b[1;32m---> <a href='vscode-notebook-cell:/c%3A/Users/mixzh/Desktop/Quant/Crypto%20Pairs%20Trading/LongTermPairFinding.ipynb#X31sZmlsZQ%3D%3D?line=18'>19</a>\u001b[0m stationary \u001b[39m=\u001b[39m check_for_stationary(Diff)\n\u001b[0;32m     <a href='vscode-notebook-cell:/c%3A/Users/mixzh/Desktop/Quant/Crypto%20Pairs%20Trading/LongTermPairFinding.ipynb#X31sZmlsZQ%3D%3D?line=20'>21</a>\u001b[0m \u001b[39m# Appending time segment stationarity to temp_X\u001b[39;00m\n\u001b[0;32m     <a href='vscode-notebook-cell:/c%3A/Users/mixzh/Desktop/Quant/Crypto%20Pairs%20Trading/LongTermPairFinding.ipynb#X31sZmlsZQ%3D%3D?line=21'>22</a>\u001b[0m temp_X\u001b[39m.\u001b[39mappend(stationary)\n",
      "\u001b[1;32mc:\\Users\\mixzh\\Desktop\\Quant\\Crypto Pairs Trading\\LongTermPairFinding.ipynb Cell 24\u001b[0m line \u001b[0;36m3\n\u001b[0;32m      <a href='vscode-notebook-cell:/c%3A/Users/mixzh/Desktop/Quant/Crypto%20Pairs%20Trading/LongTermPairFinding.ipynb#X31sZmlsZQ%3D%3D?line=1'>2</a>\u001b[0m \u001b[39mdef\u001b[39;00m \u001b[39mcheck_for_stationary\u001b[39m(X, critical_value \u001b[39m=\u001b[39m \u001b[39m0.00001\u001b[39m):\n\u001b[1;32m----> <a href='vscode-notebook-cell:/c%3A/Users/mixzh/Desktop/Quant/Crypto%20Pairs%20Trading/LongTermPairFinding.ipynb#X31sZmlsZQ%3D%3D?line=2'>3</a>\u001b[0m     pvalue \u001b[39m=\u001b[39m adfuller(X)[\u001b[39m1\u001b[39m]\n\u001b[0;32m      <a href='vscode-notebook-cell:/c%3A/Users/mixzh/Desktop/Quant/Crypto%20Pairs%20Trading/LongTermPairFinding.ipynb#X31sZmlsZQ%3D%3D?line=3'>4</a>\u001b[0m     \u001b[39mif\u001b[39;00m pvalue \u001b[39m<\u001b[39m critical_value:\n\u001b[0;32m      <a href='vscode-notebook-cell:/c%3A/Users/mixzh/Desktop/Quant/Crypto%20Pairs%20Trading/LongTermPairFinding.ipynb#X31sZmlsZQ%3D%3D?line=4'>5</a>\u001b[0m         \u001b[39mreturn\u001b[39;00m \u001b[39mTrue\u001b[39;00m\n",
      "File \u001b[1;32mc:\\Users\\mixzh\\AppData\\Local\\Programs\\Python\\Python310\\lib\\site-packages\\statsmodels\\tsa\\stattools.py:324\u001b[0m, in \u001b[0;36madfuller\u001b[1;34m(x, maxlag, regression, autolag, store, regresults)\u001b[0m\n\u001b[0;32m    318\u001b[0m \u001b[39m# 1 for level\u001b[39;00m\n\u001b[0;32m    319\u001b[0m \u001b[39m# search for lag length with smallest information criteria\u001b[39;00m\n\u001b[0;32m    320\u001b[0m \u001b[39m# Note: use the same number of observations to have comparable IC\u001b[39;00m\n\u001b[0;32m    321\u001b[0m \u001b[39m# aic and bic: smaller is better\u001b[39;00m\n\u001b[0;32m    323\u001b[0m \u001b[39mif\u001b[39;00m \u001b[39mnot\u001b[39;00m regresults:\n\u001b[1;32m--> 324\u001b[0m     icbest, bestlag \u001b[39m=\u001b[39m _autolag(\n\u001b[0;32m    325\u001b[0m         OLS, xdshort, fullRHS, startlag, maxlag, autolag\n\u001b[0;32m    326\u001b[0m     )\n\u001b[0;32m    327\u001b[0m \u001b[39melse\u001b[39;00m:\n\u001b[0;32m    328\u001b[0m     icbest, bestlag, alres \u001b[39m=\u001b[39m _autolag(\n\u001b[0;32m    329\u001b[0m         OLS,\n\u001b[0;32m    330\u001b[0m         xdshort,\n\u001b[1;32m   (...)\u001b[0m\n\u001b[0;32m    335\u001b[0m         regresults\u001b[39m=\u001b[39mregresults,\n\u001b[0;32m    336\u001b[0m     )\n",
      "File \u001b[1;32mc:\\Users\\mixzh\\AppData\\Local\\Programs\\Python\\Python310\\lib\\site-packages\\statsmodels\\tsa\\stattools.py:131\u001b[0m, in \u001b[0;36m_autolag\u001b[1;34m(mod, endog, exog, startlag, maxlag, method, modargs, fitargs, regresults)\u001b[0m\n\u001b[0;32m    129\u001b[0m \u001b[39mfor\u001b[39;00m lag \u001b[39min\u001b[39;00m \u001b[39mrange\u001b[39m(startlag, startlag \u001b[39m+\u001b[39m maxlag \u001b[39m+\u001b[39m \u001b[39m1\u001b[39m):\n\u001b[0;32m    130\u001b[0m     mod_instance \u001b[39m=\u001b[39m mod(endog, exog[:, :lag], \u001b[39m*\u001b[39mmodargs)\n\u001b[1;32m--> 131\u001b[0m     results[lag] \u001b[39m=\u001b[39m mod_instance\u001b[39m.\u001b[39;49mfit()\n\u001b[0;32m    133\u001b[0m \u001b[39mif\u001b[39;00m method \u001b[39m==\u001b[39m \u001b[39m\"\u001b[39m\u001b[39maic\u001b[39m\u001b[39m\"\u001b[39m:\n\u001b[0;32m    134\u001b[0m     icbest, bestlag \u001b[39m=\u001b[39m \u001b[39mmin\u001b[39m((v\u001b[39m.\u001b[39maic, k) \u001b[39mfor\u001b[39;00m k, v \u001b[39min\u001b[39;00m results\u001b[39m.\u001b[39mitems())\n",
      "File \u001b[1;32mc:\\Users\\mixzh\\AppData\\Local\\Programs\\Python\\Python310\\lib\\site-packages\\statsmodels\\regression\\linear_model.py:335\u001b[0m, in \u001b[0;36mRegressionModel.fit\u001b[1;34m(self, method, cov_type, cov_kwds, use_t, **kwargs)\u001b[0m\n\u001b[0;32m    330\u001b[0m \u001b[39mif\u001b[39;00m method \u001b[39m==\u001b[39m \u001b[39m\"\u001b[39m\u001b[39mpinv\u001b[39m\u001b[39m\"\u001b[39m:\n\u001b[0;32m    331\u001b[0m     \u001b[39mif\u001b[39;00m \u001b[39mnot\u001b[39;00m (\u001b[39mhasattr\u001b[39m(\u001b[39mself\u001b[39m, \u001b[39m'\u001b[39m\u001b[39mpinv_wexog\u001b[39m\u001b[39m'\u001b[39m) \u001b[39mand\u001b[39;00m\n\u001b[0;32m    332\u001b[0m             \u001b[39mhasattr\u001b[39m(\u001b[39mself\u001b[39m, \u001b[39m'\u001b[39m\u001b[39mnormalized_cov_params\u001b[39m\u001b[39m'\u001b[39m) \u001b[39mand\u001b[39;00m\n\u001b[0;32m    333\u001b[0m             \u001b[39mhasattr\u001b[39m(\u001b[39mself\u001b[39m, \u001b[39m'\u001b[39m\u001b[39mrank\u001b[39m\u001b[39m'\u001b[39m)):\n\u001b[1;32m--> 335\u001b[0m         \u001b[39mself\u001b[39m\u001b[39m.\u001b[39mpinv_wexog, singular_values \u001b[39m=\u001b[39m pinv_extended(\u001b[39mself\u001b[39;49m\u001b[39m.\u001b[39;49mwexog)\n\u001b[0;32m    336\u001b[0m         \u001b[39mself\u001b[39m\u001b[39m.\u001b[39mnormalized_cov_params \u001b[39m=\u001b[39m np\u001b[39m.\u001b[39mdot(\n\u001b[0;32m    337\u001b[0m             \u001b[39mself\u001b[39m\u001b[39m.\u001b[39mpinv_wexog, np\u001b[39m.\u001b[39mtranspose(\u001b[39mself\u001b[39m\u001b[39m.\u001b[39mpinv_wexog))\n\u001b[0;32m    339\u001b[0m         \u001b[39m# Cache these singular values for use later.\u001b[39;00m\n",
      "File \u001b[1;32mc:\\Users\\mixzh\\AppData\\Local\\Programs\\Python\\Python310\\lib\\site-packages\\statsmodels\\tools\\tools.py:274\u001b[0m, in \u001b[0;36mpinv_extended\u001b[1;34m(x, rcond)\u001b[0m\n\u001b[0;32m    272\u001b[0m     \u001b[39melse\u001b[39;00m:\n\u001b[0;32m    273\u001b[0m         s[i] \u001b[39m=\u001b[39m \u001b[39m0.\u001b[39m\n\u001b[1;32m--> 274\u001b[0m res \u001b[39m=\u001b[39m np\u001b[39m.\u001b[39;49mdot(np\u001b[39m.\u001b[39;49mtranspose(vt), np\u001b[39m.\u001b[39;49mmultiply(s[:, np\u001b[39m.\u001b[39;49mcore\u001b[39m.\u001b[39;49mnewaxis],\n\u001b[0;32m    275\u001b[0m                                            np\u001b[39m.\u001b[39;49mtranspose(u)))\n\u001b[0;32m    276\u001b[0m \u001b[39mreturn\u001b[39;00m res, s_orig\n",
      "\u001b[1;31mKeyboardInterrupt\u001b[0m: "
     ]
    }
   ],
   "source": [
    "# Finding pairs of crypto that are stationary\n",
    "one_to_one_stationary_pair_timeroll = []\n",
    "i_count = 0\n",
    "for i in range(len(Crypto_log_returns)):\n",
    "    temp_Y = []\n",
    "    j_count = 0\n",
    "    for j in range(len(Crypto_log_returns)):\n",
    "        temp_X = []\n",
    "        k_count = 0\n",
    "        if j != i:\n",
    "            for k in range(len(Crypto_log_returns[i])):\n",
    "                # Setting Y and X\n",
    "                Y = Crypto_log_returns[i][k]\n",
    "                X1 = Crypto_log_returns[j][k]\n",
    "                Diff = one_to_one_pairs_trading_diff(Y, X1)\n",
    "                Diff = Diff.dropna()\n",
    "            \n",
    "                # Check if the period is stationary\n",
    "                stationary = check_for_stationary(Diff)\n",
    "        \n",
    "                # Appending time segment stationarity to temp_X\n",
    "                temp_X.append(stationary)\n",
    "\n",
    "                k_count = k_count + 1\n",
    "\n",
    "        # Appending all time segement for Y ~ X1 in temp_Y\n",
    "        temp_Y.append(temp_X)\n",
    "        j_count = j_count + 1\n",
    "\n",
    "    # Appending all pairs of X1 for Y1 for all time segment in one_to_one_stationary_pair_timeroll\n",
    "    one_to_one_stationary_pair_timeroll.append(temp_Y)\n",
    "    i_count = i_count + 1"
   ]
  }
 ],
 "metadata": {
  "kernelspec": {
   "display_name": "Python 3",
   "language": "python",
   "name": "python3"
  },
  "language_info": {
   "codemirror_mode": {
    "name": "ipython",
    "version": 3
   },
   "file_extension": ".py",
   "mimetype": "text/x-python",
   "name": "python",
   "nbconvert_exporter": "python",
   "pygments_lexer": "ipython3",
   "version": "3.10.1"
  }
 },
 "nbformat": 4,
 "nbformat_minor": 2
}
