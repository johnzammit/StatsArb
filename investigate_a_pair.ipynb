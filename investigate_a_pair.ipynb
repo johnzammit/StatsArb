{
 "cells": [
  {
   "cell_type": "code",
   "execution_count": 136,
   "metadata": {},
   "outputs": [],
   "source": [
    "import pandas as pd\n",
    "import numpy as np\n",
    "import matplotlib.pyplot as plt\n",
    "\n",
    "import statsmodels.api as sm\n",
    "from statsmodels.tsa.stattools import coint\n",
    "from statsmodels.regression.rolling import RollingOLS"
   ]
  },
  {
   "cell_type": "code",
   "execution_count": 137,
   "metadata": {},
   "outputs": [],
   "source": [
    "# Loading the api keys from your local .env file\n",
    "import os\n",
    "from dotenv import load_dotenv, find_dotenv\n",
    "\n",
    "load_dotenv(find_dotenv())\n",
    "\n",
    "binance_api_key = os.getenv('binanceAPIKey')\n",
    "binance_secret_key = os.getenv('binanceSecretKey')"
   ]
  },
  {
   "cell_type": "code",
   "execution_count": 138,
   "metadata": {},
   "outputs": [],
   "source": [
    "from binance.client import Client\n",
    "client = Client(binance_api_key, \n",
    "                binance_secret_key,\n",
    "                tld='us')"
   ]
  },
  {
   "cell_type": "code",
   "execution_count": 139,
   "metadata": {},
   "outputs": [],
   "source": [
    "coin_1 = \"FORTHUSD\"\n",
    "coin_2 = \"ZENUSD\""
   ]
  },
  {
   "cell_type": "code",
   "execution_count": 140,
   "metadata": {},
   "outputs": [
    {
     "data": {
      "text/html": [
       "<div>\n",
       "<style scoped>\n",
       "    .dataframe tbody tr th:only-of-type {\n",
       "        vertical-align: middle;\n",
       "    }\n",
       "\n",
       "    .dataframe tbody tr th {\n",
       "        vertical-align: top;\n",
       "    }\n",
       "\n",
       "    .dataframe thead th {\n",
       "        text-align: right;\n",
       "    }\n",
       "</style>\n",
       "<table border=\"1\" class=\"dataframe\">\n",
       "  <thead>\n",
       "    <tr style=\"text-align: right;\">\n",
       "      <th></th>\n",
       "      <th>open</th>\n",
       "      <th>high</th>\n",
       "      <th>low</th>\n",
       "      <th>close</th>\n",
       "      <th>volume</th>\n",
       "      <th>close_time</th>\n",
       "      <th>quote_av</th>\n",
       "      <th>trades</th>\n",
       "      <th>tb_base_av</th>\n",
       "      <th>tb_quote_av</th>\n",
       "      <th>ignore</th>\n",
       "    </tr>\n",
       "    <tr>\n",
       "      <th>timestamp</th>\n",
       "      <th></th>\n",
       "      <th></th>\n",
       "      <th></th>\n",
       "      <th></th>\n",
       "      <th></th>\n",
       "      <th></th>\n",
       "      <th></th>\n",
       "      <th></th>\n",
       "      <th></th>\n",
       "      <th></th>\n",
       "      <th></th>\n",
       "    </tr>\n",
       "  </thead>\n",
       "  <tbody>\n",
       "    <tr>\n",
       "      <th>2022-10-01</th>\n",
       "      <td>4.6900</td>\n",
       "      <td>4.8900</td>\n",
       "      <td>4.6600</td>\n",
       "      <td>4.720</td>\n",
       "      <td>1493.11000000</td>\n",
       "      <td>1664668799999</td>\n",
       "      <td>7123.8657</td>\n",
       "      <td>43</td>\n",
       "      <td>665.70000000</td>\n",
       "      <td>3223.5903</td>\n",
       "      <td>0</td>\n",
       "    </tr>\n",
       "    <tr>\n",
       "      <th>2022-10-02</th>\n",
       "      <td>4.7300</td>\n",
       "      <td>4.7300</td>\n",
       "      <td>4.6100</td>\n",
       "      <td>4.610</td>\n",
       "      <td>385.38000000</td>\n",
       "      <td>1664755199999</td>\n",
       "      <td>1777.8218</td>\n",
       "      <td>15</td>\n",
       "      <td>16.91000000</td>\n",
       "      <td>79.0032</td>\n",
       "      <td>0</td>\n",
       "    </tr>\n",
       "    <tr>\n",
       "      <th>2022-10-03</th>\n",
       "      <td>4.6000</td>\n",
       "      <td>4.7000</td>\n",
       "      <td>4.6000</td>\n",
       "      <td>4.700</td>\n",
       "      <td>154.28000000</td>\n",
       "      <td>1664841599999</td>\n",
       "      <td>720.6714</td>\n",
       "      <td>10</td>\n",
       "      <td>45.16000000</td>\n",
       "      <td>209.8125</td>\n",
       "      <td>0</td>\n",
       "    </tr>\n",
       "    <tr>\n",
       "      <th>2022-10-04</th>\n",
       "      <td>4.6800</td>\n",
       "      <td>4.8900</td>\n",
       "      <td>4.6600</td>\n",
       "      <td>4.760</td>\n",
       "      <td>1736.41000000</td>\n",
       "      <td>1664927999999</td>\n",
       "      <td>8317.2410</td>\n",
       "      <td>61</td>\n",
       "      <td>1031.29000000</td>\n",
       "      <td>4936.6399</td>\n",
       "      <td>0</td>\n",
       "    </tr>\n",
       "    <tr>\n",
       "      <th>2022-10-05</th>\n",
       "      <td>4.7100</td>\n",
       "      <td>4.7600</td>\n",
       "      <td>4.7000</td>\n",
       "      <td>4.760</td>\n",
       "      <td>353.12000000</td>\n",
       "      <td>1665014399999</td>\n",
       "      <td>1671.2635</td>\n",
       "      <td>13</td>\n",
       "      <td>317.57000000</td>\n",
       "      <td>1502.9979</td>\n",
       "      <td>0</td>\n",
       "    </tr>\n",
       "    <tr>\n",
       "      <th>...</th>\n",
       "      <td>...</td>\n",
       "      <td>...</td>\n",
       "      <td>...</td>\n",
       "      <td>...</td>\n",
       "      <td>...</td>\n",
       "      <td>...</td>\n",
       "      <td>...</td>\n",
       "      <td>...</td>\n",
       "      <td>...</td>\n",
       "      <td>...</td>\n",
       "      <td>...</td>\n",
       "    </tr>\n",
       "    <tr>\n",
       "      <th>2023-06-23</th>\n",
       "      <td>2.22700000</td>\n",
       "      <td>2.22700000</td>\n",
       "      <td>2.22500000</td>\n",
       "      <td>2.225</td>\n",
       "      <td>24.44000000</td>\n",
       "      <td>1687564799999</td>\n",
       "      <td>54.40436000</td>\n",
       "      <td>5</td>\n",
       "      <td>0.00000000</td>\n",
       "      <td>0.00000000</td>\n",
       "      <td>0</td>\n",
       "    </tr>\n",
       "    <tr>\n",
       "      <th>2023-06-24</th>\n",
       "      <td>2.22500000</td>\n",
       "      <td>2.22500000</td>\n",
       "      <td>2.22500000</td>\n",
       "      <td>2.225</td>\n",
       "      <td>0.00000000</td>\n",
       "      <td>1687651199999</td>\n",
       "      <td>0.00000000</td>\n",
       "      <td>0</td>\n",
       "      <td>0.00000000</td>\n",
       "      <td>0.00000000</td>\n",
       "      <td>0</td>\n",
       "    </tr>\n",
       "    <tr>\n",
       "      <th>2023-06-25</th>\n",
       "      <td>2.22500000</td>\n",
       "      <td>2.22500000</td>\n",
       "      <td>2.22500000</td>\n",
       "      <td>2.225</td>\n",
       "      <td>0.00000000</td>\n",
       "      <td>1687737599999</td>\n",
       "      <td>0.00000000</td>\n",
       "      <td>0</td>\n",
       "      <td>0.00000000</td>\n",
       "      <td>0.00000000</td>\n",
       "      <td>0</td>\n",
       "    </tr>\n",
       "    <tr>\n",
       "      <th>2023-06-26</th>\n",
       "      <td>2.22500000</td>\n",
       "      <td>2.22500000</td>\n",
       "      <td>2.22500000</td>\n",
       "      <td>2.225</td>\n",
       "      <td>0.00000000</td>\n",
       "      <td>1687823999999</td>\n",
       "      <td>0.00000000</td>\n",
       "      <td>0</td>\n",
       "      <td>0.00000000</td>\n",
       "      <td>0.00000000</td>\n",
       "      <td>0</td>\n",
       "    </tr>\n",
       "    <tr>\n",
       "      <th>2023-06-27</th>\n",
       "      <td>2.22500000</td>\n",
       "      <td>2.22500000</td>\n",
       "      <td>2.22500000</td>\n",
       "      <td>2.225</td>\n",
       "      <td>0.00000000</td>\n",
       "      <td>1687834799999</td>\n",
       "      <td>0.00000000</td>\n",
       "      <td>0</td>\n",
       "      <td>0.00000000</td>\n",
       "      <td>0.00000000</td>\n",
       "      <td>0</td>\n",
       "    </tr>\n",
       "  </tbody>\n",
       "</table>\n",
       "<p>270 rows × 11 columns</p>\n",
       "</div>"
      ],
      "text/plain": [
       "                  open        high         low  close         volume  \\\n",
       "timestamp                                                              \n",
       "2022-10-01      4.6900      4.8900      4.6600  4.720  1493.11000000   \n",
       "2022-10-02      4.7300      4.7300      4.6100  4.610   385.38000000   \n",
       "2022-10-03      4.6000      4.7000      4.6000  4.700   154.28000000   \n",
       "2022-10-04      4.6800      4.8900      4.6600  4.760  1736.41000000   \n",
       "2022-10-05      4.7100      4.7600      4.7000  4.760   353.12000000   \n",
       "...                ...         ...         ...    ...            ...   \n",
       "2023-06-23  2.22700000  2.22700000  2.22500000  2.225    24.44000000   \n",
       "2023-06-24  2.22500000  2.22500000  2.22500000  2.225     0.00000000   \n",
       "2023-06-25  2.22500000  2.22500000  2.22500000  2.225     0.00000000   \n",
       "2023-06-26  2.22500000  2.22500000  2.22500000  2.225     0.00000000   \n",
       "2023-06-27  2.22500000  2.22500000  2.22500000  2.225     0.00000000   \n",
       "\n",
       "               close_time     quote_av  trades     tb_base_av tb_quote_av  \\\n",
       "timestamp                                                                   \n",
       "2022-10-01  1664668799999    7123.8657      43   665.70000000   3223.5903   \n",
       "2022-10-02  1664755199999    1777.8218      15    16.91000000     79.0032   \n",
       "2022-10-03  1664841599999     720.6714      10    45.16000000    209.8125   \n",
       "2022-10-04  1664927999999    8317.2410      61  1031.29000000   4936.6399   \n",
       "2022-10-05  1665014399999    1671.2635      13   317.57000000   1502.9979   \n",
       "...                   ...          ...     ...            ...         ...   \n",
       "2023-06-23  1687564799999  54.40436000       5     0.00000000  0.00000000   \n",
       "2023-06-24  1687651199999   0.00000000       0     0.00000000  0.00000000   \n",
       "2023-06-25  1687737599999   0.00000000       0     0.00000000  0.00000000   \n",
       "2023-06-26  1687823999999   0.00000000       0     0.00000000  0.00000000   \n",
       "2023-06-27  1687834799999   0.00000000       0     0.00000000  0.00000000   \n",
       "\n",
       "           ignore  \n",
       "timestamp          \n",
       "2022-10-01      0  \n",
       "2022-10-02      0  \n",
       "2022-10-03      0  \n",
       "2022-10-04      0  \n",
       "2022-10-05      0  \n",
       "...           ...  \n",
       "2023-06-23      0  \n",
       "2023-06-24      0  \n",
       "2023-06-25      0  \n",
       "2023-06-26      0  \n",
       "2023-06-27      0  \n",
       "\n",
       "[270 rows x 11 columns]"
      ]
     },
     "execution_count": 140,
     "metadata": {},
     "output_type": "execute_result"
    }
   ],
   "source": [
    "klines_1 = client.get_historical_klines(coin_1, Client.KLINE_INTERVAL_1DAY, \"1 Oct, 2022\", \"1 Oct, 2023\")\n",
    "coin_1_df = pd.DataFrame(klines_1, columns = ['timestamp', 'open', 'high', 'low', 'close', \n",
    "                                        'volume', 'close_time', 'quote_av', 'trades', \n",
    "                                        'tb_base_av', 'tb_quote_av', 'ignore' ])\n",
    "coin_1_df['timestamp'] = pd.to_datetime(coin_1_df['timestamp'], unit='ms')\n",
    "coin_1_df.set_index('timestamp', inplace=True)\n",
    "coin_1_df['close'] = coin_1_df['close'].astype(float)\n",
    "coin_1_df"
   ]
  },
  {
   "cell_type": "code",
   "execution_count": 141,
   "metadata": {},
   "outputs": [
    {
     "data": {
      "text/html": [
       "<div>\n",
       "<style scoped>\n",
       "    .dataframe tbody tr th:only-of-type {\n",
       "        vertical-align: middle;\n",
       "    }\n",
       "\n",
       "    .dataframe tbody tr th {\n",
       "        vertical-align: top;\n",
       "    }\n",
       "\n",
       "    .dataframe thead th {\n",
       "        text-align: right;\n",
       "    }\n",
       "</style>\n",
       "<table border=\"1\" class=\"dataframe\">\n",
       "  <thead>\n",
       "    <tr style=\"text-align: right;\">\n",
       "      <th></th>\n",
       "      <th>open</th>\n",
       "      <th>high</th>\n",
       "      <th>low</th>\n",
       "      <th>close</th>\n",
       "      <th>volume</th>\n",
       "      <th>close_time</th>\n",
       "      <th>quote_av</th>\n",
       "      <th>trades</th>\n",
       "      <th>tb_base_av</th>\n",
       "      <th>tb_quote_av</th>\n",
       "      <th>ignore</th>\n",
       "    </tr>\n",
       "    <tr>\n",
       "      <th>timestamp</th>\n",
       "      <th></th>\n",
       "      <th></th>\n",
       "      <th></th>\n",
       "      <th></th>\n",
       "      <th></th>\n",
       "      <th></th>\n",
       "      <th></th>\n",
       "      <th></th>\n",
       "      <th></th>\n",
       "      <th></th>\n",
       "      <th></th>\n",
       "    </tr>\n",
       "  </thead>\n",
       "  <tbody>\n",
       "    <tr>\n",
       "      <th>2022-10-01</th>\n",
       "      <td>14.1490</td>\n",
       "      <td>14.1730</td>\n",
       "      <td>13.7760</td>\n",
       "      <td>13.942</td>\n",
       "      <td>554.54600000</td>\n",
       "      <td>1664668799999</td>\n",
       "      <td>7706.9278</td>\n",
       "      <td>57</td>\n",
       "      <td>85.92600000</td>\n",
       "      <td>1200.6065</td>\n",
       "      <td>0</td>\n",
       "    </tr>\n",
       "    <tr>\n",
       "      <th>2022-10-02</th>\n",
       "      <td>13.9130</td>\n",
       "      <td>13.9130</td>\n",
       "      <td>13.4360</td>\n",
       "      <td>13.473</td>\n",
       "      <td>470.64400000</td>\n",
       "      <td>1664755199999</td>\n",
       "      <td>6415.9302</td>\n",
       "      <td>68</td>\n",
       "      <td>201.97300000</td>\n",
       "      <td>2760.1971</td>\n",
       "      <td>0</td>\n",
       "    </tr>\n",
       "    <tr>\n",
       "      <th>2022-10-03</th>\n",
       "      <td>13.4730</td>\n",
       "      <td>14.0920</td>\n",
       "      <td>13.3060</td>\n",
       "      <td>14.047</td>\n",
       "      <td>252.79700000</td>\n",
       "      <td>1664841599999</td>\n",
       "      <td>3490.4037</td>\n",
       "      <td>63</td>\n",
       "      <td>116.92400000</td>\n",
       "      <td>1615.9087</td>\n",
       "      <td>0</td>\n",
       "    </tr>\n",
       "    <tr>\n",
       "      <th>2022-10-04</th>\n",
       "      <td>14.0810</td>\n",
       "      <td>14.5350</td>\n",
       "      <td>14.0000</td>\n",
       "      <td>14.326</td>\n",
       "      <td>1155.23300000</td>\n",
       "      <td>1664927999999</td>\n",
       "      <td>16501.8029</td>\n",
       "      <td>108</td>\n",
       "      <td>502.82800000</td>\n",
       "      <td>7199.7539</td>\n",
       "      <td>0</td>\n",
       "    </tr>\n",
       "    <tr>\n",
       "      <th>2022-10-05</th>\n",
       "      <td>14.2600</td>\n",
       "      <td>14.2650</td>\n",
       "      <td>13.7220</td>\n",
       "      <td>13.962</td>\n",
       "      <td>1673.40400000</td>\n",
       "      <td>1665014399999</td>\n",
       "      <td>23357.3717</td>\n",
       "      <td>105</td>\n",
       "      <td>609.67500000</td>\n",
       "      <td>8533.1574</td>\n",
       "      <td>0</td>\n",
       "    </tr>\n",
       "    <tr>\n",
       "      <th>...</th>\n",
       "      <td>...</td>\n",
       "      <td>...</td>\n",
       "      <td>...</td>\n",
       "      <td>...</td>\n",
       "      <td>...</td>\n",
       "      <td>...</td>\n",
       "      <td>...</td>\n",
       "      <td>...</td>\n",
       "      <td>...</td>\n",
       "      <td>...</td>\n",
       "      <td>...</td>\n",
       "    </tr>\n",
       "    <tr>\n",
       "      <th>2023-06-23</th>\n",
       "      <td>6.60000000</td>\n",
       "      <td>6.99000000</td>\n",
       "      <td>5.85000000</td>\n",
       "      <td>6.770</td>\n",
       "      <td>36.23000000</td>\n",
       "      <td>1687564799999</td>\n",
       "      <td>238.61440000</td>\n",
       "      <td>18</td>\n",
       "      <td>26.68000000</td>\n",
       "      <td>180.27040000</td>\n",
       "      <td>0</td>\n",
       "    </tr>\n",
       "    <tr>\n",
       "      <th>2023-06-24</th>\n",
       "      <td>6.74000000</td>\n",
       "      <td>6.88000000</td>\n",
       "      <td>6.60000000</td>\n",
       "      <td>6.870</td>\n",
       "      <td>7.54000000</td>\n",
       "      <td>1687651199999</td>\n",
       "      <td>51.45300000</td>\n",
       "      <td>9</td>\n",
       "      <td>4.91000000</td>\n",
       "      <td>33.68040000</td>\n",
       "      <td>0</td>\n",
       "    </tr>\n",
       "    <tr>\n",
       "      <th>2023-06-25</th>\n",
       "      <td>7.00000000</td>\n",
       "      <td>7.42000000</td>\n",
       "      <td>6.52000000</td>\n",
       "      <td>6.520</td>\n",
       "      <td>437.31000000</td>\n",
       "      <td>1687737599999</td>\n",
       "      <td>3103.23440000</td>\n",
       "      <td>314</td>\n",
       "      <td>317.82000000</td>\n",
       "      <td>2250.35120000</td>\n",
       "      <td>0</td>\n",
       "    </tr>\n",
       "    <tr>\n",
       "      <th>2023-06-26</th>\n",
       "      <td>6.60000000</td>\n",
       "      <td>7.38000000</td>\n",
       "      <td>6.60000000</td>\n",
       "      <td>6.950</td>\n",
       "      <td>331.87000000</td>\n",
       "      <td>1687823999999</td>\n",
       "      <td>2311.42870000</td>\n",
       "      <td>698</td>\n",
       "      <td>132.11000000</td>\n",
       "      <td>919.68040000</td>\n",
       "      <td>0</td>\n",
       "    </tr>\n",
       "    <tr>\n",
       "      <th>2023-06-27</th>\n",
       "      <td>6.95000000</td>\n",
       "      <td>6.95000000</td>\n",
       "      <td>6.95000000</td>\n",
       "      <td>6.950</td>\n",
       "      <td>0.00000000</td>\n",
       "      <td>1687834799999</td>\n",
       "      <td>0.00000000</td>\n",
       "      <td>0</td>\n",
       "      <td>0.00000000</td>\n",
       "      <td>0.00000000</td>\n",
       "      <td>0</td>\n",
       "    </tr>\n",
       "  </tbody>\n",
       "</table>\n",
       "<p>270 rows × 11 columns</p>\n",
       "</div>"
      ],
      "text/plain": [
       "                  open        high         low   close         volume  \\\n",
       "timestamp                                                               \n",
       "2022-10-01     14.1490     14.1730     13.7760  13.942   554.54600000   \n",
       "2022-10-02     13.9130     13.9130     13.4360  13.473   470.64400000   \n",
       "2022-10-03     13.4730     14.0920     13.3060  14.047   252.79700000   \n",
       "2022-10-04     14.0810     14.5350     14.0000  14.326  1155.23300000   \n",
       "2022-10-05     14.2600     14.2650     13.7220  13.962  1673.40400000   \n",
       "...                ...         ...         ...     ...            ...   \n",
       "2023-06-23  6.60000000  6.99000000  5.85000000   6.770    36.23000000   \n",
       "2023-06-24  6.74000000  6.88000000  6.60000000   6.870     7.54000000   \n",
       "2023-06-25  7.00000000  7.42000000  6.52000000   6.520   437.31000000   \n",
       "2023-06-26  6.60000000  7.38000000  6.60000000   6.950   331.87000000   \n",
       "2023-06-27  6.95000000  6.95000000  6.95000000   6.950     0.00000000   \n",
       "\n",
       "               close_time       quote_av  trades    tb_base_av    tb_quote_av  \\\n",
       "timestamp                                                                       \n",
       "2022-10-01  1664668799999      7706.9278      57   85.92600000      1200.6065   \n",
       "2022-10-02  1664755199999      6415.9302      68  201.97300000      2760.1971   \n",
       "2022-10-03  1664841599999      3490.4037      63  116.92400000      1615.9087   \n",
       "2022-10-04  1664927999999     16501.8029     108  502.82800000      7199.7539   \n",
       "2022-10-05  1665014399999     23357.3717     105  609.67500000      8533.1574   \n",
       "...                   ...            ...     ...           ...            ...   \n",
       "2023-06-23  1687564799999   238.61440000      18   26.68000000   180.27040000   \n",
       "2023-06-24  1687651199999    51.45300000       9    4.91000000    33.68040000   \n",
       "2023-06-25  1687737599999  3103.23440000     314  317.82000000  2250.35120000   \n",
       "2023-06-26  1687823999999  2311.42870000     698  132.11000000   919.68040000   \n",
       "2023-06-27  1687834799999     0.00000000       0    0.00000000     0.00000000   \n",
       "\n",
       "           ignore  \n",
       "timestamp          \n",
       "2022-10-01      0  \n",
       "2022-10-02      0  \n",
       "2022-10-03      0  \n",
       "2022-10-04      0  \n",
       "2022-10-05      0  \n",
       "...           ...  \n",
       "2023-06-23      0  \n",
       "2023-06-24      0  \n",
       "2023-06-25      0  \n",
       "2023-06-26      0  \n",
       "2023-06-27      0  \n",
       "\n",
       "[270 rows x 11 columns]"
      ]
     },
     "execution_count": 141,
     "metadata": {},
     "output_type": "execute_result"
    }
   ],
   "source": [
    "klines_2 = client.get_historical_klines(coin_2, Client.KLINE_INTERVAL_1DAY, \"1 Oct, 2022\", \"1 Oct, 2023\")\n",
    "coin_2_df = pd.DataFrame(klines_2, columns = ['timestamp', 'open', 'high', 'low', 'close', \n",
    "                                        'volume', 'close_time', 'quote_av', 'trades', \n",
    "                                        'tb_base_av', 'tb_quote_av', 'ignore' ])\n",
    "coin_2_df['timestamp'] = pd.to_datetime(coin_2_df['timestamp'], unit='ms')\n",
    "coin_2_df.set_index('timestamp', inplace=True)\n",
    "coin_2_df['close'] = coin_2_df['close'].astype(float)\n",
    "coin_2_df"
   ]
  },
  {
   "cell_type": "code",
   "execution_count": 142,
   "metadata": {},
   "outputs": [
    {
     "data": {
      "text/plain": [
       "270"
      ]
     },
     "execution_count": 142,
     "metadata": {},
     "output_type": "execute_result"
    }
   ],
   "source": [
    "len(coin_1_df)"
   ]
  },
  {
   "cell_type": "code",
   "execution_count": 143,
   "metadata": {},
   "outputs": [
    {
     "data": {
      "text/plain": [
       "270"
      ]
     },
     "execution_count": 143,
     "metadata": {},
     "output_type": "execute_result"
    }
   ],
   "source": [
    "len(coin_2_df)"
   ]
  },
  {
   "cell_type": "code",
   "execution_count": 144,
   "metadata": {},
   "outputs": [],
   "source": [
    "S1 = coin_1_df['close'].copy()\n",
    "S2 = coin_2_df['close'].copy()"
   ]
  },
  {
   "cell_type": "code",
   "execution_count": 145,
   "metadata": {},
   "outputs": [
    {
     "name": "stdout",
     "output_type": "stream",
     "text": [
      "0.00022670429400145726\n"
     ]
    }
   ],
   "source": [
    "# Do coint test\n",
    "score, pvalue, _ = coint(S1, S2)\n",
    "print(pvalue)"
   ]
  },
  {
   "cell_type": "code",
   "execution_count": 146,
   "metadata": {},
   "outputs": [
    {
     "data": {
      "text/plain": [
       "<matplotlib.legend.Legend at 0x23c5f8885b0>"
      ]
     },
     "execution_count": 146,
     "metadata": {},
     "output_type": "execute_result"
    },
    {
     "data": {
      "image/png": "[encoded data removed]",
      "text/plain": [
       "<Figure size 640x480 with 1 Axes>"
      ]
     },
     "metadata": {},
     "output_type": "display_data"
    }
   ],
   "source": [
    "S1 = sm.add_constant(S1)\n",
    "results = sm.OLS(S2, S1).fit()\n",
    "S1 = S1['close']\n",
    "b = results.params['close']\n",
    "\n",
    "spread = S2 - b * S1\n",
    "spread.plot()\n",
    "plt.axhline(spread.mean(), color='black')\n",
    "plt.legend(['Spread'])"
   ]
  },
  {
   "cell_type": "code",
   "execution_count": 147,
   "metadata": {},
   "outputs": [
    {
     "data": {
      "text/plain": [
       "2.945404191596687"
      ]
     },
     "execution_count": 147,
     "metadata": {},
     "output_type": "execute_result"
    }
   ],
   "source": [
    "b"
   ]
  },
  {
   "cell_type": "code",
   "execution_count": 148,
   "metadata": {},
   "outputs": [
    {
     "data": {
      "text/plain": [
       "3.404348148148147"
      ]
     },
     "execution_count": 148,
     "metadata": {},
     "output_type": "execute_result"
    }
   ],
   "source": [
    "np.mean(S1)"
   ]
  },
  {
   "cell_type": "code",
   "execution_count": 149,
   "metadata": {},
   "outputs": [
    {
     "data": {
      "text/plain": [
       "10.211177777777774"
      ]
     },
     "execution_count": 149,
     "metadata": {},
     "output_type": "execute_result"
    }
   ],
   "source": [
    "np.mean(S2)"
   ]
  },
  {
   "cell_type": "code",
   "execution_count": 150,
   "metadata": {},
   "outputs": [],
   "source": [
    "def zscore(series):\n",
    "    return (series - series.mean()) / np.std(series)"
   ]
  },
  {
   "cell_type": "code",
   "execution_count": 151,
   "metadata": {},
   "outputs": [
    {
     "data": {
      "text/plain": [
       "<matplotlib.legend.Legend at 0x23c5f7f1160>"
      ]
     },
     "execution_count": 151,
     "metadata": {},
     "output_type": "execute_result"
    },
    {
     "data": {
      "image/png": "[encoded data removed]",
      "text/plain": [
       "<Figure size 640x480 with 1 Axes>"
      ]
     },
     "metadata": {},
     "output_type": "display_data"
    }
   ],
   "source": [
    "zscore(spread).plot()\n",
    "plt.axhline(zscore(spread).mean(), color='black')\n",
    "plt.axhline(1.0, color='red', linestyle='--')\n",
    "plt.axhline(-1.0, color='green', linestyle='--')\n",
    "plt.legend(['Spread z-score', 'Mean', '+1', '-1'])"
   ]
  },
  {
   "cell_type": "code",
   "execution_count": 152,
   "metadata": {},
   "outputs": [],
   "source": [
    "# Now basically we need to do Rolling..."
   ]
  },
  {
   "cell_type": "code",
   "execution_count": 153,
   "metadata": {},
   "outputs": [
    {
     "data": {
      "text/plain": [
       "'\\n- Maintain a certain window length\\n- Maintain 2 lists of size window length (make sure these start with window_length prices before doing anything)\\n- Maintain a list of size window length that holds spread values (this should also start out with window_length spread values)\\n\\n- Add new 2 prices to both lists\\n- Remove first prices from both lists\\n- Make sure coint test still passes\\n- Redo regression to get new beta, use new beta to get new spread\\n- Add this new spread value to the spread window, pop the first value\\n- With the new updated spread window list, get the current average of it\\n- With the new updated spread window list, get the current standard deviation of it\\n- Use the new average and std to get the new upper and lower bounds\\n- Just check if the current value of the spread is past a bound; if so, buy/sell\\n'"
      ]
     },
     "execution_count": 153,
     "metadata": {},
     "output_type": "execute_result"
    }
   ],
   "source": [
    "# When we get the next 2 price points:\n",
    "'''\n",
    "- Maintain a certain window length\n",
    "- Maintain 2 lists of size window length (make sure these start with window_length prices before doing anything)\n",
    "- Maintain a list of size window length that holds spread values (this should also start out with window_length spread values)\n",
    "\n",
    "- Add new 2 prices to both lists\n",
    "- Remove first prices from both lists\n",
    "- Make sure coint test still passes\n",
    "- Redo regression to get new beta, use new beta to get new spread\n",
    "- Add this new spread value to the spread window, pop the first value\n",
    "- With the new updated spread window list, get the current average of it\n",
    "- With the new updated spread window list, get the current standard deviation of it\n",
    "- Use the new average and std to get the new upper and lower bounds\n",
    "- Just check if the current value of the spread is past a bound; if so, buy/sell\n",
    "'''"
   ]
  },
  {
   "cell_type": "code",
   "execution_count": 154,
   "metadata": {},
   "outputs": [],
   "source": [
    "window_size = 30 # Can tune this; in practice this should be bigger probably? Depends on time granularity as well.\n",
    "\n",
    "coin_1_prices_window = []\n",
    "coin_2_prices_window = []\n",
    "\n",
    "# First fill up the windows\n",
    "coin_1_prices_window = list(coin_1_df['close'][:30])\n",
    "coin_2_prices_window = list(coin_2_df['close'][:30])"
   ]
  },
  {
   "cell_type": "code",
   "execution_count": 155,
   "metadata": {},
   "outputs": [],
   "source": [
    "# Track our betas, avgs, and stds\n",
    "betas = []\n",
    "avgs = []\n",
    "stds = []\n",
    "\n",
    "# Other stuff\n",
    "pvals = []\n",
    "spread_values_window = []\n",
    "signals = []\n",
    "upper_bounds = []\n",
    "lower_bounds = []\n",
    "all_spread_values = []"
   ]
  },
  {
   "cell_type": "code",
   "execution_count": 156,
   "metadata": {},
   "outputs": [],
   "source": [
    "# Run test\n",
    "\n",
    "S1 = coin_1_prices_window.copy()\n",
    "S2 = coin_2_prices_window.copy()\n",
    "S1 = sm.add_constant(S1)\n",
    "results = sm.OLS(S2, S1).fit()\n",
    "S1 = coin_1_prices_window.copy()\n",
    "first_beta = results.params[1] # Double check that this is the right way to get beta_1\n",
    "betas.append(first_beta)\n",
    "\n",
    "products = [first_beta * val for val in S1]\n",
    "differences = [S2[i] - products[i] for i in range(len(S1))]\n",
    "spread_values_window = differences # So spread_values_window should start with 30 values\n",
    "all_spread_values = differences.copy()\n",
    "\n",
    "first_std = np.std(spread_values_window) # Get initial std\n",
    "stds.append(first_std)"
   ]
  },
  {
   "cell_type": "code",
   "execution_count": 157,
   "metadata": {},
   "outputs": [
    {
     "name": "stdout",
     "output_type": "stream",
     "text": [
      "Total number of days:  270\n"
     ]
    }
   ],
   "source": [
    "num_days = len(coin_1_df['close'])\n",
    "print(\"Total number of days: \", num_days)\n",
    "if num_days != len(coin_2_df['close']):\n",
    "    print(\"coin dfs do not have the same amount of close prices\")\n",
    "\n",
    "# Update our stuff as we get new prices\n",
    "for i in range(30, num_days):\n",
    "    coin_1_new_price = list(coin_1_df['close'])[i] # This would be replaced by some call that gets the latest price point\n",
    "    coin_2_new_price = list(coin_2_df['close'])[i] # This would be replaced by some call that gets the latest price point\n",
    "\n",
    "    coin_1_prices_window.append(coin_1_new_price)\n",
    "    coin_2_prices_window.append(coin_2_new_price)\n",
    "\n",
    "    coin_1_prices_window.pop(0)\n",
    "    coin_2_prices_window.pop(0)\n",
    "\n",
    "    # Run coint test\n",
    "    _, pvalue, _ = coint(coin_1_prices_window, coin_2_prices_window)\n",
    "    pvals.append(pvalue)\n",
    "    # if pvalue > 0.05:\n",
    "    #     print(\"pvalue is greater than 0.05\")\n",
    "\n",
    "    S1 = coin_1_prices_window.copy()\n",
    "    S2 = coin_2_prices_window.copy()\n",
    "    S1 = sm.add_constant(S1)\n",
    "    results = sm.OLS(S2, S1).fit()\n",
    "    new_beta = results.params[1] # Double check that this is the right way to get beta_1\n",
    "\n",
    "    new_spread_single_value = coin_2_new_price - b * coin_1_new_price\n",
    "    spread_values_window.append(new_spread_single_value)\n",
    "    all_spread_values.append(new_spread_single_value)\n",
    "    \n",
    "    spread_values_window.pop(0) # Keep spread list at length 30 since we keep getting its new stds\n",
    "\n",
    "    new_avg = np.mean(spread_values_window)\n",
    "    avgs.append(new_avg)\n",
    "\n",
    "    new_std = np.std(spread_values_window)\n",
    "    stds.append(new_std)\n",
    "\n",
    "    new_upper_bound = new_avg + new_std * 1 # Can change this factor \n",
    "    new_lower_bound = new_avg + new_std * -1\n",
    "\n",
    "    upper_bounds.append(new_upper_bound)\n",
    "    lower_bounds.append(new_lower_bound)\n",
    "    \n",
    "    if new_spread_single_value > new_upper_bound:\n",
    "        signals.append(\"sell\")\n",
    "    elif new_spread_single_value < new_lower_bound:\n",
    "        signals.append(\"buy\")"
   ]
  },
  {
   "cell_type": "code",
   "execution_count": 158,
   "metadata": {},
   "outputs": [
    {
     "data": {
      "text/plain": [
       "241"
      ]
     },
     "execution_count": 158,
     "metadata": {},
     "output_type": "execute_result"
    }
   ],
   "source": [
    "len(stds)"
   ]
  },
  {
   "cell_type": "code",
   "execution_count": 159,
   "metadata": {},
   "outputs": [
    {
     "data": {
      "text/plain": [
       "30"
      ]
     },
     "execution_count": 159,
     "metadata": {},
     "output_type": "execute_result"
    }
   ],
   "source": [
    "len(spread_values_window)"
   ]
  },
  {
   "cell_type": "code",
   "execution_count": 160,
   "metadata": {},
   "outputs": [
    {
     "data": {
      "text/plain": [
       "95"
      ]
     },
     "execution_count": 160,
     "metadata": {},
     "output_type": "execute_result"
    }
   ],
   "source": [
    "len(signals)"
   ]
  },
  {
   "cell_type": "code",
   "execution_count": 161,
   "metadata": {},
   "outputs": [
    {
     "name": "stdout",
     "output_type": "stream",
     "text": [
      "240\n",
      "240\n",
      "270\n"
     ]
    }
   ],
   "source": [
    "print(len(upper_bounds))\n",
    "print(len(lower_bounds))\n",
    "print(len(all_spread_values))"
   ]
  },
  {
   "cell_type": "code",
   "execution_count": 162,
   "metadata": {},
   "outputs": [
    {
     "data": {
      "image/png": "[encoded data removed]",
      "text/plain": [
       "<Figure size 640x480 with 1 Axes>"
      ]
     },
     "metadata": {},
     "output_type": "display_data"
    }
   ],
   "source": [
    "# Plot the new bounds we get over time\n",
    "# Plot the new spread values we get over time\n",
    "len_diff = len(all_spread_values) - len(upper_bounds)\n",
    "\n",
    "upper_bounds_plot = list([None] * len_diff) + upper_bounds\n",
    "lower_bounds_plot = list([None] * len_diff) + lower_bounds\n",
    "\n",
    "# Create a line plot for each set of data\n",
    "plt.plot(upper_bounds_plot, label='Upper Bounds')\n",
    "plt.plot(lower_bounds_plot, label='Lower Bounds')\n",
    "plt.plot(all_spread_values, label='All Spread Values')\n",
    "\n",
    "plt.xlabel('X-axis')\n",
    "plt.ylabel('Y-axis')\n",
    "plt.legend()\n",
    "\n",
    "plt.show()"
   ]
  },
  {
   "cell_type": "code",
   "execution_count": 163,
   "metadata": {},
   "outputs": [
    {
     "data": {
      "text/plain": [
       "240"
      ]
     },
     "execution_count": 163,
     "metadata": {},
     "output_type": "execute_result"
    }
   ],
   "source": [
    "trimmed_spread_list = all_spread_values[30:]\n",
    "len(trimmed_spread_list)"
   ]
  },
  {
   "cell_type": "code",
   "execution_count": 164,
   "metadata": {},
   "outputs": [
    {
     "name": "stdout",
     "output_type": "stream",
     "text": [
      "Buy Count:  58\n",
      "Sell Count:  37\n"
     ]
    }
   ],
   "source": [
    "buy_count = 0\n",
    "sell_count = 0\n",
    "for i in range(len(trimmed_spread_list)):\n",
    "    if trimmed_spread_list[i] > upper_bounds[i]:\n",
    "        sell_count += 1\n",
    "    elif trimmed_spread_list[i] < lower_bounds[i]:\n",
    "        buy_count += 1\n",
    "print(\"Buy Count: \", buy_count)\n",
    "print(\"Sell Count: \", sell_count)"
   ]
  },
  {
   "cell_type": "code",
   "execution_count": 165,
   "metadata": {},
   "outputs": [
    {
     "name": "stdout",
     "output_type": "stream",
     "text": [
      "Number of signals we generated during the actual algo:  95\n",
      "Double-checking how many buy and sell counts we got:  95\n"
     ]
    }
   ],
   "source": [
    "print(\"Number of signals we generated during the actual algo: \", len(signals))\n",
    "print(\"Double-checking how many buy and sell counts we got: \", buy_count + sell_count)"
   ]
  },
  {
   "cell_type": "code",
   "execution_count": 166,
   "metadata": {},
   "outputs": [
    {
     "data": {
      "text/plain": [
       "['buy',\n",
       " 'buy',\n",
       " 'buy',\n",
       " 'buy',\n",
       " 'buy',\n",
       " 'buy',\n",
       " 'buy',\n",
       " 'buy',\n",
       " 'buy',\n",
       " 'buy',\n",
       " 'buy',\n",
       " 'buy',\n",
       " 'buy',\n",
       " 'buy',\n",
       " 'buy',\n",
       " 'buy',\n",
       " 'buy',\n",
       " 'buy',\n",
       " 'buy',\n",
       " 'buy',\n",
       " 'buy',\n",
       " 'buy',\n",
       " 'buy',\n",
       " 'sell',\n",
       " 'sell',\n",
       " 'sell',\n",
       " 'buy',\n",
       " 'sell',\n",
       " 'sell',\n",
       " 'sell',\n",
       " 'sell',\n",
       " 'buy',\n",
       " 'buy',\n",
       " 'sell',\n",
       " 'buy',\n",
       " 'buy',\n",
       " 'buy',\n",
       " 'buy',\n",
       " 'buy',\n",
       " 'sell',\n",
       " 'sell',\n",
       " 'sell',\n",
       " 'sell',\n",
       " 'sell',\n",
       " 'buy',\n",
       " 'buy',\n",
       " 'buy',\n",
       " 'buy',\n",
       " 'buy',\n",
       " 'buy',\n",
       " 'sell',\n",
       " 'sell',\n",
       " 'sell',\n",
       " 'sell',\n",
       " 'sell',\n",
       " 'sell',\n",
       " 'sell',\n",
       " 'sell',\n",
       " 'sell',\n",
       " 'buy',\n",
       " 'buy',\n",
       " 'buy',\n",
       " 'buy',\n",
       " 'buy',\n",
       " 'buy',\n",
       " 'buy',\n",
       " 'buy',\n",
       " 'buy',\n",
       " 'buy',\n",
       " 'buy',\n",
       " 'buy',\n",
       " 'buy',\n",
       " 'sell',\n",
       " 'sell',\n",
       " 'sell',\n",
       " 'sell',\n",
       " 'sell',\n",
       " 'sell',\n",
       " 'sell',\n",
       " 'sell',\n",
       " 'buy',\n",
       " 'buy',\n",
       " 'buy',\n",
       " 'buy',\n",
       " 'buy',\n",
       " 'buy',\n",
       " 'buy',\n",
       " 'sell',\n",
       " 'sell',\n",
       " 'sell',\n",
       " 'buy',\n",
       " 'sell',\n",
       " 'sell',\n",
       " 'sell',\n",
       " 'sell']"
      ]
     },
     "execution_count": 166,
     "metadata": {},
     "output_type": "execute_result"
    }
   ],
   "source": [
    "signals"
   ]
  }
 ],
 "metadata": {
  "kernelspec": {
   "display_name": "base",
   "language": "python",
   "name": "python3"
  },
  "language_info": {
   "codemirror_mode": {
    "name": "ipython",
    "version": 3
   },
   "file_extension": ".py",
   "mimetype": "text/x-python",
   "name": "python",
   "nbconvert_exporter": "python",
   "pygments_lexer": "ipython3",
   "version": "3.9.13"
  }
 },
 "nbformat": 4,
 "nbformat_minor": 2
}
